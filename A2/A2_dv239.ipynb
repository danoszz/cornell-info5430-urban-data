{
 "cells": [
  {
   "cell_type": "markdown",
   "id": "778aa4bf",
   "metadata": {
    "id": "cVnfDFJuqL2H"
   },
   "source": [
    "## Assignment 2\n",
    "\n",
    "Responding to recent news stories about how COVID has had a larger impact on underserved racial and socioeconomic groups, the New York City government has asked you to look at the correlation across zipcodes between Census demographics (income and race) and  COVID impacts (case, death, and positivity rates). Unfortunately, the data you have been given for this assignment is, like many real world datasets, very messy, so you will need to clean it with care. \n",
    "\n",
    "\n",
    "*Note: in this assignment, we artifically introduced errors into the data to help introduce concepts - this is not the original data provided by the New York government or by the Census Bureau. Please don't tweet angry things at the city government and get us fired :)*\n",
    "\n",
    "*To make this assignment less frustrating for you, we have included sanity checks throughout to make sure you are on the right track. Please pay attention to these sanity checks! If you are not passing them, it is a sign something has gone wrong. In the real world, of course, you would not have these sanity checks, which is why data cleaning is hard and frustrating.*"
   ]
  },
  {
   "cell_type": "markdown",
   "id": "a67219c6",
   "metadata": {
    "id": "oUS36EMoqL2I"
   },
   "source": [
    "#### A first challenge is even figuring out which columns you want. Read the codebook for Census data (you can find this in the data folder with the other data files)  to figure out which column provides the median income for each zipcode. Drop the rows with missing values (NA or None) in this column and change its name into \"median_income\". (5 points)\n",
    "\n",
    "*Sanity check: you will have 30,824 rows in census data after this step.*"
   ]
  },
  {
   "cell_type": "code",
   "execution_count": 3,
   "id": "ea2b5cef",
   "metadata": {
    "id": "FjcWUFpZqL2I",
    "scrolled": true
   },
   "outputs": [
    {
     "data": {
      "text/plain": [
       "(30824, 82)"
      ]
     },
     "execution_count": 3,
     "metadata": {},
     "output_type": "execute_result"
    }
   ],
   "source": [
    "# import pandas\n",
    "import pandas as pd\n",
    "\n",
    "# load Census Data csv into dataframe\n",
    "dfCensus = pd.read_csv ('./a2-data/messy_nhgis0004_ds244_20195_2019_zcta.csv')\n",
    "\n",
    "# find median income via .txt file - ALW1E001  AND change name column to \"medium_income\"\n",
    "dfCensus.rename(columns = {\"ALW1E001\": \"median_income\"}, inplace = True)\n",
    "\n",
    "# drop NA or None values\n",
    "dfCensus = dfCensus.dropna(subset=['median_income'])\n",
    "\n",
    "# print shape size\n",
    "dfCensus.shape"
   ]
  },
  {
   "cell_type": "markdown",
   "id": "a0037411",
   "metadata": {
    "id": "rEzc67HyqL2J"
   },
   "source": [
    "#### Use two of the columns in the Census data to compute the fraction of people who are white non-Hispanic in each zipcode. Add this column to the Census dataframe and call it \"white_non_hispanic_frac\". (5 points)\n",
    "*Sanity check: the mean value of \"white_non_hispanic\" is around 0.764*"
   ]
  },
  {
   "cell_type": "code",
   "execution_count": 4,
   "id": "d8f5b5a1",
   "metadata": {
    "id": "1aW04CviqL2J"
   },
   "outputs": [
    {
     "data": {
      "text/plain": [
       "0.7641021559721349"
      ]
     },
     "execution_count": 4,
     "metadata": {},
     "output_type": "execute_result"
    }
   ],
   "source": [
    "dfCensus['white_non_hispanic_frac'] = dfCensus[\"ALUKE003\"] / dfCensus[\"ALUKE001\"]  # calc fraction from non-hispanic white over total group\n",
    "\n",
    "dfCensus[\"white_non_hispanic_frac\"].mean() "
   ]
  },
  {
   "cell_type": "markdown",
   "id": "7cc7a0a0",
   "metadata": {
    "id": "Ye1p0KvZqL2K"
   },
   "source": [
    "Now we have to find keys to merge the Census dataset with the COVID dataset. Look for a key in the Census dataset which corresponds to a location grouping you can use to merge with the COVID data. Unfortunately, the closest thing you can find is ZCTA, and the only thing in the New York City COVID data is MODZCTA. Read this documentation, which explains the difference - https://github.com/nychealth/coronavirus-data#geography-zip-codes-and-zctas. Basically, multiple ZCTAs can map to a single MODZCTA. \n",
    "\n",
    "To address this problem, you need to modify the Census data by filtering for ZCTAs which appear in the MODZCTA table and merging the Census data with the MODZCTA table using pd.merge. Prior to doing this merge, be sure that any keys you expect to be be unique in the Census data (ie, different in every row) are really unique, as we discussed in class - drop duplicate rows if necessary!\n",
    "\n",
    "#### After doing the merge, you will be left with a dataframe which has multiple rows for some MODZCTAs; combine rows which correspond to the same MODZCTA into a single row. Every time you combine multiple rows, combine the values for white_non_hispanic and median_income by taking the mean. You can do this using the pandas groupby and agg commands. (20 points)\n",
    "\n",
    "*Sanity check: If you did this step correctly, you should be left with a Census table which contains 177 rows.*"
   ]
  },
  {
   "cell_type": "code",
   "execution_count": 5,
   "id": "1d43474f",
   "metadata": {
    "id": "3leP-2UlSv7i",
    "scrolled": true
   },
   "outputs": [
    {
     "data": {
      "text/html": [
       "<div>\n",
       "<style scoped>\n",
       "    .dataframe tbody tr th:only-of-type {\n",
       "        vertical-align: middle;\n",
       "    }\n",
       "\n",
       "    .dataframe tbody tr th {\n",
       "        vertical-align: top;\n",
       "    }\n",
       "\n",
       "    .dataframe thead th {\n",
       "        text-align: right;\n",
       "    }\n",
       "</style>\n",
       "<table border=\"1\" class=\"dataframe\">\n",
       "  <thead>\n",
       "    <tr style=\"text-align: right;\">\n",
       "      <th></th>\n",
       "      <th>white_non_hispanic_frac</th>\n",
       "      <th>median_income</th>\n",
       "    </tr>\n",
       "  </thead>\n",
       "  <tbody>\n",
       "    <tr>\n",
       "      <th>count</th>\n",
       "      <td>177.000000</td>\n",
       "      <td>177.000000</td>\n",
       "    </tr>\n",
       "    <tr>\n",
       "      <th>mean</th>\n",
       "      <td>0.363369</td>\n",
       "      <td>77805.544256</td>\n",
       "    </tr>\n",
       "    <tr>\n",
       "      <th>std</th>\n",
       "      <td>0.257827</td>\n",
       "      <td>38102.910089</td>\n",
       "    </tr>\n",
       "    <tr>\n",
       "      <th>min</th>\n",
       "      <td>0.010038</td>\n",
       "      <td>21447.000000</td>\n",
       "    </tr>\n",
       "    <tr>\n",
       "      <th>25%</th>\n",
       "      <td>0.118419</td>\n",
       "      <td>54184.000000</td>\n",
       "    </tr>\n",
       "    <tr>\n",
       "      <th>50%</th>\n",
       "      <td>0.355179</td>\n",
       "      <td>70793.000000</td>\n",
       "    </tr>\n",
       "    <tr>\n",
       "      <th>75%</th>\n",
       "      <td>0.587448</td>\n",
       "      <td>93364.333333</td>\n",
       "    </tr>\n",
       "    <tr>\n",
       "      <th>max</th>\n",
       "      <td>0.910724</td>\n",
       "      <td>250001.000000</td>\n",
       "    </tr>\n",
       "  </tbody>\n",
       "</table>\n",
       "</div>"
      ],
      "text/plain": [
       "       white_non_hispanic_frac  median_income\n",
       "count               177.000000     177.000000\n",
       "mean                  0.363369   77805.544256\n",
       "std                   0.257827   38102.910089\n",
       "min                   0.010038   21447.000000\n",
       "25%                   0.118419   54184.000000\n",
       "50%                   0.355179   70793.000000\n",
       "75%                   0.587448   93364.333333\n",
       "max                   0.910724  250001.000000"
      ]
     },
     "execution_count": 5,
     "metadata": {},
     "output_type": "execute_result"
    }
   ],
   "source": [
    "# load MODZCTA Table Data csv into dataframe\n",
    "dfModzcta = pd.read_csv ('./a2-data/messy_ZCTA-to-MODZCTA.csv')\n",
    "\n",
    "# drop duplicates and drop nan values in columns\n",
    "dfModzcta = dfModzcta.drop_duplicates(subset=['ZCTA'])\n",
    "dfCensus = dfCensus.drop_duplicates()\n",
    "\n",
    "# drop duplications, merge the modzcta table on keys 'zcta5a' and 'zcta', grouping by 'modzcta' and aggregate by taking taking the mean \n",
    "dfCensusMerged = dfCensus.merge(dfModzcta, left_on='ZCTA5A', right_on='ZCTA').groupby(\"MODZCTA\").agg({'white_non_hispanic_frac': 'mean', 'median_income': 'mean'})\n",
    "\n",
    "# reset index\n",
    "dfCensusMerged.reset_index(inplace=True)\n",
    "\n",
    "dfCensusMerged.describe()"
   ]
  },
  {
   "cell_type": "code",
   "execution_count": null,
   "id": "f5a34517",
   "metadata": {},
   "outputs": [],
   "source": []
  },
  {
   "cell_type": "markdown",
   "id": "6f29bd4c",
   "metadata": {
    "id": "sc_XkLHXSv7j"
   },
   "source": [
    "#### Now we have a Census data table we can merge with the NYC COVID data. Merge the two datasets using MODZCTA as the merge key. As we discussed in class, you may need to write some extra code to make sure that the keys in the two different tables are in the exact same format (for example, if one is an integer, the other should be an integer as well, or the merge will not work) (5 points) ####"
   ]
  },
  {
   "cell_type": "code",
   "execution_count": 6,
   "id": "d43d925c",
   "metadata": {
    "id": "Imztkl95qL2M",
    "scrolled": true
   },
   "outputs": [
    {
     "data": {
      "text/html": [
       "<div>\n",
       "<style scoped>\n",
       "    .dataframe tbody tr th:only-of-type {\n",
       "        vertical-align: middle;\n",
       "    }\n",
       "\n",
       "    .dataframe tbody tr th {\n",
       "        vertical-align: top;\n",
       "    }\n",
       "\n",
       "    .dataframe thead th {\n",
       "        text-align: right;\n",
       "    }\n",
       "</style>\n",
       "<table border=\"1\" class=\"dataframe\">\n",
       "  <thead>\n",
       "    <tr style=\"text-align: right;\">\n",
       "      <th></th>\n",
       "      <th>MODZCTA</th>\n",
       "      <th>white_non_hispanic_frac</th>\n",
       "      <th>median_income</th>\n",
       "      <th>MODIFIED_ZCTA</th>\n",
       "      <th>lat</th>\n",
       "      <th>lon</th>\n",
       "      <th>COVID_CASE_COUNT</th>\n",
       "      <th>COVID_CASE_RATE</th>\n",
       "      <th>POP_DENOMINATOR</th>\n",
       "      <th>COVID_DEATH_COUNT</th>\n",
       "      <th>COVID_DEATH_RATE</th>\n",
       "      <th>PERCENT_POSITIVE</th>\n",
       "      <th>TOTAL_COVID_TESTS</th>\n",
       "    </tr>\n",
       "  </thead>\n",
       "  <tbody>\n",
       "    <tr>\n",
       "      <th>count</th>\n",
       "      <td>177.000000</td>\n",
       "      <td>177.000000</td>\n",
       "      <td>177.000000</td>\n",
       "      <td>177.000000</td>\n",
       "      <td>177.000000</td>\n",
       "      <td>177.000000</td>\n",
       "      <td>177.000000</td>\n",
       "      <td>177.000000</td>\n",
       "      <td>177.000000</td>\n",
       "      <td>177.000000</td>\n",
       "      <td>177.000000</td>\n",
       "      <td>177.000000</td>\n",
       "      <td>177.000000</td>\n",
       "    </tr>\n",
       "    <tr>\n",
       "      <th>mean</th>\n",
       "      <td>10810.378531</td>\n",
       "      <td>0.363369</td>\n",
       "      <td>77805.544256</td>\n",
       "      <td>10810.378531</td>\n",
       "      <td>40.725552</td>\n",
       "      <td>-73.918805</td>\n",
       "      <td>4269.734463</td>\n",
       "      <td>-36834.250395</td>\n",
       "      <td>47100.661356</td>\n",
       "      <td>156.903955</td>\n",
       "      <td>313.450395</td>\n",
       "      <td>12.769492</td>\n",
       "      <td>31836.949153</td>\n",
       "    </tr>\n",
       "    <tr>\n",
       "      <th>std</th>\n",
       "      <td>578.173317</td>\n",
       "      <td>0.257827</td>\n",
       "      <td>38102.910089</td>\n",
       "      <td>578.173317</td>\n",
       "      <td>0.083648</td>\n",
       "      <td>0.099659</td>\n",
       "      <td>2780.595978</td>\n",
       "      <td>210166.276084</td>\n",
       "      <td>26151.569294</td>\n",
       "      <td>117.267598</td>\n",
       "      <td>145.522976</td>\n",
       "      <td>4.880957</td>\n",
       "      <td>17220.295085</td>\n",
       "    </tr>\n",
       "    <tr>\n",
       "      <th>min</th>\n",
       "      <td>10001.000000</td>\n",
       "      <td>0.010038</td>\n",
       "      <td>21447.000000</td>\n",
       "      <td>10001.000000</td>\n",
       "      <td>40.507771</td>\n",
       "      <td>-74.242270</td>\n",
       "      <td>168.000000</td>\n",
       "      <td>-999999.000000</td>\n",
       "      <td>2972.120000</td>\n",
       "      <td>0.000000</td>\n",
       "      <td>0.000000</td>\n",
       "      <td>0.000000</td>\n",
       "      <td>2691.000000</td>\n",
       "    </tr>\n",
       "    <tr>\n",
       "      <th>25%</th>\n",
       "      <td>10301.000000</td>\n",
       "      <td>0.118419</td>\n",
       "      <td>54184.000000</td>\n",
       "      <td>10301.000000</td>\n",
       "      <td>40.670819</td>\n",
       "      <td>-73.978704</td>\n",
       "      <td>2030.000000</td>\n",
       "      <td>6317.060000</td>\n",
       "      <td>27180.770000</td>\n",
       "      <td>64.000000</td>\n",
       "      <td>225.010000</td>\n",
       "      <td>8.840000</td>\n",
       "      <td>18582.000000</td>\n",
       "    </tr>\n",
       "    <tr>\n",
       "      <th>50%</th>\n",
       "      <td>11109.000000</td>\n",
       "      <td>0.355179</td>\n",
       "      <td>70793.000000</td>\n",
       "      <td>11109.000000</td>\n",
       "      <td>40.726441</td>\n",
       "      <td>-73.924048</td>\n",
       "      <td>3565.000000</td>\n",
       "      <td>8704.640000</td>\n",
       "      <td>42737.280000</td>\n",
       "      <td>124.000000</td>\n",
       "      <td>310.900000</td>\n",
       "      <td>14.150000</td>\n",
       "      <td>29383.000000</td>\n",
       "    </tr>\n",
       "    <tr>\n",
       "      <th>75%</th>\n",
       "      <td>11361.000000</td>\n",
       "      <td>0.587448</td>\n",
       "      <td>93364.333333</td>\n",
       "      <td>11361.000000</td>\n",
       "      <td>40.776432</td>\n",
       "      <td>-73.846984</td>\n",
       "      <td>6107.000000</td>\n",
       "      <td>10619.150000</td>\n",
       "      <td>66856.310000</td>\n",
       "      <td>229.000000</td>\n",
       "      <td>388.220000</td>\n",
       "      <td>16.260000</td>\n",
       "      <td>44749.000000</td>\n",
       "    </tr>\n",
       "    <tr>\n",
       "      <th>max</th>\n",
       "      <td>11697.000000</td>\n",
       "      <td>0.910724</td>\n",
       "      <td>250001.000000</td>\n",
       "      <td>11697.000000</td>\n",
       "      <td>40.899509</td>\n",
       "      <td>-73.710907</td>\n",
       "      <td>11985.000000</td>\n",
       "      <td>16830.670000</td>\n",
       "      <td>110369.780000</td>\n",
       "      <td>540.000000</td>\n",
       "      <td>944.530000</td>\n",
       "      <td>20.400000</td>\n",
       "      <td>78120.000000</td>\n",
       "    </tr>\n",
       "  </tbody>\n",
       "</table>\n",
       "</div>"
      ],
      "text/plain": [
       "            MODZCTA  white_non_hispanic_frac  median_income  MODIFIED_ZCTA  \\\n",
       "count    177.000000               177.000000     177.000000     177.000000   \n",
       "mean   10810.378531                 0.363369   77805.544256   10810.378531   \n",
       "std      578.173317                 0.257827   38102.910089     578.173317   \n",
       "min    10001.000000                 0.010038   21447.000000   10001.000000   \n",
       "25%    10301.000000                 0.118419   54184.000000   10301.000000   \n",
       "50%    11109.000000                 0.355179   70793.000000   11109.000000   \n",
       "75%    11361.000000                 0.587448   93364.333333   11361.000000   \n",
       "max    11697.000000                 0.910724  250001.000000   11697.000000   \n",
       "\n",
       "              lat         lon  COVID_CASE_COUNT  COVID_CASE_RATE  \\\n",
       "count  177.000000  177.000000        177.000000       177.000000   \n",
       "mean    40.725552  -73.918805       4269.734463    -36834.250395   \n",
       "std      0.083648    0.099659       2780.595978    210166.276084   \n",
       "min     40.507771  -74.242270        168.000000   -999999.000000   \n",
       "25%     40.670819  -73.978704       2030.000000      6317.060000   \n",
       "50%     40.726441  -73.924048       3565.000000      8704.640000   \n",
       "75%     40.776432  -73.846984       6107.000000     10619.150000   \n",
       "max     40.899509  -73.710907      11985.000000     16830.670000   \n",
       "\n",
       "       POP_DENOMINATOR  COVID_DEATH_COUNT  COVID_DEATH_RATE  PERCENT_POSITIVE  \\\n",
       "count       177.000000         177.000000        177.000000        177.000000   \n",
       "mean      47100.661356         156.903955        313.450395         12.769492   \n",
       "std       26151.569294         117.267598        145.522976          4.880957   \n",
       "min        2972.120000           0.000000          0.000000          0.000000   \n",
       "25%       27180.770000          64.000000        225.010000          8.840000   \n",
       "50%       42737.280000         124.000000        310.900000         14.150000   \n",
       "75%       66856.310000         229.000000        388.220000         16.260000   \n",
       "max      110369.780000         540.000000        944.530000         20.400000   \n",
       "\n",
       "       TOTAL_COVID_TESTS  \n",
       "count         177.000000  \n",
       "mean        31836.949153  \n",
       "std         17220.295085  \n",
       "min          2691.000000  \n",
       "25%         18582.000000  \n",
       "50%         29383.000000  \n",
       "75%         44749.000000  \n",
       "max         78120.000000  "
      ]
     },
     "execution_count": 6,
     "metadata": {},
     "output_type": "execute_result"
    }
   ],
   "source": [
    "# import covid dataset\n",
    "dfCovid = pd.read_csv ('./a2-data/messy_covid_data.csv')\n",
    "\n",
    "# convert columns to integers\n",
    "dfCensusMerged['MODZCTA'] = dfCensusMerged.MODZCTA.str[1:].astype('int64')\n",
    "\n",
    "# merge datasets\n",
    "dfCovidCensusMerged = dfCensusMerged.merge(dfCovid, left_on='MODZCTA', right_on='MODIFIED_ZCTA')\n",
    "\n",
    "# print results\n",
    "dfCovidCensusMerged.describe()"
   ]
  },
  {
   "cell_type": "markdown",
   "id": "781fb330",
   "metadata": {
    "id": "6i4gMCI0qL2M"
   },
   "source": [
    "#### Now compute the correlations across MODZCTAs between the white non-Hispanic fraction, the median income, and the COVID case and death rates and percent positive. If you want to compute correlations between all five of these variables at once, you can use the pandas method \"corr\".  (5 points) #### "
   ]
  },
  {
   "cell_type": "code",
   "execution_count": 7,
   "id": "12a8b69e",
   "metadata": {
    "id": "BQxe44fAqL2N",
    "outputId": "a263773d-87b4-4ffb-afd6-ff0fc95f96e6"
   },
   "outputs": [
    {
     "data": {
      "image/png": "[encoded data removed]",
      "text/plain": [
       "<Figure size 864x576 with 2 Axes>"
      ]
     },
     "metadata": {
      "needs_background": "light"
     },
     "output_type": "display_data"
    },
    {
     "name": "stdout",
     "output_type": "stream",
     "text": [
      "                         COVID_CASE_RATE  COVID_DEATH_RATE  PERCENT_POSITIVE  \\\n",
      "COVID_CASE_RATE                 1.000000         -0.188458          0.579739   \n",
      "COVID_DEATH_RATE               -0.188458          1.000000          0.386285   \n",
      "PERCENT_POSITIVE                0.579739          0.386285          1.000000   \n",
      "white_non_hispanic_frac         0.267831         -0.469271         -0.192959   \n",
      "median_income                   0.286642         -0.634857         -0.346742   \n",
      "\n",
      "                         white_non_hispanic_frac  median_income  \n",
      "COVID_CASE_RATE                         0.267831       0.286642  \n",
      "COVID_DEATH_RATE                       -0.469271      -0.634857  \n",
      "PERCENT_POSITIVE                       -0.192959      -0.346742  \n",
      "white_non_hispanic_frac                 1.000000       0.676294  \n",
      "median_income                           0.676294       1.000000  \n"
     ]
    }
   ],
   "source": [
    "import matplotlib.pyplot as plt\n",
    "\n",
    "correlationColumns = [\n",
    "    \"COVID_CASE_RATE\",\n",
    "    \"COVID_DEATH_RATE\",\n",
    "    \"PERCENT_POSITIVE\",\n",
    "    \"white_non_hispanic_frac\",\n",
    "    \"median_income\"\n",
    "]\n",
    "\n",
    "# selected and group data by modzcta\n",
    "dfSelected = dfCovidCensusMerged.groupby(by='MODZCTA').mean() # get mean across modzctas\n",
    "dfGrouped = dfSelected.filter(correlationColumns, axis=1)\n",
    "\n",
    "# plot a correlation matrix graph \n",
    "# source: https://stackoverflow.com/questions/29432629/plot-correlation-matrix-using-pandas\n",
    "\n",
    "f = plt.figure(figsize=(12, 8))\n",
    "plt.matshow(dfGrouped.corr(), fignum=f.number)\n",
    "plt.xticks(range(dfGrouped.select_dtypes(['number']).shape[1]), dfGrouped.select_dtypes(['number']).columns, fontsize=10, rotation=45)\n",
    "plt.yticks(range(dfGrouped.select_dtypes(['number']).shape[1]), dfGrouped.select_dtypes(['number']).columns, fontsize=10)\n",
    "cb = plt.colorbar()\n",
    "cb.ax.tick_params(labelsize=10)\n",
    "plt.title('Correlation Matrix across MODZCTAs', fontsize=16)\n",
    "\n",
    "\n",
    "plt.show()\n",
    "\n",
    "print(dfGrouped.corr())\n"
   ]
  },
  {
   "cell_type": "markdown",
   "id": "f80fa313",
   "metadata": {
    "id": "gisYg3NiqL2O"
   },
   "source": [
    "#### Are the correlations in the directions you expect? Write a couple sentences interpreting the direction of the correlations. (5 points) #### "
   ]
  },
  {
   "cell_type": "markdown",
   "id": "bc39c3fe",
   "metadata": {
    "id": "vkI9rM0rSv7l"
   },
   "source": [
    "First of all, there are a The Median Income highly correlates with the white non hispanic fraction, but not with the death rate. Within this race group, the death rates is most significant apart and therefor correlates less. Moreover, COVID Death Rates correlates most to the percentage of positive in the tested group, which is in the line of expectations. It seems that the case rate is not very impactful on the death rate, which is interesting. \n",
    "\n",
    "This is the first time analyzing a correlation matrix, therefor I had no other prior assumptions. Besides, I found it insightful that the printed table created more value for the reader that the graph. This is mostly because the level of detail and amount of variables can't create a significante gradient pattern.\n"
   ]
  },
  {
   "cell_type": "markdown",
   "id": "a0bf8da5",
   "metadata": {
    "id": "H0ydhN8gqL2O"
   },
   "source": [
    "#### It turns out that several of these five columns have bad values that we still haven't filtered out. Use the pandas method \"describe\" to find values which are implausibly large or small. Print out the results here and explain your interpretation. (10 points) ####"
   ]
  },
  {
   "cell_type": "code",
   "execution_count": 8,
   "id": "a06e0683",
   "metadata": {
    "id": "ClW-jBGrqL2O",
    "outputId": "811b9091-373a-42ec-c300-d9c82b76dbd4"
   },
   "outputs": [
    {
     "data": {
      "text/html": [
       "<div>\n",
       "<style scoped>\n",
       "    .dataframe tbody tr th:only-of-type {\n",
       "        vertical-align: middle;\n",
       "    }\n",
       "\n",
       "    .dataframe tbody tr th {\n",
       "        vertical-align: top;\n",
       "    }\n",
       "\n",
       "    .dataframe thead th {\n",
       "        text-align: right;\n",
       "    }\n",
       "</style>\n",
       "<table border=\"1\" class=\"dataframe\">\n",
       "  <thead>\n",
       "    <tr style=\"text-align: right;\">\n",
       "      <th></th>\n",
       "      <th>COVID_CASE_RATE</th>\n",
       "      <th>COVID_DEATH_RATE</th>\n",
       "      <th>PERCENT_POSITIVE</th>\n",
       "      <th>white_non_hispanic_frac</th>\n",
       "      <th>median_income</th>\n",
       "    </tr>\n",
       "  </thead>\n",
       "  <tbody>\n",
       "    <tr>\n",
       "      <th>count</th>\n",
       "      <td>177.000000</td>\n",
       "      <td>177.000000</td>\n",
       "      <td>177.000000</td>\n",
       "      <td>177.000000</td>\n",
       "      <td>177.000000</td>\n",
       "    </tr>\n",
       "    <tr>\n",
       "      <th>mean</th>\n",
       "      <td>-36834.250395</td>\n",
       "      <td>313.450395</td>\n",
       "      <td>12.769492</td>\n",
       "      <td>0.363369</td>\n",
       "      <td>77805.544256</td>\n",
       "    </tr>\n",
       "    <tr>\n",
       "      <th>std</th>\n",
       "      <td>210166.276084</td>\n",
       "      <td>145.522976</td>\n",
       "      <td>4.880957</td>\n",
       "      <td>0.257827</td>\n",
       "      <td>38102.910089</td>\n",
       "    </tr>\n",
       "    <tr>\n",
       "      <th>min</th>\n",
       "      <td>-999999.000000</td>\n",
       "      <td>0.000000</td>\n",
       "      <td>0.000000</td>\n",
       "      <td>0.010038</td>\n",
       "      <td>21447.000000</td>\n",
       "    </tr>\n",
       "    <tr>\n",
       "      <th>25%</th>\n",
       "      <td>6317.060000</td>\n",
       "      <td>225.010000</td>\n",
       "      <td>8.840000</td>\n",
       "      <td>0.118419</td>\n",
       "      <td>54184.000000</td>\n",
       "    </tr>\n",
       "    <tr>\n",
       "      <th>50%</th>\n",
       "      <td>8704.640000</td>\n",
       "      <td>310.900000</td>\n",
       "      <td>14.150000</td>\n",
       "      <td>0.355179</td>\n",
       "      <td>70793.000000</td>\n",
       "    </tr>\n",
       "    <tr>\n",
       "      <th>75%</th>\n",
       "      <td>10619.150000</td>\n",
       "      <td>388.220000</td>\n",
       "      <td>16.260000</td>\n",
       "      <td>0.587448</td>\n",
       "      <td>93364.333333</td>\n",
       "    </tr>\n",
       "    <tr>\n",
       "      <th>max</th>\n",
       "      <td>16830.670000</td>\n",
       "      <td>944.530000</td>\n",
       "      <td>20.400000</td>\n",
       "      <td>0.910724</td>\n",
       "      <td>250001.000000</td>\n",
       "    </tr>\n",
       "  </tbody>\n",
       "</table>\n",
       "</div>"
      ],
      "text/plain": [
       "       COVID_CASE_RATE  COVID_DEATH_RATE  PERCENT_POSITIVE  \\\n",
       "count       177.000000        177.000000        177.000000   \n",
       "mean     -36834.250395        313.450395         12.769492   \n",
       "std      210166.276084        145.522976          4.880957   \n",
       "min     -999999.000000          0.000000          0.000000   \n",
       "25%        6317.060000        225.010000          8.840000   \n",
       "50%        8704.640000        310.900000         14.150000   \n",
       "75%       10619.150000        388.220000         16.260000   \n",
       "max       16830.670000        944.530000         20.400000   \n",
       "\n",
       "       white_non_hispanic_frac  median_income  \n",
       "count               177.000000     177.000000  \n",
       "mean                  0.363369   77805.544256  \n",
       "std                   0.257827   38102.910089  \n",
       "min                   0.010038   21447.000000  \n",
       "25%                   0.118419   54184.000000  \n",
       "50%                   0.355179   70793.000000  \n",
       "75%                   0.587448   93364.333333  \n",
       "max                   0.910724  250001.000000  "
      ]
     },
     "execution_count": 8,
     "metadata": {},
     "output_type": "execute_result"
    }
   ],
   "source": [
    "dfGrouped.describe()"
   ]
  },
  {
   "cell_type": "markdown",
   "id": "3278b55c",
   "metadata": {
    "id": "AttC7DgsSv7m"
   },
   "source": [
    "First of all, in the COVID_CASE RATE there is a mean that is below zero. Moreover, the number -999999 indicates that there might be substitute numbers used in case of missing data. Secondly, the max COVID_DEATH_RATE seems unlikly since it is very far apart from the top 75% and the mean. Same goes for the max in median_income where the highest number is almost 2.5 times as much as the top 75%. To solve this, I would analyse the COVID_CASE_RATE min, the COVID_DEATH_RATE max and the median_income max to find the outliers."
   ]
  },
  {
   "cell_type": "markdown",
   "id": "14e7f9b6",
   "metadata": {
    "id": "oq9w9CQsqL2P"
   },
   "source": [
    "#### Recompute these correlations after removing the rows with these bad values (a tip: look at the abnormal values in covid data). How many rows did you remove? (10 points) ####"
   ]
  },
  {
   "cell_type": "code",
   "execution_count": 9,
   "id": "53d2a0db",
   "metadata": {
    "id": "cPCViNcMqL2P",
    "outputId": "a598de22-8fa3-400a-bc93-1c5dec65bbab"
   },
   "outputs": [
    {
     "name": "stdout",
     "output_type": "stream",
     "text": [
      "\n",
      " \n",
      " Before cleaning\n",
      "                         COVID_CASE_RATE  COVID_DEATH_RATE  PERCENT_POSITIVE  \\\n",
      "COVID_CASE_RATE                 1.000000         -0.188458          0.579739   \n",
      "COVID_DEATH_RATE               -0.188458          1.000000          0.386285   \n",
      "PERCENT_POSITIVE                0.579739          0.386285          1.000000   \n",
      "white_non_hispanic_frac         0.267831         -0.469271         -0.192959   \n",
      "median_income                   0.286642         -0.634857         -0.346742   \n",
      "\n",
      "                         white_non_hispanic_frac  median_income  \n",
      "COVID_CASE_RATE                         0.267831       0.286642  \n",
      "COVID_DEATH_RATE                       -0.469271      -0.634857  \n",
      "PERCENT_POSITIVE                       -0.192959      -0.346742  \n",
      "white_non_hispanic_frac                 1.000000       0.676294  \n",
      "median_income                           0.676294       1.000000  \n",
      "\n",
      " \n",
      " After cleaning\n",
      "                         COVID_CASE_RATE  COVID_DEATH_RATE  PERCENT_POSITIVE  \\\n",
      "COVID_CASE_RATE                 1.000000          0.619944          0.917390   \n",
      "COVID_DEATH_RATE                0.619944          1.000000          0.652616   \n",
      "PERCENT_POSITIVE                0.917390          0.652616          1.000000   \n",
      "white_non_hispanic_frac        -0.265964         -0.495429         -0.432740   \n",
      "median_income                  -0.526859         -0.662160         -0.641479   \n",
      "\n",
      "                         white_non_hispanic_frac  median_income  \n",
      "COVID_CASE_RATE                        -0.265964      -0.526859  \n",
      "COVID_DEATH_RATE                       -0.495429      -0.662160  \n",
      "PERCENT_POSITIVE                       -0.432740      -0.641479  \n",
      "white_non_hispanic_frac                 1.000000       0.676317  \n",
      "median_income                           0.676317       1.000000  \n"
     ]
    }
   ],
   "source": [
    "from scipy import stats\n",
    "import numpy as np\n",
    "\n",
    "# Calculate zindex for dataset and calc absolute value to remove outliers\n",
    "# source: https://www.kite.com/python/answers/how-to-remove-outliers-from-a-pandas-dataframe-in-python\n",
    "dfCleaned = dfGrouped[(np.abs(stats.zscore(dfGrouped)) < 3).all(axis=1)]\n",
    "\n",
    "# 18 total remove rows \n",
    "print(\"\\n \\n Before cleaning\")\n",
    "print(dfGrouped.corr())\n",
    "\n",
    "print(\"\\n \\n After cleaning\")\n",
    "print(dfCleaned.corr())\n"
   ]
  },
  {
   "cell_type": "markdown",
   "id": "bdf756d4",
   "metadata": {
    "id": "JdGrIQDRqL2Q"
   },
   "source": [
    "*If you're doing it correctly, you may have the correlation between median_income and COVID_CASE_RATE as around -0.54766, rather than the positive value you got before (0.286642). This is why it's important to be careful cleaning your data - if you get unlucky, a couple bad datapoints can totally change your conclusions.*\n",
    "\n",
    "Another important lesson here is to use statistical measures which are robust (ie, won't totally break) if you have a few bad datapoints. Conventional correlation (Pearson correlation) can be heavily influenced by outliers, which is why it breaks here. Spearman correlation is less influenced by outliers, for reasons we'll discuss. Compute Spearman correlation using the messy data, without filtering out the bad rows; you will see that it is less sensitive to outliers.\n",
    "\n",
    "#### Another way to make your analyses robust is to run them several different ways: for example, compute both Spearman AND pearson correlation. This is a good idea in general. (5 points) ####"
   ]
  },
  {
   "cell_type": "code",
   "execution_count": 10,
   "id": "cd8875f1",
   "metadata": {
    "id": "W_tydGFCSv7v",
    "outputId": "61fde2ed-d8ef-45ff-8526-bcb1e2ac1792"
   },
   "outputs": [
    {
     "name": "stdout",
     "output_type": "stream",
     "text": [
      "Spearman Correlation\n",
      "                         COVID_CASE_RATE  COVID_DEATH_RATE  PERCENT_POSITIVE  \\\n",
      "COVID_CASE_RATE                 1.000000          0.620466          0.944258   \n",
      "COVID_DEATH_RATE                0.620466          1.000000          0.591607   \n",
      "PERCENT_POSITIVE                0.944258          0.591607          1.000000   \n",
      "white_non_hispanic_frac        -0.325886         -0.528128         -0.385725   \n",
      "median_income                  -0.487241         -0.599818         -0.476974   \n",
      "\n",
      "                         white_non_hispanic_frac  median_income  \n",
      "COVID_CASE_RATE                        -0.325886      -0.487241  \n",
      "COVID_DEATH_RATE                       -0.528128      -0.599818  \n",
      "PERCENT_POSITIVE                       -0.385725      -0.476974  \n",
      "white_non_hispanic_frac                 1.000000       0.690717  \n",
      "median_income                           0.690717       1.000000  \n",
      "\n",
      " \n",
      " Pearson Correlation\n",
      "                         COVID_CASE_RATE  COVID_DEATH_RATE  PERCENT_POSITIVE  \\\n",
      "COVID_CASE_RATE                 1.000000          0.619944          0.917390   \n",
      "COVID_DEATH_RATE                0.619944          1.000000          0.652616   \n",
      "PERCENT_POSITIVE                0.917390          0.652616          1.000000   \n",
      "white_non_hispanic_frac        -0.265964         -0.495429         -0.432740   \n",
      "median_income                  -0.526859         -0.662160         -0.641479   \n",
      "\n",
      "                         white_non_hispanic_frac  median_income  \n",
      "COVID_CASE_RATE                        -0.265964      -0.526859  \n",
      "COVID_DEATH_RATE                       -0.495429      -0.662160  \n",
      "PERCENT_POSITIVE                       -0.432740      -0.641479  \n",
      "white_non_hispanic_frac                 1.000000       0.676317  \n",
      "median_income                           0.676317       1.000000  \n"
     ]
    }
   ],
   "source": [
    "print(\"Spearman Correlation\")\n",
    "print(dfCleaned.corr(method ='spearman'))\n",
    "print(\"\\n \\n Pearson Correlation\")\n",
    "print(dfCleaned.corr(method ='pearson'))\n"
   ]
  },
  {
   "cell_type": "markdown",
   "id": "581a5aee",
   "metadata": {
    "id": "jg6wgHF9qL2Q"
   },
   "source": [
    "#### It's also a good idea to plot the data. Use seaborn's pairplot function to plot all 5 variables, making it obvious that something weird is happening with the original values. (5 points) ####"
   ]
  },
  {
   "cell_type": "code",
   "execution_count": 11,
   "id": "b962be9c",
   "metadata": {
    "id": "xFXI_blHqL2R",
    "outputId": "c5f0595b-6acd-4a03-ecf8-7e1cfdcacf97"
   },
   "outputs": [
    {
     "data": {
      "text/plain": [
       "<seaborn.axisgrid.PairGrid at 0x7fddb701c7f0>"
      ]
     },
     "execution_count": 11,
     "metadata": {},
     "output_type": "execute_result"
    },
    {
     "data": {
      "image/png": "[encoded data removed]",
      "text/plain": [
       "<Figure size 900x900 with 20 Axes>"
      ]
     },
     "metadata": {
      "needs_background": "light"
     },
     "output_type": "display_data"
    }
   ],
   "source": [
    "# import seaborn\n",
    "import seaborn as sns\n",
    "\n",
    "# make pairplot\n",
    "sns.pairplot(dfCleaned, kind='hist', corner=True)"
   ]
  },
  {
   "cell_type": "markdown",
   "id": "66b888da",
   "metadata": {
    "id": "yNah_48-qL2R"
   },
   "source": [
    "#### Using the same merged dataframe you just used, re-calculate the Spearman correlation with same five variables (white non-Hispanic fraction, median income, COVID_CASE_RATE, COVID_DEATH_RATE, and PERCENT_POSITIVE). But this time, use the NEIGHBORHOOD_NAME as a location grouping rather than MODZCTA, as described below (25 points):\n",
    "\n",
    "1. Split up neighborhoods using the \"/\" character. For example, \"Chinatown\" is one neighborhood. And MODZCTAs with the “Chinatown/Lower East Side” label should go into both the Chinatown row and the Lower East Side row.\n",
    "2. Use the mean of all rate/percentage values of a certain neighborhood as its variable. For example, if \"Roosevelt Island\" has two MODZCTAs \"Roosevelt Island/Lenox Hill\" and \"Roosevelt Island/Midtown East\" and these two areas have PERCENT_POSITIVE as 12.00 and 8.00 respectively, then we assume Roosevelt Island has PERCENT_POSITIVE as (12+8)/2=10.00. Similarly, if the median income in \"Roosevelt Island/Lenox Hill\" is 1000, and the median income in \"Roosevelt Island/Midtown East\" is 2200, then we assume that Roosevelt Island has a median income of (2200 + 1000) / 2 = 1600. \n",
    "3. Remove all rows with abnormal COVID data prior to performing this analysis. \n",
    "\n",
    "What do you find?\n",
    "\n",
    "*Sanity check 1: You should find 225 unique neighborhoods before removing rows with abnormal values*\n",
    "\n",
    "*Sanity check 2: The mean of median_income in \"Financial District\" is around $164000 (and you may drop one zipcode row of Financial District due to the lack of data).*"
   ]
  },
  {
   "cell_type": "code",
   "execution_count": 12,
   "id": "4366b7d9",
   "metadata": {
    "id": "UF2YddQGqL2T",
    "outputId": "446dd2a9-0cf7-4593-db2d-7a308414c940"
   },
   "outputs": [
    {
     "name": "stdout",
     "output_type": "stream",
     "text": [
      "225\n",
      "74    163667.75\n",
      "Name: median_income, dtype: float64\n",
      "216380.5 250001.0\n"
     ]
    }
   ],
   "source": [
    "# set all columns to string, replace whitespaces and split at /\n",
    "dfCovidCensusMerged['NEIGHBORHOOD_NAME'] = dfCovidCensusMerged['NEIGHBORHOOD_NAME'].astype(str)\n",
    "dfCovidCensusMerged['NEIGHBORHOOD_NAME'] = dfCovidCensusMerged.NEIGHBORHOOD_NAME.str.replace(\" \", \"\")\n",
    "dfCovidCensusMerged['NEIGHBORHOOD_NAME'] = dfCovidCensusMerged.NEIGHBORHOOD_NAME.str.split(\"/\")\n",
    "\n",
    "# ;oop over all neighbourhoods, put them in new object, find unique neighborhood → append as a new row via Function (2)\n",
    "\n",
    "totalNeighborhoods = []\n",
    "\n",
    "for val in dfCovidCensusMerged.NEIGHBORHOOD_NAME:\n",
    "    totalNeighborhoods += val\n",
    "\n",
    "# sanity check 1: length of total elements in array to check if its working // 225\n",
    "print(len(set(totalNeighborhoods)))\n",
    "\n",
    "# transform each element to a row in dataframe with .explode\n",
    "dfExploded = dfCovidCensusMerged.explode(column='NEIGHBORHOOD_NAME')\n",
    "\n",
    "# created new df with above results and grouped by earlier correlation columns, get mean and reset index\n",
    "dfNeighborhoods = dfExploded.groupby('NEIGHBORHOOD_NAME')[correlationColumns].mean().reset_index()\n",
    "\n",
    "# sanity check 2: on median income in financial district // 163667.75\n",
    "print(dfNeighborhoods[dfNeighborhoods.NEIGHBORHOOD_NAME == \"FinancialDistrict\"].median_income)\n",
    "\n",
    "# get correlation in neighbours covid cases with spearman and round result\n",
    "dfNeighborhoods[dfNeighborhoods.COVID_CASE_RATE >= 0].corr(method='spearman').round(2)\n",
    "\n",
    "# find absolute differences in correlation in datasets\n",
    "abs(dfNeighborhoods[dfNeighborhoods.COVID_CASE_RATE >= 0].corr(method='spearman').round(2) - dfCovidCensusMerged[correlationColumns].corr(method='spearman').round(2))\n",
    "\n",
    "# print results\n",
    "print(dfNeighborhoods.median_income.max(), dfCovidCensusMerged.median_income.max())\n"
   ]
  },
  {
   "cell_type": "markdown",
   "id": "614fbcff",
   "metadata": {
    "id": "8x9hWCpjSv7y"
   },
   "source": []
  },
  {
   "cell_type": "code",
   "execution_count": null,
   "id": "5591b1b3",
   "metadata": {},
   "outputs": [],
   "source": []
  }
 ],
 "metadata": {
  "colab": {
   "collapsed_sections": [],
   "name": "Assignment 2 (answered).ipynb",
   "provenance": []
  },
  "kernelspec": {
   "display_name": "Python 3 (ipykernel)",
   "language": "python",
   "name": "python3"
  },
  "language_info": {
   "codemirror_mode": {
    "name": "ipython",
    "version": 3
   },
   "file_extension": ".py",
   "mimetype": "text/x-python",
   "name": "python",
   "nbconvert_exporter": "python",
   "pygments_lexer": "ipython3",
   "version": "3.9.7"
  }
 },
 "nbformat": 4,
 "nbformat_minor": 5
}
