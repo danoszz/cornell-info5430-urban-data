{
 "cells": [
  {
   "cell_type": "code",
   "execution_count": 1,
   "metadata": {
    "id": "4McHmg-EjjzU"
   },
   "outputs": [],
   "source": [
    "import numpy as np\n",
    "import statsmodels.api as sm\n",
    "from scipy.stats import linregress, pearsonr, spearmanr\n",
    "import pandas as pd\n",
    "import matplotlib.pyplot as plt\n",
    "pd.set_option('max_rows', 500)"
   ]
  },
  {
   "cell_type": "markdown",
   "metadata": {
    "id": "0eAK8E7FjjzX"
   },
   "source": [
    "# It's cleanest to illustrate the basics of linear regression on simulated data, so let's start with that. \n",
    "\n",
    "Generate two normally distributed random variables with mean 0 and standard deviation 1. \n"
   ]
  },
  {
   "cell_type": "code",
   "execution_count": 2,
   "metadata": {
    "id": "TBlC13ejjjzX"
   },
   "outputs": [],
   "source": [
    "np.random.seed(0)\n",
    "n = 50000\n",
    "x = np.random.normal(size=n, loc=0, scale=1)\n",
    "noise = np.random.normal(size=n, loc=0, scale=1)\n",
    "y = 3 * x + noise\n",
    "# create dataframe with variables\n",
    "d = pd.DataFrame({'y':y, 'x':x})"
   ]
  },
  {
   "cell_type": "markdown",
   "metadata": {
    "id": "UrW3KI5_jjzY"
   },
   "source": [
    "Before fitting any models, it's always good to start by visualizing your variables. "
   ]
  },
  {
   "cell_type": "code",
   "execution_count": 3,
   "metadata": {
    "id": "OP5N1fAnjjzY",
    "outputId": "a2eaa496-6ee1-4823-89b5-1621b687be2a"
   },
   "outputs": [
    {
     "data": {
      "text/plain": [
       "<matplotlib.collections.PathCollection at 0x7ff9add27580>"
      ]
     },
     "execution_count": 3,
     "metadata": {},
     "output_type": "execute_result"
    },
    {
     "data": {
      "image/png": "[encoded data removed]",
      "text/plain": [
       "<Figure size 432x288 with 1 Axes>"
      ]
     },
     "metadata": {
      "needs_background": "light"
     },
     "output_type": "display_data"
    }
   ],
   "source": [
    "plt.scatter(d['x'], d['y'])"
   ]
  },
  {
   "cell_type": "markdown",
   "metadata": {
    "id": "Dk33Xu0hjjzZ"
   },
   "source": [
    "# In a previous lecture, we saw the use of Pearson and Spearman correlation to summarize the relationships between variables. Let's talk a bit more about what correlation means..."
   ]
  },
  {
   "cell_type": "code",
   "execution_count": 4,
   "metadata": {
    "id": "K-mUImbojjzZ",
    "outputId": "660561f9-cb8d-4c88-f430-cb0c2756ad98"
   },
   "outputs": [
    {
     "data": {
      "text/plain": [
       "0.9484421320740013"
      ]
     },
     "execution_count": 4,
     "metadata": {},
     "output_type": "execute_result"
    }
   ],
   "source": [
    "pearsonr(d['x'], d['y'])[0]"
   ]
  },
  {
   "cell_type": "markdown",
   "metadata": {
    "id": "B0g91LF9jjza"
   },
   "source": [
    "What is the actual mathematical definition of correlation? "
   ]
  },
  {
   "cell_type": "markdown",
   "metadata": {
    "id": "3qbMb2OZjjzb"
   },
   "source": [
    "$$corr(x, y) = \\frac{\\text{E}[(x - \\bar{x}) * (y - \\bar{y})]}{\\sigma_x \\cdot \\sigma_y}$$\n",
    "\n",
    "where $\\bar{x}$ indicates the mean of $x$, $\\sigma_x$ indicates the standard deviation of $x$, and $\\text{E}$ indicates the expected value (which here just means taking the mean over datapoints of the thing in brackets). We can implement this using numpy..."
   ]
  },
  {
   "cell_type": "code",
   "execution_count": 5,
   "metadata": {
    "id": "AGgDVF1Njjzb",
    "outputId": "9c43ee24-5f2c-4e53-97e2-0e77042917c1"
   },
   "outputs": [
    {
     "data": {
      "text/plain": [
       "0.9484421320739984"
      ]
     },
     "execution_count": 5,
     "metadata": {},
     "output_type": "execute_result"
    }
   ],
   "source": [
    "np.mean((d['x'] - d['x'].mean()) * (d['y'] - d['y'].mean())) / (np.std(d['x']) * np.std(d['y']))"
   ]
  },
  {
   "cell_type": "markdown",
   "metadata": {
    "id": "Za3Au_ymjjzc"
   },
   "source": [
    "The correlation between two variables doesn't change if we add a number to one variable or multiply the variable by a number. (Can you see why from staring at the expression for correlation above?)"
   ]
  },
  {
   "cell_type": "code",
   "execution_count": 6,
   "metadata": {
    "id": "aYUDR-3ujjzc",
    "outputId": "19de26a7-0a39-437f-e979-9aee12c1beec"
   },
   "outputs": [
    {
     "data": {
      "text/plain": [
       "0.9484421320740012"
      ]
     },
     "execution_count": 6,
     "metadata": {},
     "output_type": "execute_result"
    }
   ],
   "source": [
    "pearsonr(d['x'] * 5 + 3.29248, d['y'])[0]"
   ]
  },
  {
   "cell_type": "markdown",
   "metadata": {
    "id": "v2NGkRD6jjzc"
   },
   "source": [
    "If x and y are $standardized$ - that is, they have mean 0 and standard deviation 1 - the expression above reduces to \n",
    "\n",
    "$$corr(x, y) = \\text{E}[x * y]$$\n",
    "\n",
    "Datapoints where both x and y are bigger than 0, or smaller than 0, will contribute positively to this expression. Datapoints where the signs of x and y don't match will contribute negatively. So the correlation of the standardized variables will tend to be positive if the signs tend to match, and negative otherwise. \n",
    "\n",
    "What's the intuition for standardized variables? You can think of them as having units of standard deviations. So if $x$ represents the exam score for each student in a class, $x_{\\text{standardized}}$ represents how many standard deviations above or below the class mean a student was. "
   ]
  },
  {
   "cell_type": "markdown",
   "metadata": {
    "id": "8yUbME6hjjzc"
   },
   "source": [
    "We also looked at Spearman correlation"
   ]
  },
  {
   "cell_type": "code",
   "execution_count": 7,
   "metadata": {
    "id": "EzuJcMPljjzd",
    "outputId": "a138df98-209c-4683-d404-6d0e7c39f7f4"
   },
   "outputs": [
    {
     "data": {
      "text/plain": [
       "SpearmanrResult(correlation=0.9435141314899497, pvalue=0.0)"
      ]
     },
     "execution_count": 7,
     "metadata": {},
     "output_type": "execute_result"
    }
   ],
   "source": [
    "spearmanr(d['x'], d['y'])"
   ]
  },
  {
   "cell_type": "markdown",
   "metadata": {
    "id": "b-qpuIfcjjzd"
   },
   "source": [
    "In this case, Pearson and Spearman correlation are very simliar. Why? Under what circumstances would they differ? What is the maximum value of each? "
   ]
  },
  {
   "cell_type": "markdown",
   "metadata": {
    "id": "ZjehsXe_jjzd"
   },
   "source": [
    "Interlude: http://guessthecorrelation.com/"
   ]
  },
  {
   "cell_type": "markdown",
   "metadata": {
    "id": "tf9Tbpy3jjzd"
   },
   "source": [
    "Pearson and Spearman correlation give us nice ways to summarize the strength of the association between two variables in a single number, but they don't actually allow us to predict the value of one variable from another. "
   ]
  },
  {
   "cell_type": "markdown",
   "metadata": {
    "id": "oAGx_jK2jjzd"
   },
   "source": [
    "If we wanted to predict Y from X, one simple thing we could do is divide X into bins, compute the mean value of X in each bin. We round x to the nearest 0.1. "
   ]
  },
  {
   "cell_type": "code",
   "execution_count": 8,
   "metadata": {
    "id": "vhHoydTpjjze",
    "outputId": "b8c12229-d70a-4cbd-d1fd-801eca0410eb"
   },
   "outputs": [
    {
     "data": {
      "text/plain": [
       "binned_x\n",
       "-4.7   -12.055929\n",
       "-4.4   -13.960498\n",
       "-4.0   -11.674883\n",
       "-3.8   -12.032553\n",
       "-3.7   -10.647854\n",
       "-3.6   -11.756570\n",
       "-3.5   -10.566907\n",
       "-3.4    -9.747175\n",
       "-3.3    -9.665418\n",
       "-3.2    -9.191395\n",
       "-3.1    -9.115312\n",
       "-3.0    -9.191067\n",
       "-2.9    -8.679730\n",
       "-2.8    -8.220037\n",
       "-2.7    -8.245484\n",
       "-2.6    -7.719747\n",
       "-2.5    -7.576768\n",
       "-2.4    -7.172951\n",
       "-2.3    -6.864177\n",
       "-2.2    -6.612636\n",
       "-2.1    -6.218283\n",
       "-2.0    -5.939432\n",
       "-1.9    -5.576614\n",
       "-1.8    -5.335515\n",
       "-1.7    -5.043335\n",
       "-1.6    -4.825475\n",
       "-1.5    -4.523152\n",
       "-1.4    -4.173116\n",
       "-1.3    -3.971430\n",
       "-1.2    -3.577035\n",
       "-1.1    -3.279604\n",
       "-1.0    -2.988028\n",
       "-0.9    -2.675521\n",
       "-0.8    -2.404875\n",
       "-0.7    -2.099869\n",
       "-0.6    -1.837074\n",
       "-0.5    -1.504457\n",
       "-0.4    -1.187042\n",
       "-0.3    -0.868084\n",
       "-0.2    -0.573101\n",
       "-0.1    -0.292978\n",
       " 0.0     0.022538\n",
       " 0.1     0.284324\n",
       " 0.2     0.623508\n",
       " 0.3     0.911507\n",
       " 0.4     1.215497\n",
       " 0.5     1.526983\n",
       " 0.6     1.789691\n",
       " 0.7     2.140951\n",
       " 0.8     2.394041\n",
       " 0.9     2.677649\n",
       " 1.0     3.003162\n",
       " 1.1     3.348775\n",
       " 1.2     3.592934\n",
       " 1.3     3.857319\n",
       " 1.4     4.264428\n",
       " 1.5     4.482059\n",
       " 1.6     4.758993\n",
       " 1.7     5.106609\n",
       " 1.8     5.374701\n",
       " 1.9     5.535615\n",
       " 2.0     6.037240\n",
       " 2.1     6.281288\n",
       " 2.2     6.635595\n",
       " 2.3     6.944651\n",
       " 2.4     7.144483\n",
       " 2.5     7.562574\n",
       " 2.6     7.964142\n",
       " 2.7     8.000878\n",
       " 2.8     8.246620\n",
       " 2.9     8.678336\n",
       " 3.0     8.876762\n",
       " 3.1     9.205866\n",
       " 3.2     9.533320\n",
       " 3.3     9.996915\n",
       " 3.4     9.612057\n",
       " 3.5    10.772003\n",
       " 3.6    10.036169\n",
       " 3.7    11.470100\n",
       " 3.8    10.907943\n",
       "Name: y, dtype: float64"
      ]
     },
     "execution_count": 8,
     "metadata": {},
     "output_type": "execute_result"
    },
    {
     "data": {
      "image/png": "[encoded data removed]",
      "text/plain": [
       "<Figure size 432x288 with 1 Axes>"
      ]
     },
     "metadata": {
      "needs_background": "light"
     },
     "output_type": "display_data"
    }
   ],
   "source": [
    "d['binned_x'] = d['x'].map(lambda x:round(x, 1))\n",
    "binned_predictions = d.groupby('binned_x')['y'].mean()\n",
    "plt.scatter(d['x'], d['y'], label='data')\n",
    "plt.plot(binned_predictions.index, binned_predictions.values, color='black', label='binned fit')\n",
    "plt.legend()\n",
    "binned_predictions"
   ]
  },
  {
   "cell_type": "markdown",
   "metadata": {
    "id": "uVDljSjvjjze"
   },
   "source": [
    "There are some downsides to doing this, though. \n",
    "\n",
    "1. For one thing, the line gets very wobbly at the end (why? And how does the wobbliness of the line change when we adjust the degree of rounding precision?)\n",
    "2. For another thing, it isn't a succinct or interpretable summary of the data - we have a separate value for every bin.  \n",
    "3. It also doesn't let us extrapolate at all beyond the range of the data. "
   ]
  },
  {
   "cell_type": "markdown",
   "metadata": {
    "id": "dh87kPXljjze"
   },
   "source": [
    "In this case, it's pretty visually clear that the relationship between x and y is well-summarized by a straight line. This is the model that simple linear regression fits. Let's see what this means. (Incidentally, I use \"simple\" here not to be condescending - I find it irritating when people refer to math as \"simple\" because it's often not - but because it's the standard term for regression using a single x, as opposed to multiple x.) \n",
    "\n",
    "We can fit a simple linear regression using the linregress command. (This will actually return a bunch of things, but we're only interested in the slope and intercept of the line.)"
   ]
  },
  {
   "cell_type": "code",
   "execution_count": 9,
   "metadata": {
    "id": "ckeoTlGTjjze",
    "outputId": "160e4333-1e91-415f-c6f7-e9ef8715d3a6"
   },
   "outputs": [
    {
     "name": "stdout",
     "output_type": "stream",
     "text": [
      "slope 2.9964120709019615\n",
      "intercept 0.006933797625590303\n"
     ]
    }
   ],
   "source": [
    "slope, intercept, _, _, _ = linregress(d['x'], d['y'])\n",
    "print(\"slope\", slope)\n",
    "print(\"intercept\", intercept)"
   ]
  },
  {
   "cell_type": "markdown",
   "metadata": {
    "id": "gXSCHNxtjjzf"
   },
   "source": [
    "Those numbers should look pretty familiar. Why?\n",
    "\n",
    "In this case, the true model for the data is in fact a linear model, so linear \n",
    "regression does an excellent job of recovering the true parameters. If we made the sample size \n",
    "larger, it would do an even better job. "
   ]
  },
  {
   "cell_type": "markdown",
   "metadata": {
    "id": "Z5v1uJHrjjzf"
   },
   "source": [
    "How does the linear fit compare to the binned fit we were plotting before? "
   ]
  },
  {
   "cell_type": "code",
   "execution_count": 10,
   "metadata": {
    "id": "JtQFGEw4jjzf",
    "outputId": "b73b6113-13f7-4f12-fb53-67b09b8a9dc2"
   },
   "outputs": [
    {
     "data": {
      "text/plain": [
       "<matplotlib.legend.Legend at 0x7ff9ae78f2e0>"
      ]
     },
     "execution_count": 10,
     "metadata": {},
     "output_type": "execute_result"
    },
    {
     "data": {
      "image/png": "[encoded data removed]",
      "text/plain": [
       "<Figure size 432x288 with 1 Axes>"
      ]
     },
     "metadata": {
      "needs_background": "light"
     },
     "output_type": "display_data"
    }
   ],
   "source": [
    "plt.scatter(d['x'], d['y'], label='data')\n",
    "plt.plot(binned_predictions.index, binned_predictions.values, color='black', label='binned fit')\n",
    "\n",
    "plt.plot([d['x'].min(), \n",
    "          d['x'].max()], \n",
    "         [d['x'].min() * slope + intercept, \n",
    "          d['x'].max() * slope + intercept], \n",
    "         color='red', \n",
    "         label='linear regression fit')\n",
    "plt.legend()"
   ]
  },
  {
   "cell_type": "markdown",
   "metadata": {
    "id": "AaKfizJwjjzg"
   },
   "source": [
    "We can tell that the two fits are extremely close. So now we've seen several indications that linear regression is doing something reasonable:\n",
    "\n",
    "1. It's recovering parameters which are close to those that we used to generate the data. \n",
    "2. It's matching up very nicely with an intuitive and sensible predictive model. \n",
    "3. Visually, it's yielding a good fit to the data. \n",
    "\n",
    "Still, where does the output of linregress actually come from, mathematically, and how do we justify it? Without diving too deep into the math, here are some common perspectives on linear regression. (If you don't remember all of these, that's probably ok - you can still use linear regression successfully without remembering all these things, and in fact I'm sure many data scientists forget them. But linear regression is such an old and fundamental technique that there are many mathematical perspectives on it which are cool and build intuition, so you'll forgive me if we geek out a little bit.) "
   ]
  },
  {
   "cell_type": "markdown",
   "metadata": {
    "id": "0roRpo8Xjjzg"
   },
   "source": [
    "**Linear regression fact 1: The linear regression slope is closely related to the Pearson correlation. Specifically, it's the Pearson correlation scaled by the standard deviation of the data.**\n",
    "\n",
    "$$slope = r_{pearson} * \\frac{\\sigma_y}{\\sigma_x}$$"
   ]
  },
  {
   "cell_type": "code",
   "execution_count": 11,
   "metadata": {
    "id": "vGsnCdAmjjzg",
    "outputId": "d098a18a-9d35-42e2-e4a4-cf9217dd007a"
   },
   "outputs": [
    {
     "name": "stdout",
     "output_type": "stream",
     "text": [
      "2.9964120709019615\n",
      "2.9964120709019566\n"
     ]
    }
   ],
   "source": [
    "print(slope)\n",
    "pearson_r = pearsonr(d['x'], d['y'])[0]\n",
    "print(pearson_r * d['y'].std() / d['x'].std())"
   ]
  },
  {
   "cell_type": "markdown",
   "metadata": {
    "id": "aXrDtZsTjjzg"
   },
   "source": [
    "This is a useful fact to remember for a few reasons. If you're working with standardized variables (ie, with standard deviation 1 and mean 0) $r_{pearson}$ and the linear regression slope are identical. Larger correlation coefficients imply larger slopes, which make sense. It also implies that linear regression is vulnerable to outliers in the same way that Pearson correlation is. "
   ]
  },
  {
   "cell_type": "markdown",
   "metadata": {
    "id": "lH7j4vxQjjzg"
   },
   "source": [
    "In fact, if you're working with standardized variables, the linear regression equation becomes incredibly simple. \n",
    "\n",
    "$$y_{standardized} = x_{standardized} * r_{pearson}$$"
   ]
  },
  {
   "cell_type": "code",
   "execution_count": 12,
   "metadata": {
    "id": "LvqtR_aLjjzh",
    "outputId": "9cec3efa-34d4-4e51-c0a9-8e810d7a0408"
   },
   "outputs": [
    {
     "name": "stdout",
     "output_type": "stream",
     "text": [
      "Slope for standardized variables 0.948442\n",
      "Pearson r 0.948442\n",
      "Intercept for standardized variables 0.000000\n"
     ]
    }
   ],
   "source": [
    "d['y_standardized'] = (d['y'] - d['y'].mean())/d['y'].std()\n",
    "d['x_standardized'] = (d['x'] - d['x'].mean())/d['x'].std()\n",
    "slope_standardized, intercept_standardized, _, _, _ = linregress(d['x_standardized'], \n",
    "                                                                 d['y_standardized'])\n",
    "print('Slope for standardized variables %2.6f' % slope_standardized)\n",
    "print('Pearson r %2.6f' % pearsonr(d['x_standardized'], d['y_standardized'])[0])\n",
    "print('Intercept for standardized variables %2.6f' % intercept_standardized)"
   ]
  },
  {
   "cell_type": "markdown",
   "metadata": {
    "id": "IZnpKfASjjzh"
   },
   "source": [
    "#### Regression to the mean"
   ]
  },
  {
   "cell_type": "markdown",
   "metadata": {
    "id": "osuvROF8jjzh"
   },
   "source": [
    "This helps us understand an important phenomenon called \"regression to the mean\": datapoints that are extreme on one measurement tend to be less extreme on the next. For example, students who are two standard deviations above the mean on one exam will tend to do less well than two standard deviations above the mean on the next exam. (And students who are two standard deviations BELOW the mean on one exam will tend to do better than two standard deviations BELOW the mean on the next - take heart!) This follows from the fact that $|r_{pearson}| \\leq 1$, so the linear regression line on the standardized variables tends to shrink them back towards the mean. If a student is 2 standard deviations above the mean on the first exam and $r_{pearson} = 0.8$, the linear regression line will predict that the student is only 1.6 standard deviations above the mean on the second. \n",
    "\n",
    "There are many other examples of this as well: \n",
    "\n",
    "1. Athletes in a sports league who do way better than the average athlete one season will tend to do less well relative to the league in the next. \n",
    "2. Patients in a medical trial who are much sicker than the average patient at one measurement will tend to do better relative to the overall population at the next. This is an important thing to understand when interpreting medical trials.\n",
    "\n",
    "It applies even more generally, to any pair of imperfectly correlated variables - we don't need to have measurements of the same students, athletes, or patients. For example, parents who are much taller than the average parent will tend to have children who are less tall than they are, relative to the average child. "
   ]
  },
  {
   "cell_type": "markdown",
   "metadata": {
    "id": "TnGVTPRFjjzh"
   },
   "source": [
    "However, it's also important to understand the **limitations** of regression to the mean. In particular, whenever I got too cocky as a child, my mother used to threaten me with “regression to the mean”. \n",
    "\n",
    "“You think you’re so smart,” she would say. “But statistically, smart parents tend to have children who are dumber than they are. So you’d better listen to me.” \n",
    "\n",
    "**THIS IS WRONG.** :( :( :( for a couple reasons. \n",
    "\n",
    "1. The reasoning above applies to the STANDARDIZED variables. But if children are just getting smarter over time, all children might be smarter than all parents ($\\bar{y} > \\bar{x}$). Or, if children have larger standard deviation than their parents do, smart parents might still tend to have smarter children ($\\sigma_y > \\sigma_x$). \n",
    "2. The reasoning above is based on linear regression, and thus assumes that a straight line fits the data well. But this isn't always true. Imagine x describes the performance of a royal courtier on his first etiquette exam, and y describes the performance on his second. We might expect to see something like the left plot, where a straight line fits the data well. Now imagine the exam proctor is Henry VIII, so that between the first exam and the second, every courtier who’s below average is beheaded, and every courtier who’s above average is given the answer sheet. In that case, everyone either gets a perfect score or a zero (right plot), and a straight line no longer fits the data very well. (Both plots are z-scored so the mean is zero and the standard deviation is 1.) Linear regression output is only meaningful to the extent that a straight line fits the data. Intuitively, in the second plot, the y-values are more extreme than the x-values: certainly the headless courtiers would think so. \n",
    "3. The reasoning is a statement about tendencies and averages - there can always be exceptions and outliers. "
   ]
  },
  {
   "cell_type": "code",
   "execution_count": 13,
   "metadata": {
    "id": "9MSMMUhijjzi",
    "outputId": "e8ac3077-63a8-4d35-d297-afb3f814cf88"
   },
   "outputs": [
    {
     "data": {
      "image/png": "[encoded data removed]",
      "text/plain": [
       "<Figure size 720x288 with 2 Axes>"
      ]
     },
     "metadata": {
      "needs_background": "light"
     },
     "output_type": "display_data"
    }
   ],
   "source": [
    "d['y_with_beheading'] = (d['x_standardized'] > 0)*1.\n",
    "d['y_standardized_with_beheading'] = (d['y_with_beheading'] - d['y_with_beheading'].mean())/d['y_with_beheading'].std()\n",
    "plt.figure(figsize=[10, 4])\n",
    "plt.subplots_adjust(wspace=0.3)\n",
    "plt.subplot(1, 2, 1)\n",
    "plt.scatter(d['x_standardized'], d['y_standardized'])\n",
    "plt.xlabel(\"First exam (standardized)\")\n",
    "plt.ylabel(\"Second exam (standardized)\")\n",
    "\n",
    "plt.subplot(1, 2, 2)\n",
    "plt.scatter(d['x_standardized'], d['y_standardized_with_beheading'])\n",
    "plt.xlabel(\"First exam (standardized)\")\n",
    "plt.ylabel(\"Second exam (standardized)\")\n",
    "plt.show()\n",
    "\n",
    "assert(np.allclose(d[['x_standardized', 'y_standardized_with_beheading', 'y_standardized']].std(), 1))\n"
   ]
  },
  {
   "cell_type": "markdown",
   "metadata": {
    "id": "yEhTvyaLjjzi"
   },
   "source": [
    "Okay! We've spent enough time on my childhood insecurities. Regression to the mean is an important and subtle concept. Let's move on! (If you do want to read more, see this [blog post](http://obsessionwithregression.blogspot.com/2013/12/in-which-i-use-regression-to-cope-with.html), from which I borrowed this material.) "
   ]
  },
  {
   "cell_type": "markdown",
   "metadata": {
    "id": "iIp9CXrQjjzi"
   },
   "source": [
    "**Linear regression fact 2: the linear regression line is the straight line which \"fits the data as well as possible\".**\n",
    "\n",
    "Let's be a bit more precise about this. Call the linear regression prediction at a given point $\\hat y = \\alpha + \\beta x$, where $\\alpha$ and $\\beta$ are the fitted slope and intercept and $x$ is the point we want to predict at. $\\alpha$ and $\\beta$ are the parameters which minimize the sum of squared errors between the predicted values $\\hat y$ and the true values $y$, summed over all datapoints:\n",
    "\n",
    "$SSE = \\sum_i (\\hat y_i - y_i)^2$\n",
    "\n",
    "This is a pretty natural and widely used measure of prediction quality. Bigger errors are bad. (Note that because we square, errors in the negative or positive direction will both contribute to the overall error rather than cancelling out, which is what we want.) So linear regression is the straight line which fits the data \"as well as possible\", using squared error as a measure of fit quality. (Linear regression is also the straight line which fits the *conditional expectation function* - the expected value of $y$ given $x$ - as well as possible.)\n",
    "\n",
    "The squared error measure is also referred to as a *loss function*, as in \"squared error loss\". While squared error loss is one widely used loss function, it is not the only one; for example, we could also minimize the sum of absolute errors rather than squared errors, $\\sum_i |\\hat y_i - y_i|$. In general, fitting a model to data often involves three steps: 1) specifying a class of models we wish to choose from (in this case, straight lines); 2) specifying a loss function which allows us to choose the best model in that class (in this case, squared error loss); and 3) figuring out which parameter values minimize that loss function. These three steps are tightly interlinked; for example, many choices for steps 1 + 2 yield a very difficult step 3 (or non-unique solutions). \n",
    "\n",
    "You will see various other quantities related to squared error loss, like *mean squared error* (the average value of squared error loss):\n",
    "\n",
    "$MSE = \\frac{SSE}{n} = \\frac{1}{n} \\sum_i (\\hat y_i - y_i)^2$\n",
    "\n",
    "and *root mean squared error*, which is just the square root of that. \n",
    "\n",
    "$RMSE = \\sqrt{MSE} = \\sqrt{\\frac{1}{n} \\sum_i (\\hat y_i - y_i)^2}$\n",
    "\n",
    "RMSE is sometimes used because its units are the same as the units of the original $y$, making it a more intuitive quantity. "
   ]
  },
  {
   "cell_type": "markdown",
   "metadata": {
    "id": "NvGHiOr1jjzi"
   },
   "source": [
    "The squared error, SSE, also has a relationship with the Pearson correlation. \n",
    "\n",
    "$$r_{pearson}^2 = 1 - \\frac{SSE}{SST}$$\n",
    "\n",
    "where we define SST, the total sum of squares, as \n",
    "\n",
    "$$SST = \\sum_i (y_i - \\bar y_i)^2$$\n",
    "\n",
    "You can think of SST as a measure of the scale of the original output variable (it's proportional to its variance). It's also a measure of how well we could predict the output variable if we didn't use any x at all, and just guessed the mean of the output variable, $\\bar y$, for every datapoint. So the expression \n",
    "\n",
    "$$1 - \\frac{SSE}{SST}$$\n",
    "\n",
    "tells us how much the error in predicting $y$ is reduced by using $x$ to help predict $y$. If it's reduced a lot, than $SSE$ will be a lot smaller than $SST$, and $r_{pearson}^2 = 1 - \\frac{SSE}{SST}$ will be close to 1. If it's not reduced by very much, then $SSE$ will be similar to $SST$, and $r_{pearson}^2 = 1 - \\frac{SSE}{SST}$ will be close to 0. \n",
    "\n",
    "You will also see $$1 - \\frac{SSE}{SST}$$ referred to as the \"coefficient of determination\" or $R^2$. It is useful because it can be computed for a broad class of models, not just simple linear regression - all we have to do is be able to compute the error in our predictions, $SSE$, relative to $SST$.  "
   ]
  },
  {
   "cell_type": "markdown",
   "metadata": {
    "id": "FoOy1kHbjjzi"
   },
   "source": [
    "## Linear regression in statsmodels\n",
    "\n",
    "While we used linregress because it's a useful command which makes the slope and regression easy to extract, we're now going to switch to using statsmodels because it gives us more sophisticated regression abilities and a nicer printout. To fit a regression in statsmodels, you pass a formula (which specifies the model you want to fit) and a dataframe (which has the data). \n",
    "\n",
    "The \"y ~ x\" notation in the code below tells statsmodels to fit the model \n",
    "\n",
    "$y = \\alpha + \\beta x$ \n",
    "\n",
    "in other words, exactly the same model we were fitting above. In general, the y-variable (dependent variable) comes before the ~ symbol, and the independent variable(s) come after the ~."
   ]
  },
  {
   "cell_type": "code",
   "execution_count": 14,
   "metadata": {
    "id": "xi77FCuxjjzj",
    "outputId": "054e11d7-50a6-476c-b230-3587c42f543a"
   },
   "outputs": [
    {
     "data": {
      "text/html": [
       "<table class=\"simpletable\">\n",
       "<caption>OLS Regression Results</caption>\n",
       "<tr>\n",
       "  <th>Dep. Variable:</th>            <td>y</td>        <th>  R-squared:         </th> <td>   0.900</td> \n",
       "</tr>\n",
       "<tr>\n",
       "  <th>Model:</th>                   <td>OLS</td>       <th>  Adj. R-squared:    </th> <td>   0.900</td> \n",
       "</tr>\n",
       "<tr>\n",
       "  <th>Method:</th>             <td>Least Squares</td>  <th>  F-statistic:       </th> <td>4.477e+05</td>\n",
       "</tr>\n",
       "<tr>\n",
       "  <th>Date:</th>             <td>Wed, 06 Oct 2021</td> <th>  Prob (F-statistic):</th>  <td>  0.00</td>  \n",
       "</tr>\n",
       "<tr>\n",
       "  <th>Time:</th>                 <td>12:23:59</td>     <th>  Log-Likelihood:    </th> <td> -70846.</td> \n",
       "</tr>\n",
       "<tr>\n",
       "  <th>No. Observations:</th>      <td> 50000</td>      <th>  AIC:               </th> <td>1.417e+05</td>\n",
       "</tr>\n",
       "<tr>\n",
       "  <th>Df Residuals:</th>          <td> 49998</td>      <th>  BIC:               </th> <td>1.417e+05</td>\n",
       "</tr>\n",
       "<tr>\n",
       "  <th>Df Model:</th>              <td>     1</td>      <th>                     </th>     <td> </td>    \n",
       "</tr>\n",
       "<tr>\n",
       "  <th>Covariance Type:</th>      <td>nonrobust</td>    <th>                     </th>     <td> </td>    \n",
       "</tr>\n",
       "</table>\n",
       "<table class=\"simpletable\">\n",
       "<tr>\n",
       "      <td></td>         <th>coef</th>     <th>std err</th>      <th>t</th>      <th>P>|t|</th>  <th>[0.025</th>    <th>0.975]</th>  \n",
       "</tr>\n",
       "<tr>\n",
       "  <th>Intercept</th> <td>    0.0069</td> <td>    0.004</td> <td>    1.554</td> <td> 0.120</td> <td>   -0.002</td> <td>    0.016</td>\n",
       "</tr>\n",
       "<tr>\n",
       "  <th>x</th>         <td>    2.9964</td> <td>    0.004</td> <td>  669.108</td> <td> 0.000</td> <td>    2.988</td> <td>    3.005</td>\n",
       "</tr>\n",
       "</table>\n",
       "<table class=\"simpletable\">\n",
       "<tr>\n",
       "  <th>Omnibus:</th>       <td> 1.467</td> <th>  Durbin-Watson:     </th> <td>   2.006</td>\n",
       "</tr>\n",
       "<tr>\n",
       "  <th>Prob(Omnibus):</th> <td> 0.480</td> <th>  Jarque-Bera (JB):  </th> <td>   1.465</td>\n",
       "</tr>\n",
       "<tr>\n",
       "  <th>Skew:</th>          <td>-0.001</td> <th>  Prob(JB):          </th> <td>   0.481</td>\n",
       "</tr>\n",
       "<tr>\n",
       "  <th>Kurtosis:</th>      <td> 3.026</td> <th>  Cond. No.          </th> <td>    1.01</td>\n",
       "</tr>\n",
       "</table><br/><br/>Warnings:<br/>[1] Standard Errors assume that the covariance matrix of the errors is correctly specified."
      ],
      "text/plain": [
       "<class 'statsmodels.iolib.summary.Summary'>\n",
       "\"\"\"\n",
       "                            OLS Regression Results                            \n",
       "==============================================================================\n",
       "Dep. Variable:                      y   R-squared:                       0.900\n",
       "Model:                            OLS   Adj. R-squared:                  0.900\n",
       "Method:                 Least Squares   F-statistic:                 4.477e+05\n",
       "Date:                Wed, 06 Oct 2021   Prob (F-statistic):               0.00\n",
       "Time:                        12:23:59   Log-Likelihood:                -70846.\n",
       "No. Observations:               50000   AIC:                         1.417e+05\n",
       "Df Residuals:                   49998   BIC:                         1.417e+05\n",
       "Df Model:                           1                                         \n",
       "Covariance Type:            nonrobust                                         \n",
       "==============================================================================\n",
       "                 coef    std err          t      P>|t|      [0.025      0.975]\n",
       "------------------------------------------------------------------------------\n",
       "Intercept      0.0069      0.004      1.554      0.120      -0.002       0.016\n",
       "x              2.9964      0.004    669.108      0.000       2.988       3.005\n",
       "==============================================================================\n",
       "Omnibus:                        1.467   Durbin-Watson:                   2.006\n",
       "Prob(Omnibus):                  0.480   Jarque-Bera (JB):                1.465\n",
       "Skew:                          -0.001   Prob(JB):                        0.481\n",
       "Kurtosis:                       3.026   Cond. No.                         1.01\n",
       "==============================================================================\n",
       "\n",
       "Warnings:\n",
       "[1] Standard Errors assume that the covariance matrix of the errors is correctly specified.\n",
       "\"\"\""
      ]
     },
     "execution_count": 14,
     "metadata": {},
     "output_type": "execute_result"
    }
   ],
   "source": [
    "fitted_model = sm.OLS.from_formula('y ~ x', data=d).fit()\n",
    "fitted_model.summary()"
   ]
  },
  {
   "cell_type": "markdown",
   "metadata": {
    "id": "Sf5Fr6JEjjzj"
   },
   "source": [
    "This is a lot of output, much of which you can ignore. Let's talk through some of the fields above...\n",
    "\n",
    "Generally, I pay most attention to the second table, with the \"coef\", \"std error\", etc columns. Understanding every column after the first one will require us to understand *confidence intervals* - basically, how uncertain our estimates of the slope and intercept are, given the data we used to estimate them. At the beginning of this notebook, we created a true and slope and intercept to generate our data. We'd like to estimate those true parameters. But, in the real world, we don't actually observe those - we just see the data, which doesn't let us perfectly pin down the parameters. Confidence intervals capture how much would we expect our estimates to vary given the imperfect data that we have. They will tend to be larger, for example, if we fit regression using less data, because we're more unsure about the parameters. "
   ]
  },
  {
   "cell_type": "code",
   "execution_count": 15,
   "metadata": {
    "id": "__FjiVcDjjzj",
    "outputId": "06f4b222-5650-425b-a7f6-f22cc2d9e968"
   },
   "outputs": [
    {
     "data": {
      "text/html": [
       "<table class=\"simpletable\">\n",
       "<caption>OLS Regression Results</caption>\n",
       "<tr>\n",
       "  <th>Dep. Variable:</th>            <td>y</td>        <th>  R-squared:         </th> <td>   0.901</td>\n",
       "</tr>\n",
       "<tr>\n",
       "  <th>Model:</th>                   <td>OLS</td>       <th>  Adj. R-squared:    </th> <td>   0.901</td>\n",
       "</tr>\n",
       "<tr>\n",
       "  <th>Method:</th>             <td>Least Squares</td>  <th>  F-statistic:       </th> <td>   9044.</td>\n",
       "</tr>\n",
       "<tr>\n",
       "  <th>Date:</th>             <td>Wed, 06 Oct 2021</td> <th>  Prob (F-statistic):</th>  <td>  0.00</td> \n",
       "</tr>\n",
       "<tr>\n",
       "  <th>Time:</th>                 <td>12:23:59</td>     <th>  Log-Likelihood:    </th> <td> -1417.5</td>\n",
       "</tr>\n",
       "<tr>\n",
       "  <th>No. Observations:</th>      <td>  1000</td>      <th>  AIC:               </th> <td>   2839.</td>\n",
       "</tr>\n",
       "<tr>\n",
       "  <th>Df Residuals:</th>          <td>   998</td>      <th>  BIC:               </th> <td>   2849.</td>\n",
       "</tr>\n",
       "<tr>\n",
       "  <th>Df Model:</th>              <td>     1</td>      <th>                     </th>     <td> </td>   \n",
       "</tr>\n",
       "<tr>\n",
       "  <th>Covariance Type:</th>      <td>nonrobust</td>    <th>                     </th>     <td> </td>   \n",
       "</tr>\n",
       "</table>\n",
       "<table class=\"simpletable\">\n",
       "<tr>\n",
       "      <td></td>         <th>coef</th>     <th>std err</th>      <th>t</th>      <th>P>|t|</th>  <th>[0.025</th>    <th>0.975]</th>  \n",
       "</tr>\n",
       "<tr>\n",
       "  <th>Intercept</th> <td>   -0.0119</td> <td>    0.032</td> <td>   -0.375</td> <td> 0.707</td> <td>   -0.074</td> <td>    0.050</td>\n",
       "</tr>\n",
       "<tr>\n",
       "  <th>x</th>         <td>    3.0453</td> <td>    0.032</td> <td>   95.098</td> <td> 0.000</td> <td>    2.982</td> <td>    3.108</td>\n",
       "</tr>\n",
       "</table>\n",
       "<table class=\"simpletable\">\n",
       "<tr>\n",
       "  <th>Omnibus:</th>       <td> 1.762</td> <th>  Durbin-Watson:     </th> <td>   1.976</td>\n",
       "</tr>\n",
       "<tr>\n",
       "  <th>Prob(Omnibus):</th> <td> 0.414</td> <th>  Jarque-Bera (JB):  </th> <td>   1.827</td>\n",
       "</tr>\n",
       "<tr>\n",
       "  <th>Skew:</th>          <td>-0.082</td> <th>  Prob(JB):          </th> <td>   0.401</td>\n",
       "</tr>\n",
       "<tr>\n",
       "  <th>Kurtosis:</th>      <td> 2.870</td> <th>  Cond. No.          </th> <td>    1.05</td>\n",
       "</tr>\n",
       "</table><br/><br/>Warnings:<br/>[1] Standard Errors assume that the covariance matrix of the errors is correctly specified."
      ],
      "text/plain": [
       "<class 'statsmodels.iolib.summary.Summary'>\n",
       "\"\"\"\n",
       "                            OLS Regression Results                            \n",
       "==============================================================================\n",
       "Dep. Variable:                      y   R-squared:                       0.901\n",
       "Model:                            OLS   Adj. R-squared:                  0.901\n",
       "Method:                 Least Squares   F-statistic:                     9044.\n",
       "Date:                Wed, 06 Oct 2021   Prob (F-statistic):               0.00\n",
       "Time:                        12:23:59   Log-Likelihood:                -1417.5\n",
       "No. Observations:                1000   AIC:                             2839.\n",
       "Df Residuals:                     998   BIC:                             2849.\n",
       "Df Model:                           1                                         \n",
       "Covariance Type:            nonrobust                                         \n",
       "==============================================================================\n",
       "                 coef    std err          t      P>|t|      [0.025      0.975]\n",
       "------------------------------------------------------------------------------\n",
       "Intercept     -0.0119      0.032     -0.375      0.707      -0.074       0.050\n",
       "x              3.0453      0.032     95.098      0.000       2.982       3.108\n",
       "==============================================================================\n",
       "Omnibus:                        1.762   Durbin-Watson:                   1.976\n",
       "Prob(Omnibus):                  0.414   Jarque-Bera (JB):                1.827\n",
       "Skew:                          -0.082   Prob(JB):                        0.401\n",
       "Kurtosis:                       2.870   Cond. No.                         1.05\n",
       "==============================================================================\n",
       "\n",
       "Warnings:\n",
       "[1] Standard Errors assume that the covariance matrix of the errors is correctly specified.\n",
       "\"\"\""
      ]
     },
     "execution_count": 15,
     "metadata": {},
     "output_type": "execute_result"
    }
   ],
   "source": [
    "baby_dataset = d.iloc[:1000]\n",
    "sm.OLS.from_formula('y ~ x', data=baby_dataset).fit().summary()"
   ]
  },
  {
   "cell_type": "markdown",
   "metadata": {
    "id": "QgQdo6o_jjzj"
   },
   "source": [
    "To get some intuition for where the uncertainty on the parameters comes from, we can try resampling the dataset many times and refitting the regression. We'll do this on the smaller dataset for speed. We take the original dataset, resample it with replacement to get an alternate version of the dataset, and refit our model; this is called \"bootstrapping\", and is a standard way to assess how much your estimates might vary if you got another similar dataset. "
   ]
  },
  {
   "cell_type": "code",
   "execution_count": 16,
   "metadata": {
    "id": "A6WByvE-jjzj",
    "outputId": "682c0014-ceb0-4d36-d7df-b7624e7026a5",
    "scrolled": false
   },
   "outputs": [
    {
     "name": "stdout",
     "output_type": "stream",
     "text": [
      "Bootstrapped iteration 1\n",
      "Bootstrapped iteration 101\n",
      "Bootstrapped iteration 201\n",
      "Bootstrapped iteration 301\n",
      "Bootstrapped iteration 401\n",
      "Bootstrapped iteration 501\n",
      "Bootstrapped iteration 601\n",
      "Bootstrapped iteration 701\n",
      "Bootstrapped iteration 801\n",
      "Bootstrapped iteration 901\n",
      "Bootstrapped iteration 1001\n",
      "Bootstrapped iteration 1101\n",
      "Bootstrapped iteration 1201\n",
      "Bootstrapped iteration 1301\n",
      "Bootstrapped iteration 1401\n",
      "Bootstrapped iteration 1501\n",
      "Bootstrapped iteration 1601\n",
      "Bootstrapped iteration 1701\n",
      "Bootstrapped iteration 1801\n",
      "Bootstrapped iteration 1901\n"
     ]
    },
    {
     "data": {
      "image/png": "[encoded data removed]",
      "text/plain": [
       "<Figure size 432x288 with 1 Axes>"
      ]
     },
     "metadata": {
      "needs_background": "light"
     },
     "output_type": "display_data"
    },
    {
     "name": "stdout",
     "output_type": "stream",
     "text": [
      "                            OLS Regression Results                            \n",
      "==============================================================================\n",
      "Dep. Variable:                      y   R-squared:                       0.901\n",
      "Model:                            OLS   Adj. R-squared:                  0.901\n",
      "Method:                 Least Squares   F-statistic:                     9044.\n",
      "Date:                Wed, 06 Oct 2021   Prob (F-statistic):               0.00\n",
      "Time:                        12:24:11   Log-Likelihood:                -1417.5\n",
      "No. Observations:                1000   AIC:                             2839.\n",
      "Df Residuals:                     998   BIC:                             2849.\n",
      "Df Model:                           1                                         \n",
      "Covariance Type:            nonrobust                                         \n",
      "==============================================================================\n",
      "                 coef    std err          t      P>|t|      [0.025      0.975]\n",
      "------------------------------------------------------------------------------\n",
      "Intercept     -0.0119      0.032     -0.375      0.707      -0.074       0.050\n",
      "x              3.0453      0.032     95.098      0.000       2.982       3.108\n",
      "==============================================================================\n",
      "Omnibus:                        1.762   Durbin-Watson:                   1.976\n",
      "Prob(Omnibus):                  0.414   Jarque-Bera (JB):                1.827\n",
      "Skew:                          -0.082   Prob(JB):                        0.401\n",
      "Kurtosis:                       2.870   Cond. No.                         1.05\n",
      "==============================================================================\n",
      "\n",
      "Warnings:\n",
      "[1] Standard Errors assume that the covariance matrix of the errors is correctly specified.\n"
     ]
    }
   ],
   "source": [
    "slope_estimates = []\n",
    "for k in range(2000):\n",
    "    if k % 100 == 1:\n",
    "        print(\"Bootstrapped iteration %i\" % k)\n",
    "    # at each iteration, draw a new dataset\n",
    "    resampled_dataset = baby_dataset.sample(n=len(baby_dataset), replace=True, random_state=k)\n",
    "    # refit the model\n",
    "    resampled_model = sm.OLS.from_formula('y ~ x', data=resampled_dataset).fit()\n",
    "    # and extract the new slope estimate\n",
    "    slope_estimates.append(resampled_model.params['x'])\n",
    "plt.hist(slope_estimates, bins=20)\n",
    "plt.title(\"Standard deviation in slope estimates: %2.3f\\n2.5th percentile: %2.3f\\n97.5th percentile %2.3f\" % \n",
    "          (np.array(slope_estimates).std(), \n",
    "           np.percentile(slope_estimates, 2.5), \n",
    "           np.percentile(slope_estimates, 97.5)))\n",
    "plt.show()\n",
    "print(sm.OLS.from_formula('y ~ x', data=baby_dataset).fit().summary())"
   ]
  },
  {
   "cell_type": "markdown",
   "metadata": {
    "id": "ceMQ4zeBjjzk"
   },
   "source": [
    "You can see that the distribution of coefficient estimates looks a lot like a bell curve (a normal distribution). This turns out not to be a coincidence - under some assumptions, it IS a normal distribution. You can also see that the standard deviation of the estimates lines up very nicely with the \"std err\" column in the statsmodels output (which I printed here again for convenience). Basically, the \"std err\" column is giving us the standard deviation of coefficient estimates across similar datasets. I also printed out the 2.5th percentile of our estimates and the 97.5th percentile, which line up nicely with the [0.025 0.0975] columns in the statsmodels output. The span from the 2.5th percentile to the 97.5th percentile captures 95% of the dataset, and is called the \"95% confidence interval\". This is probably the most widely reported measure of uncertainty in estimates. There's a 95% chance this interval captures the true parameter; or, alternately, if you resampled the data many times, your parameter estimate would lie in that interval 95% of the time. Basically, it's the range of \"plausible values\" for the parameter, given the uncertainty in the data. \n",
    "\n",
    "While the 95% CI is a widely used measure, there's nothing special about 95% - we could also report 90% CIs (which would be narrower) or 99% CIs, which would be wider. \n",
    "\n",
    "(Minor note: statsmodels doesn't actually calculate the std error and 95% CI using resampling, the way we did - I just did that to make it more intuitive. But resampling is a bit slow, as you can see, and in the case of linear regression there are simple expressions which are much faster to compute.) "
   ]
  },
  {
   "cell_type": "markdown",
   "metadata": {
    "id": "lCGEdS1Wjjzk"
   },
   "source": [
    "**That got a bit mathy. Here are the important takeaways.**\n",
    "\n",
    "The **coef** column reports the parameter estimate. This is our best guess for what the parameter is. \n",
    "\n",
    "The **std err** column gives one measure of uncertainty in that estimate: the standard deviation in the coefficient estimate. \n",
    "\n",
    "The **[0.025 \t0.975]** columns report the 95% confidence interval, which is probably the most widely reported measure of uncertainty in the parameter estimate. Loosely, this is where the true parameter value could \"plausibly be\" given the size and other properties of the dataset, which produce uncertainty in the parameter estimates. \n",
    "\n",
    "As a practical note, you can extract these things in statsmodels using the following commands..."
   ]
  },
  {
   "cell_type": "code",
   "execution_count": 17,
   "metadata": {
    "id": "DJ32M7AFjjzk",
    "outputId": "9199e1e7-8f73-4238-ab44-59e723105d90"
   },
   "outputs": [
    {
     "name": "stdout",
     "output_type": "stream",
     "text": [
      "coefficients are\n",
      "Intercept    0.006934\n",
      "x            2.996412\n",
      "dtype: float64\n",
      "standard errors are\n",
      "Intercept    0.004463\n",
      "x            0.004478\n",
      "dtype: float64\n",
      "95% confidence intervals are\n",
      "                  0         1\n",
      "Intercept -0.001814  0.015682\n",
      "x          2.987635  3.005189\n"
     ]
    }
   ],
   "source": [
    "print(\"coefficients are\")\n",
    "print(fitted_model.params)\n",
    "print(\"standard errors are\")\n",
    "print(fitted_model.bse)\n",
    "print(\"95% confidence intervals are\")\n",
    "print(fitted_model.conf_int())"
   ]
  },
  {
   "cell_type": "markdown",
   "metadata": {},
   "source": [
    "# Regression, second class"
   ]
  },
  {
   "cell_type": "markdown",
   "metadata": {},
   "source": [
    "Today we will (hopefully) finish our lecture on regression. \n",
    "\n",
    "I want to give a bit more context about one concept from last time - how do we interpret standardized variables? Recall that to standardize (or z-score) a variable, you subtract its mean and divide by its standard deviation so it has mean 0 and standard deviation 1. What's the intuition for standardized variables? You can think of them as having units of standard deviations. So if $x$ represents the exam score for each student in a class, $x_{\\text{standardized}}$ represents how many standard deviations above or below the class mean a student was. \n",
    "\n",
    "To recap, we ended last time by talking about confidence intervals and standard errors, which appear in the statsmodels output and quantify how uncertain you are about the true regression parameter values. We're now going to continue our discussion. \n",
    "\n"
   ]
  },
  {
   "cell_type": "markdown",
   "metadata": {
    "id": "NQ6BzVIFjjzk"
   },
   "source": [
    "#### Some practical rules for p-values and confidence intervals to keep you out of bar fights with statisticians\n",
    "\n",
    "What's up with the \"t\" and \"Pr>|t|\" columns? The \"t\" column tells you how far the coefficient estimate is from 0, in units of standard errors - \"given our uncertainty about the estimate, how far is it from 0\"? Why do we care about how far you are from 0 in particular? Because 0 would mean there were no association between y and x.\n",
    "\n",
    "The \"Pr>|t|\" converts that t-value into a probability. This is the famous (and frequently misinterpreted) \"p-value\" you will read about. The correct interpretation of the p-value is \"what is the probability of seeing a t statistic at least as big as the one you see, if, in fact, the true parameter were 0 and there were no association between y and x\"? Smaller p-values indicate x that are more likely to be associated with y. p-values less than 0.05 are generally regarded as \"statistically significant\" - ie, indicating associations that differ from zero for reasons besides statistical noise/small samples. There is a relationship between the p-value and the 95% confidence interval - p-values less than 0.05 correspond to 95% confidence intervals which do not overlap 0.\n",
    "\n",
    "The technical definition of p-values isn't that intuitive, and it's easy to get statisticians riled up about this sort of thing, so I'm just going to give you **Emma's practical rules for p-values and confidence intervals** to hopefully keep you out of trouble: \n",
    "\n",
    "1. When reporting results, you should generally report the coefficient estimate, the 95% confidence interval, and the p-value so that readers know your best guess of the parameter, and multiple measures of uncertainty in your parameter estimates. \n",
    "2. Confidence intervals and p-values are always derived under certain assumptions about the data. If those assumptions don't hold, the confidence intervals and p-values will be wrong. We'll talk more about the assumptions you need for linear regression confidence intervals to hold in a bit. \n",
    "3. Scientists are strongly incentivized to achieve p-values less than 0.05 so we can publish things. This encourages \"p-hacking\", in which people perform misleading analyses on their data to get a p-value below 0.05 so they can publish. Here are some potential red flags to watch out for in your or other peoples' analyses - they aren't always bad signs, but they could be, especially if they're combined with marginal p-values like 0.04 or 0.03: \n",
    "        - The analysis looks at a ton of different associations and reports only marginal p-values like 0.048. If you are looking at associations between many x and y, you should apply stricter standards for p-values (ie, require lower p-values) to avoid the risk of false positive associations. See also [this comic](https://xkcd.com/882/). \n",
    "        - The analysis is on a very small dataset (say < 100)\n",
    "        - The point estimates are implausibly large, and the confidence intervals are wide.\n",
    "        - The analysis shows only the results of complicated regressions, and not the simple ones you would naturally expect people to run.\n",
    "Let's take a quick break to [practice p-hacking](https://projects.fivethirtyeight.com/p-hacking/) (p-hacking is bad! Do not try this at home!)\n",
    "\n",
    "4. Statistical significance has gotten a ton of attention but is not the only thing you care about. Two examples: \n",
    "\n",
    "        - say you read a study where they analyze the effect of a drug using 25 people. They say that the \"drug is not significantly associated with a reduction in mortality\" because their point estimate is that it reduces mortality by 5% with a 95% CI of (-5%, 15%), which overlaps 0. You should not conclude from this study that \"the drug has no effect\". It might reduce mortality by a lot! The CI is huge and includes a lot of effects we would care about. Really, they need to do a bigger study. \n",
    "        - Here's an opposite example. Let's say you read some study which looks at internet usage among 1 million people and concludes that going on Reddit is associated with a 0.0003% increase in the rate of depression, 95% CI (0.00025%, 0.00035%), p < 0.0001. Ok, that's technically \"statistically significant\", but it's a tiny tiny effect which, as a practical matter, we don't care about, and if there are any issues in their model (for example, they didn't control for something they needed to control for) the estimate could change a lot. \n",
    "\n",
    "Here is a good [recent reference](https://www.nature.com/articles/d41586-019-00857-9) if you want to read more about p-values."
   ]
  },
  {
   "cell_type": "markdown",
   "metadata": {
    "id": "wdKyg49Kjjzk"
   },
   "source": [
    "# Multiple regression"
   ]
  },
  {
   "cell_type": "markdown",
   "metadata": {
    "id": "Gj0j8RB7jjzk"
   },
   "source": [
    "Let's move on to multiple regression: where we're trying to study the associations between y and multiple x simultaneously. And let's use real data because that's more fun. We use NYC restaurants rating data. \n",
    "\n",
    "IMPORTANT NOTE: this is an illustration of regression, not a full data analysis of restaurants. In a real analysis, we would want to be more careful with data cleaning etc, because this data has a lot of nuances - see eg here - https://fivethirtyeight.com/features/grading-new-york-restaurants-whats-in-an-a/. \n",
    "\n",
    "Even as I was running the regressions to show this class, I kept having to go back to the data cleaning because I was seeing weird regression results which didn't make sense. Always keep an eye out!"
   ]
  },
  {
   "cell_type": "code",
   "execution_count": 18,
   "metadata": {
    "id": "2hlie0dTjjzk",
    "outputId": "1545210e-6a41-4348-9262-736275f93b30",
    "scrolled": false
   },
   "outputs": [
    {
     "name": "stdout",
     "output_type": "stream",
     "text": [
      "rows: 406379; columns: 26\n",
      "Missing values in all columns\n",
      "GRADE DATE               0.633134\n",
      "GRADE                    0.632745\n",
      "BIN                      0.023790\n",
      "NTA                      0.019301\n",
      "Census Tract             0.019301\n",
      "Council District         0.019301\n",
      "Community Board          0.019301\n",
      "ZIPCODE                  0.016809\n",
      "VIOLATION CODE           0.004181\n",
      "BBL                      0.002593\n",
      "BUILDING                 0.001972\n",
      "VIOLATION DESCRIPTION    0.001744\n",
      "Longitude                0.000984\n",
      "Latitude                 0.000984\n",
      "DBA                      0.000135\n",
      "STREET                   0.000101\n",
      "PHONE                    0.000097\n",
      "CUISINE DESCRIPTION      0.000004\n",
      "BORO                     0.000000\n",
      "CRITICAL FLAG            0.000000\n",
      "INSPECTION DATE          0.000000\n",
      "ACTION                   0.000000\n",
      "SCORE                    0.000000\n",
      "RECORD DATE              0.000000\n",
      "INSPECTION TYPE          0.000000\n",
      "CAMIS                    0.000000\n",
      "dtype: float64\n",
      "0.0 of dependent variable rows are NA; dropping these\n",
      "0.0 of dependent variable rows have missing date; dropping these\n",
      "                                           mean    size\n",
      "INSPECTION TYPE                                        \n",
      "Cycle Inspection / Initial Inspection  0.632745  236781\n",
      "Statistics on distribution of dependent variable\n",
      "count    236781.000000\n",
      "mean         20.854000\n",
      "std          14.211606\n",
      "min           0.000000\n",
      "25%          11.000000\n",
      "50%          17.000000\n",
      "75%          27.000000\n",
      "max         137.000000\n",
      "Name: SCORE, dtype: float64\n",
      "Scores generally remain constant by restaurant and inspection date\n",
      "1    72529\n",
      "2        5\n",
      "Name: SCORE, dtype: int64\n",
      "Final rows in dataset: 72534\n"
     ]
    }
   ],
   "source": [
    "\"\"\"\n",
    "Higher scores are bad:\n",
    "\n",
    "•\tA score of less than 14 points on either initial or re-inspection results in an “A” grade\n",
    "•\tOn re-inspection, a score of 14-27 points means a restaurant receives both a “B” grade and a “Grade Pending” card\n",
    "•\tOn re-inspection, a score of 28 or more points means a restaurant receives both a “C” grade and a “Grade Pending” card\n",
    "•\tCertain uncorrected violations may generate additional compliance inspections, which are ungraded.\n",
    "\n",
    "\"\"\"\n",
    "\n",
    "# https://data.cityofnewyork.us/Health/DOHMH-New-York-City-Restaurant-Inspection-Results/43nn-pn8j\n",
    "d = pd.read_csv('lecture_6_DOHMH_New_York_City_Restaurant_Inspection_Results.csv')\n",
    "print(\"rows: %i; columns: %i\" % (d.shape))\n",
    "# filter for just initial inspections, which seems to be the most common type of inspection. \n",
    "d = d.loc[d['INSPECTION TYPE'] == 'Cycle Inspection / Initial Inspection'].copy()\n",
    "\n",
    "print(\"Missing values in all columns\")\n",
    "print(pd.isnull(d).mean().sort_values()[::-1])\n",
    "print(pd.isnull(d['SCORE']).mean(), 'of dependent variable rows are NA; dropping these')\n",
    "print(pd.isnull(d['INSPECTION DATE']).mean(), 'of dependent variable rows have missing date; dropping these')\n",
    "d['grade_missing'] = pd.isnull(d['GRADE'])\n",
    "print(d.groupby('INSPECTION TYPE')['grade_missing'].agg(['mean', 'size']))\n",
    "print(\"Statistics on distribution of dependent variable\")\n",
    "print(d['SCORE'].describe())\n",
    "d = d.dropna(subset=['SCORE', 'INSPECTION DATE'])\n",
    "d.columns = d.columns.map(lambda x:x.replace(' ', '_')) # statsmodels doesn't like spaces in variable names\n",
    "d['YEAR'] = d['INSPECTION_DATE'].map(lambda x:int(x.split('/')[-1]))\n",
    "d = d.loc[d['YEAR'] >= 2016] # before this, very few inspections\n",
    "d = d.loc[d['BORO'] != '0']\n",
    "\n",
    "# rows seem to correspond to violations by restaurants by date, so deduplicate\n",
    "print(\"Scores generally remain constant by restaurant and inspection date\")\n",
    "print(d.groupby(['CAMIS', 'INSPECTION_DATE'])['SCORE'].nunique().value_counts())\n",
    "\n",
    "# deduplicate\n",
    "d = d.loc[~d[['CAMIS', 'INSPECTION_DATE']].duplicated()].copy()\n",
    "\n",
    "assert d[['CAMIS', 'INSPECTION_DATE']].duplicated().sum() == 0\n",
    "print(\"Final rows in dataset: %i\" % len(d))"
   ]
  },
  {
   "cell_type": "markdown",
   "metadata": {
    "id": "F46F4vyEjjzl"
   },
   "source": [
    "# have scores been going up over time? "
   ]
  },
  {
   "cell_type": "code",
   "execution_count": 19,
   "metadata": {
    "id": "I4qtti45jjzl"
   },
   "outputs": [],
   "source": [
    "# how do we interpret the units of this? "
   ]
  },
  {
   "cell_type": "code",
   "execution_count": 20,
   "metadata": {
    "id": "kpK0-5MWjjzl",
    "outputId": "3cbc43f8-becc-4521-df49-7ce16e1c19ed"
   },
   "outputs": [
    {
     "data": {
      "text/html": [
       "<table class=\"simpletable\">\n",
       "<caption>OLS Regression Results</caption>\n",
       "<tr>\n",
       "  <th>Dep. Variable:</th>          <td>SCORE</td>      <th>  R-squared:         </th>  <td>   0.001</td>  \n",
       "</tr>\n",
       "<tr>\n",
       "  <th>Model:</th>                   <td>OLS</td>       <th>  Adj. R-squared:    </th>  <td>   0.001</td>  \n",
       "</tr>\n",
       "<tr>\n",
       "  <th>Method:</th>             <td>Least Squares</td>  <th>  F-statistic:       </th>  <td>   101.7</td>  \n",
       "</tr>\n",
       "<tr>\n",
       "  <th>Date:</th>             <td>Wed, 06 Oct 2021</td> <th>  Prob (F-statistic):</th>  <td>6.54e-24</td>  \n",
       "</tr>\n",
       "<tr>\n",
       "  <th>Time:</th>                 <td>12:24:15</td>     <th>  Log-Likelihood:    </th> <td>-2.8123e+05</td>\n",
       "</tr>\n",
       "<tr>\n",
       "  <th>No. Observations:</th>      <td> 72534</td>      <th>  AIC:               </th>  <td>5.625e+05</td> \n",
       "</tr>\n",
       "<tr>\n",
       "  <th>Df Residuals:</th>          <td> 72532</td>      <th>  BIC:               </th>  <td>5.625e+05</td> \n",
       "</tr>\n",
       "<tr>\n",
       "  <th>Df Model:</th>              <td>     1</td>      <th>                     </th>      <td> </td>     \n",
       "</tr>\n",
       "<tr>\n",
       "  <th>Covariance Type:</th>      <td>nonrobust</td>    <th>                     </th>      <td> </td>     \n",
       "</tr>\n",
       "</table>\n",
       "<table class=\"simpletable\">\n",
       "<tr>\n",
       "      <td></td>         <th>coef</th>     <th>std err</th>      <th>t</th>      <th>P>|t|</th>  <th>[0.025</th>    <th>0.975]</th>  \n",
       "</tr>\n",
       "<tr>\n",
       "  <th>Intercept</th> <td> -827.3104</td> <td>   83.613</td> <td>   -9.895</td> <td> 0.000</td> <td> -991.191</td> <td> -663.429</td>\n",
       "</tr>\n",
       "<tr>\n",
       "  <th>YEAR</th>      <td>    0.4179</td> <td>    0.041</td> <td>   10.087</td> <td> 0.000</td> <td>    0.337</td> <td>    0.499</td>\n",
       "</tr>\n",
       "</table>\n",
       "<table class=\"simpletable\">\n",
       "<tr>\n",
       "  <th>Omnibus:</th>       <td>31216.512</td> <th>  Durbin-Watson:     </th>  <td>   1.799</td> \n",
       "</tr>\n",
       "<tr>\n",
       "  <th>Prob(Omnibus):</th>  <td> 0.000</td>   <th>  Jarque-Bera (JB):  </th> <td>178770.715</td>\n",
       "</tr>\n",
       "<tr>\n",
       "  <th>Skew:</th>           <td> 2.014</td>   <th>  Prob(JB):          </th>  <td>    0.00</td> \n",
       "</tr>\n",
       "<tr>\n",
       "  <th>Kurtosis:</th>       <td> 9.552</td>   <th>  Cond. No.          </th>  <td>3.89e+06</td> \n",
       "</tr>\n",
       "</table><br/><br/>Warnings:<br/>[1] Standard Errors assume that the covariance matrix of the errors is correctly specified.<br/>[2] The condition number is large, 3.89e+06. This might indicate that there are<br/>strong multicollinearity or other numerical problems."
      ],
      "text/plain": [
       "<class 'statsmodels.iolib.summary.Summary'>\n",
       "\"\"\"\n",
       "                            OLS Regression Results                            \n",
       "==============================================================================\n",
       "Dep. Variable:                  SCORE   R-squared:                       0.001\n",
       "Model:                            OLS   Adj. R-squared:                  0.001\n",
       "Method:                 Least Squares   F-statistic:                     101.7\n",
       "Date:                Wed, 06 Oct 2021   Prob (F-statistic):           6.54e-24\n",
       "Time:                        12:24:15   Log-Likelihood:            -2.8123e+05\n",
       "No. Observations:               72534   AIC:                         5.625e+05\n",
       "Df Residuals:                   72532   BIC:                         5.625e+05\n",
       "Df Model:                           1                                         \n",
       "Covariance Type:            nonrobust                                         \n",
       "==============================================================================\n",
       "                 coef    std err          t      P>|t|      [0.025      0.975]\n",
       "------------------------------------------------------------------------------\n",
       "Intercept   -827.3104     83.613     -9.895      0.000    -991.191    -663.429\n",
       "YEAR           0.4179      0.041     10.087      0.000       0.337       0.499\n",
       "==============================================================================\n",
       "Omnibus:                    31216.512   Durbin-Watson:                   1.799\n",
       "Prob(Omnibus):                  0.000   Jarque-Bera (JB):           178770.715\n",
       "Skew:                           2.014   Prob(JB):                         0.00\n",
       "Kurtosis:                       9.552   Cond. No.                     3.89e+06\n",
       "==============================================================================\n",
       "\n",
       "Warnings:\n",
       "[1] Standard Errors assume that the covariance matrix of the errors is correctly specified.\n",
       "[2] The condition number is large, 3.89e+06. This might indicate that there are\n",
       "strong multicollinearity or other numerical problems.\n",
       "\"\"\""
      ]
     },
     "execution_count": 20,
     "metadata": {},
     "output_type": "execute_result"
    }
   ],
   "source": [
    "sm.OLS.from_formula('SCORE ~ YEAR', data=d).fit().summary() "
   ]
  },
  {
   "cell_type": "markdown",
   "metadata": {
    "id": "Zy2ruoK5jjzl"
   },
   "source": [
    "# What if we wanted to control for year in a non-linear way? We could use a polynomial fit"
   ]
  },
  {
   "cell_type": "code",
   "execution_count": 21,
   "metadata": {
    "id": "GbCXsT11jjzl",
    "outputId": "296d3d29-1fab-4844-aec1-8cb87c13a731"
   },
   "outputs": [
    {
     "name": "stdout",
     "output_type": "stream",
     "text": [
      "                            OLS Regression Results                            \n",
      "==============================================================================\n",
      "Dep. Variable:                  SCORE   R-squared:                       0.002\n",
      "Model:                            OLS   Adj. R-squared:                  0.002\n",
      "Method:                 Least Squares   F-statistic:                     60.79\n",
      "Date:                Wed, 06 Oct 2021   Prob (F-statistic):           4.17e-27\n",
      "Time:                        12:24:15   Log-Likelihood:            -2.8122e+05\n",
      "No. Observations:               72534   AIC:                         5.624e+05\n",
      "Df Residuals:                   72531   BIC:                         5.625e+05\n",
      "Df Model:                           2                                         \n",
      "Covariance Type:            nonrobust                                         \n",
      "================================================================================\n",
      "                   coef    std err          t      P>|t|      [0.025      0.975]\n",
      "--------------------------------------------------------------------------------\n",
      "Intercept       -0.4098      0.092     -4.464      0.000      -0.590      -0.230\n",
      "YEAR          -275.7273     61.762     -4.464      0.000    -396.780    -154.675\n",
      "YEAR_SQUARED     0.2730      0.061      4.461      0.000       0.153       0.393\n",
      "YEAR_CUBED   -6.759e-05   1.52e-05     -4.458      0.000   -9.73e-05   -3.79e-05\n",
      "==============================================================================\n",
      "Omnibus:                    31192.862   Durbin-Watson:                   1.799\n",
      "Prob(Omnibus):                  0.000   Jarque-Bera (JB):           178442.318\n",
      "Skew:                           2.012   Prob(JB):                         0.00\n",
      "Kurtosis:                       9.545   Cond. No.                     3.06e+19\n",
      "==============================================================================\n",
      "\n",
      "Warnings:\n",
      "[1] Standard Errors assume that the covariance matrix of the errors is correctly specified.\n",
      "[2] The smallest eigenvalue is 5.23e-15. This might indicate that there are\n",
      "strong multicollinearity problems or that the design matrix is singular.\n"
     ]
    }
   ],
   "source": [
    "d['YEAR_SQUARED'] = d['YEAR'] ** 2\n",
    "d['YEAR_CUBED'] = d['YEAR'] ** 3\n",
    "\n",
    "year_cubic_model = sm.OLS.from_formula('SCORE ~ YEAR + YEAR_SQUARED + YEAR_CUBED', data=d).fit()\n",
    "print(year_cubic_model.summary())\n"
   ]
  },
  {
   "cell_type": "code",
   "execution_count": 22,
   "metadata": {},
   "outputs": [
    {
     "data": {
      "image/png": "[encoded data removed]",
      "text/plain": [
       "<Figure size 432x288 with 1 Axes>"
      ]
     },
     "metadata": {
      "needs_background": "light"
     },
     "output_type": "display_data"
    }
   ],
   "source": [
    "year = np.arange(2010, 2020, 1)\n",
    "predicted_values = (year_cubic_model.params['Intercept'] + \n",
    "                    year * year_cubic_model.params['YEAR'] + \n",
    "                    year ** 2 * year_cubic_model.params['YEAR_SQUARED'] + \n",
    "                    year ** 3 * year_cubic_model.params['YEAR_CUBED'])\n",
    "plt.plot(year, predicted_values)\n",
    "plt.show()"
   ]
  },
  {
   "cell_type": "markdown",
   "metadata": {
    "id": "8WFad8TXjjzl"
   },
   "source": [
    "## These coefficients are a bit hard to interpret. We could plot the predicted values by year, or we could fit year as a *categorical* variable by coding it as C(YEAR) in statsmodels notation. (Don't forget to do this if you want to treat numerical variables as categorical!) What does this mean? "
   ]
  },
  {
   "cell_type": "code",
   "execution_count": 23,
   "metadata": {
    "id": "HfBH-LtGjjzl",
    "outputId": "c4dca283-41e1-437e-86c1-ff112e663404"
   },
   "outputs": [
    {
     "name": "stdout",
     "output_type": "stream",
     "text": [
      "                            OLS Regression Results                            \n",
      "==============================================================================\n",
      "Dep. Variable:                  SCORE   R-squared:                       0.002\n",
      "Model:                            OLS   Adj. R-squared:                  0.002\n",
      "Method:                 Least Squares   F-statistic:                     27.26\n",
      "Date:                Wed, 06 Oct 2021   Prob (F-statistic):           1.15e-27\n",
      "Time:                        12:24:16   Log-Likelihood:            -2.8121e+05\n",
      "No. Observations:               72534   AIC:                         5.624e+05\n",
      "Df Residuals:                   72528   BIC:                         5.625e+05\n",
      "Df Model:                           5                                         \n",
      "Covariance Type:            nonrobust                                         \n",
      "===================================================================================\n",
      "                      coef    std err          t      P>|t|      [0.025      0.975]\n",
      "-----------------------------------------------------------------------------------\n",
      "Intercept          14.9232      0.211     70.675      0.000      14.509      15.337\n",
      "C(YEAR)[T.2017]     0.5042      0.233      2.168      0.030       0.048       0.960\n",
      "C(YEAR)[T.2018]     1.0691      0.226      4.736      0.000       0.627       1.511\n",
      "C(YEAR)[T.2019]     1.7046      0.223      7.648      0.000       1.268       2.141\n",
      "C(YEAR)[T.2020]     1.2992      0.261      4.975      0.000       0.787       1.811\n",
      "C(YEAR)[T.2021]     1.3870      0.426      3.255      0.001       0.552       2.222\n",
      "==============================================================================\n",
      "Omnibus:                    31181.975   Durbin-Watson:                   1.799\n",
      "Prob(Omnibus):                  0.000   Jarque-Bera (JB):           178345.279\n",
      "Skew:                           2.012   Prob(JB):                         0.00\n",
      "Kurtosis:                       9.544   Cond. No.                         14.5\n",
      "==============================================================================\n",
      "\n",
      "Warnings:\n",
      "[1] Standard Errors assume that the covariance matrix of the errors is correctly specified.\n",
      "Mean scores by year\n",
      "       size       mean\n",
      "YEAR                  \n",
      "2016   3061  14.923228\n",
      "2017  14392  15.427460\n",
      "2018  21452  15.992308\n",
      "2019  26855  16.627779\n",
      "2020   5778  16.222395\n",
      "2021    996  16.310241\n"
     ]
    }
   ],
   "source": [
    "print(sm.OLS.from_formula('SCORE ~ C(YEAR)', data=d).fit().summary())\n",
    "\n",
    "print(\"Mean scores by year\")\n",
    "print(d.groupby('YEAR')['SCORE'].agg(['size', 'mean'])) # compare to this to get intuitive understanding\n",
    "# coefficient for T.2017 is exactly the difference between 2017 and 2016 group means. "
   ]
  },
  {
   "cell_type": "markdown",
   "metadata": {
    "id": "16rpyBcyjjzl"
   },
   "source": [
    "## Categorical variables are often very useful! For example, we can look at scores by cuisine or by borough. "
   ]
  },
  {
   "cell_type": "code",
   "execution_count": 24,
   "metadata": {},
   "outputs": [
    {
     "name": "stdout",
     "output_type": "stream",
     "text": [
      "                size       mean\n",
      "BORO                           \n",
      "Bronx           6937  15.590169\n",
      "Brooklyn       17787  16.234947\n",
      "Manhattan      28767  16.288421\n",
      "Queens         16535  15.860236\n",
      "Staten Island   2508  15.772727\n"
     ]
    }
   ],
   "source": [
    "print(d.groupby('BORO')['SCORE'].agg(['size', 'mean'])) # compare to this to get intuitive understanding\n"
   ]
  },
  {
   "cell_type": "code",
   "execution_count": 25,
   "metadata": {
    "id": "DteIxD15jjzm",
    "outputId": "95b03423-2a66-436e-fd52-004aa6a27cd8",
    "scrolled": false
   },
   "outputs": [
    {
     "data": {
      "text/html": [
       "<table class=\"simpletable\">\n",
       "<caption>OLS Regression Results</caption>\n",
       "<tr>\n",
       "  <th>Dep. Variable:</th>          <td>SCORE</td>      <th>  R-squared:         </th>  <td>   0.000</td>  \n",
       "</tr>\n",
       "<tr>\n",
       "  <th>Model:</th>                   <td>OLS</td>       <th>  Adj. R-squared:    </th>  <td>   0.000</td>  \n",
       "</tr>\n",
       "<tr>\n",
       "  <th>Method:</th>             <td>Least Squares</td>  <th>  F-statistic:       </th>  <td>   7.983</td>  \n",
       "</tr>\n",
       "<tr>\n",
       "  <th>Date:</th>             <td>Wed, 06 Oct 2021</td> <th>  Prob (F-statistic):</th>  <td>1.98e-06</td>  \n",
       "</tr>\n",
       "<tr>\n",
       "  <th>Time:</th>                 <td>12:24:16</td>     <th>  Log-Likelihood:    </th> <td>-2.8126e+05</td>\n",
       "</tr>\n",
       "<tr>\n",
       "  <th>No. Observations:</th>      <td> 72534</td>      <th>  AIC:               </th>  <td>5.625e+05</td> \n",
       "</tr>\n",
       "<tr>\n",
       "  <th>Df Residuals:</th>          <td> 72529</td>      <th>  BIC:               </th>  <td>5.626e+05</td> \n",
       "</tr>\n",
       "<tr>\n",
       "  <th>Df Model:</th>              <td>     4</td>      <th>                     </th>      <td> </td>     \n",
       "</tr>\n",
       "<tr>\n",
       "  <th>Covariance Type:</th>      <td>nonrobust</td>    <th>                     </th>      <td> </td>     \n",
       "</tr>\n",
       "</table>\n",
       "<table class=\"simpletable\">\n",
       "<tr>\n",
       "              <td></td>                <th>coef</th>     <th>std err</th>      <th>t</th>      <th>P>|t|</th>  <th>[0.025</th>    <th>0.975]</th>  \n",
       "</tr>\n",
       "<tr>\n",
       "  <th>Intercept</th>                <td>   15.5902</td> <td>    0.140</td> <td>  111.071</td> <td> 0.000</td> <td>   15.315</td> <td>   15.865</td>\n",
       "</tr>\n",
       "<tr>\n",
       "  <th>C(BORO)[T.Brooklyn]</th>      <td>    0.6448</td> <td>    0.165</td> <td>    3.896</td> <td> 0.000</td> <td>    0.320</td> <td>    0.969</td>\n",
       "</tr>\n",
       "<tr>\n",
       "  <th>C(BORO)[T.Manhattan]</th>     <td>    0.6983</td> <td>    0.156</td> <td>    4.465</td> <td> 0.000</td> <td>    0.392</td> <td>    1.005</td>\n",
       "</tr>\n",
       "<tr>\n",
       "  <th>C(BORO)[T.Queens]</th>        <td>    0.2701</td> <td>    0.167</td> <td>    1.615</td> <td> 0.106</td> <td>   -0.058</td> <td>    0.598</td>\n",
       "</tr>\n",
       "<tr>\n",
       "  <th>C(BORO)[T.Staten Island]</th> <td>    0.1826</td> <td>    0.272</td> <td>    0.670</td> <td> 0.503</td> <td>   -0.351</td> <td>    0.716</td>\n",
       "</tr>\n",
       "</table>\n",
       "<table class=\"simpletable\">\n",
       "<tr>\n",
       "  <th>Omnibus:</th>       <td>31259.880</td> <th>  Durbin-Watson:     </th>  <td>   1.798</td> \n",
       "</tr>\n",
       "<tr>\n",
       "  <th>Prob(Omnibus):</th>  <td> 0.000</td>   <th>  Jarque-Bera (JB):  </th> <td>179166.597</td>\n",
       "</tr>\n",
       "<tr>\n",
       "  <th>Skew:</th>           <td> 2.017</td>   <th>  Prob(JB):          </th>  <td>    0.00</td> \n",
       "</tr>\n",
       "<tr>\n",
       "  <th>Kurtosis:</th>       <td> 9.558</td>   <th>  Cond. No.          </th>  <td>    9.00</td> \n",
       "</tr>\n",
       "</table><br/><br/>Warnings:<br/>[1] Standard Errors assume that the covariance matrix of the errors is correctly specified."
      ],
      "text/plain": [
       "<class 'statsmodels.iolib.summary.Summary'>\n",
       "\"\"\"\n",
       "                            OLS Regression Results                            \n",
       "==============================================================================\n",
       "Dep. Variable:                  SCORE   R-squared:                       0.000\n",
       "Model:                            OLS   Adj. R-squared:                  0.000\n",
       "Method:                 Least Squares   F-statistic:                     7.983\n",
       "Date:                Wed, 06 Oct 2021   Prob (F-statistic):           1.98e-06\n",
       "Time:                        12:24:16   Log-Likelihood:            -2.8126e+05\n",
       "No. Observations:               72534   AIC:                         5.625e+05\n",
       "Df Residuals:                   72529   BIC:                         5.626e+05\n",
       "Df Model:                           4                                         \n",
       "Covariance Type:            nonrobust                                         \n",
       "============================================================================================\n",
       "                               coef    std err          t      P>|t|      [0.025      0.975]\n",
       "--------------------------------------------------------------------------------------------\n",
       "Intercept                   15.5902      0.140    111.071      0.000      15.315      15.865\n",
       "C(BORO)[T.Brooklyn]          0.6448      0.165      3.896      0.000       0.320       0.969\n",
       "C(BORO)[T.Manhattan]         0.6983      0.156      4.465      0.000       0.392       1.005\n",
       "C(BORO)[T.Queens]            0.2701      0.167      1.615      0.106      -0.058       0.598\n",
       "C(BORO)[T.Staten Island]     0.1826      0.272      0.670      0.503      -0.351       0.716\n",
       "==============================================================================\n",
       "Omnibus:                    31259.880   Durbin-Watson:                   1.798\n",
       "Prob(Omnibus):                  0.000   Jarque-Bera (JB):           179166.597\n",
       "Skew:                           2.017   Prob(JB):                         0.00\n",
       "Kurtosis:                       9.558   Cond. No.                         9.00\n",
       "==============================================================================\n",
       "\n",
       "Warnings:\n",
       "[1] Standard Errors assume that the covariance matrix of the errors is correctly specified.\n",
       "\"\"\""
      ]
     },
     "execution_count": 25,
     "metadata": {},
     "output_type": "execute_result"
    }
   ],
   "source": [
    "sm.OLS.from_formula('SCORE ~ C(BORO)', data=d).fit().summary() # what is the base/omitted level? "
   ]
  },
  {
   "cell_type": "markdown",
   "metadata": {
    "id": "2wJEuBufjjzm"
   },
   "source": [
    "# There are a lot of cuisine types, so this regression printout is a bit overwhelming. How could we make it easier to understand?"
   ]
  },
  {
   "cell_type": "code",
   "execution_count": 26,
   "metadata": {
    "id": "HpEo35FKjjzm",
    "outputId": "1be4b422-9b2f-4cb2-a856-eede52f67ec7",
    "scrolled": false
   },
   "outputs": [
    {
     "data": {
      "text/html": [
       "<table class=\"simpletable\">\n",
       "<caption>OLS Regression Results</caption>\n",
       "<tr>\n",
       "  <th>Dep. Variable:</th>          <td>SCORE</td>      <th>  R-squared:         </th>  <td>   0.037</td>  \n",
       "</tr>\n",
       "<tr>\n",
       "  <th>Model:</th>                   <td>OLS</td>       <th>  Adj. R-squared:    </th>  <td>   0.036</td>  \n",
       "</tr>\n",
       "<tr>\n",
       "  <th>Method:</th>             <td>Least Squares</td>  <th>  F-statistic:       </th>  <td>   34.34</td>  \n",
       "</tr>\n",
       "<tr>\n",
       "  <th>Date:</th>             <td>Wed, 06 Oct 2021</td> <th>  Prob (F-statistic):</th>   <td>  0.00</td>   \n",
       "</tr>\n",
       "<tr>\n",
       "  <th>Time:</th>                 <td>12:24:18</td>     <th>  Log-Likelihood:    </th> <td>-2.7990e+05</td>\n",
       "</tr>\n",
       "<tr>\n",
       "  <th>No. Observations:</th>      <td> 72534</td>      <th>  AIC:               </th>  <td>5.600e+05</td> \n",
       "</tr>\n",
       "<tr>\n",
       "  <th>Df Residuals:</th>          <td> 72451</td>      <th>  BIC:               </th>  <td>5.607e+05</td> \n",
       "</tr>\n",
       "<tr>\n",
       "  <th>Df Model:</th>              <td>    82</td>      <th>                     </th>      <td> </td>     \n",
       "</tr>\n",
       "<tr>\n",
       "  <th>Covariance Type:</th>      <td>nonrobust</td>    <th>                     </th>      <td> </td>     \n",
       "</tr>\n",
       "</table>\n",
       "<table class=\"simpletable\">\n",
       "<tr>\n",
       "                              <td></td>                                <th>coef</th>     <th>std err</th>      <th>t</th>      <th>P>|t|</th>  <th>[0.025</th>    <th>0.975]</th>  \n",
       "</tr>\n",
       "<tr>\n",
       "  <th>Intercept</th>                                                <td>   12.4054</td> <td>    1.887</td> <td>    6.574</td> <td> 0.000</td> <td>    8.707</td> <td>   16.104</td>\n",
       "</tr>\n",
       "<tr>\n",
       "  <th>C(CUISINE_DESCRIPTION)[T.African]</th>                        <td>    8.8529</td> <td>    2.027</td> <td>    4.367</td> <td> 0.000</td> <td>    4.879</td> <td>   12.826</td>\n",
       "</tr>\n",
       "<tr>\n",
       "  <th>C(CUISINE_DESCRIPTION)[T.American]</th>                       <td>    2.8134</td> <td>    1.889</td> <td>    1.489</td> <td> 0.136</td> <td>   -0.890</td> <td>    6.516</td>\n",
       "</tr>\n",
       "<tr>\n",
       "  <th>C(CUISINE_DESCRIPTION)[T.Asian/Asian Fusion]</th>             <td>    5.6018</td> <td>    1.922</td> <td>    2.914</td> <td> 0.004</td> <td>    1.834</td> <td>    9.370</td>\n",
       "</tr>\n",
       "<tr>\n",
       "  <th>C(CUISINE_DESCRIPTION)[T.Australian]</th>                     <td>    7.8733</td> <td>    2.392</td> <td>    3.292</td> <td> 0.001</td> <td>    3.185</td> <td>   12.561</td>\n",
       "</tr>\n",
       "<tr>\n",
       "  <th>C(CUISINE_DESCRIPTION)[T.Bagels/Pretzels]</th>                <td>    3.7978</td> <td>    1.955</td> <td>    1.943</td> <td> 0.052</td> <td>   -0.033</td> <td>    7.629</td>\n",
       "</tr>\n",
       "<tr>\n",
       "  <th>C(CUISINE_DESCRIPTION)[T.Bakery Products/Desserts]</th>       <td>    3.7968</td> <td>    1.902</td> <td>    1.996</td> <td> 0.046</td> <td>    0.069</td> <td>    7.525</td>\n",
       "</tr>\n",
       "<tr>\n",
       "  <th>C(CUISINE_DESCRIPTION)[T.Bangladeshi]</th>                    <td>   12.8204</td> <td>    2.100</td> <td>    6.104</td> <td> 0.000</td> <td>    8.704</td> <td>   16.937</td>\n",
       "</tr>\n",
       "<tr>\n",
       "  <th>C(CUISINE_DESCRIPTION)[T.Barbecue]</th>                       <td>    5.2692</td> <td>    2.083</td> <td>    2.529</td> <td> 0.011</td> <td>    1.186</td> <td>    9.353</td>\n",
       "</tr>\n",
       "<tr>\n",
       "  <th>C(CUISINE_DESCRIPTION)[T.Basque]</th>                         <td>   -2.0721</td> <td>    6.891</td> <td>   -0.301</td> <td> 0.764</td> <td>  -15.578</td> <td>   11.433</td>\n",
       "</tr>\n",
       "<tr>\n",
       "  <th>C(CUISINE_DESCRIPTION)[T.Bottled Beverages]</th>              <td>   -0.6342</td> <td>    2.012</td> <td>   -0.315</td> <td> 0.753</td> <td>   -4.577</td> <td>    3.309</td>\n",
       "</tr>\n",
       "<tr>\n",
       "  <th>C(CUISINE_DESCRIPTION)[T.Brazilian]</th>                      <td>    5.8476</td> <td>    2.269</td> <td>    2.577</td> <td> 0.010</td> <td>    1.400</td> <td>   10.295</td>\n",
       "</tr>\n",
       "<tr>\n",
       "  <th>C(CUISINE_DESCRIPTION)[T.Cajun]</th>                          <td>    3.5446</td> <td>    3.186</td> <td>    1.113</td> <td> 0.266</td> <td>   -2.699</td> <td>    9.789</td>\n",
       "</tr>\n",
       "<tr>\n",
       "  <th>C(CUISINE_DESCRIPTION)[T.Californian]</th>                    <td>    4.9696</td> <td>    3.434</td> <td>    1.447</td> <td> 0.148</td> <td>   -1.762</td> <td>   11.701</td>\n",
       "</tr>\n",
       "<tr>\n",
       "  <th>C(CUISINE_DESCRIPTION)[T.Caribbean]</th>                      <td>    6.8050</td> <td>    1.903</td> <td>    3.575</td> <td> 0.000</td> <td>    3.075</td> <td>   10.535</td>\n",
       "</tr>\n",
       "<tr>\n",
       "  <th>C(CUISINE_DESCRIPTION)[T.Chicken]</th>                        <td>    3.1902</td> <td>    1.907</td> <td>    1.673</td> <td> 0.094</td> <td>   -0.548</td> <td>    6.928</td>\n",
       "</tr>\n",
       "<tr>\n",
       "  <th>C(CUISINE_DESCRIPTION)[T.Chilean]</th>                        <td>   13.9279</td> <td>    6.891</td> <td>    2.021</td> <td> 0.043</td> <td>    0.422</td> <td>   27.433</td>\n",
       "</tr>\n",
       "<tr>\n",
       "  <th>C(CUISINE_DESCRIPTION)[T.Chinese]</th>                        <td>    5.2339</td> <td>    1.892</td> <td>    2.766</td> <td> 0.006</td> <td>    1.525</td> <td>    8.943</td>\n",
       "</tr>\n",
       "<tr>\n",
       "  <th>C(CUISINE_DESCRIPTION)[T.Chinese/Cuban]</th>                  <td>   12.1907</td> <td>    2.469</td> <td>    4.938</td> <td> 0.000</td> <td>    7.352</td> <td>   17.030</td>\n",
       "</tr>\n",
       "<tr>\n",
       "  <th>C(CUISINE_DESCRIPTION)[T.Chinese/Japanese]</th>               <td>    6.6916</td> <td>    2.132</td> <td>    3.139</td> <td> 0.002</td> <td>    2.513</td> <td>   10.870</td>\n",
       "</tr>\n",
       "<tr>\n",
       "  <th>C(CUISINE_DESCRIPTION)[T.Coffee/Tea]</th>                     <td>    0.2956</td> <td>    1.895</td> <td>    0.156</td> <td> 0.876</td> <td>   -3.418</td> <td>    4.010</td>\n",
       "</tr>\n",
       "<tr>\n",
       "  <th>C(CUISINE_DESCRIPTION)[T.Continental]</th>                    <td>    1.5863</td> <td>    2.158</td> <td>    0.735</td> <td> 0.462</td> <td>   -2.644</td> <td>    5.817</td>\n",
       "</tr>\n",
       "<tr>\n",
       "  <th>C(CUISINE_DESCRIPTION)[T.Creole]</th>                         <td>    7.8844</td> <td>    2.339</td> <td>    3.371</td> <td> 0.001</td> <td>    3.300</td> <td>   12.469</td>\n",
       "</tr>\n",
       "<tr>\n",
       "  <th>C(CUISINE_DESCRIPTION)[T.Creole/Cajun]</th>                   <td>   10.1184</td> <td>    3.136</td> <td>    3.226</td> <td> 0.001</td> <td>    3.972</td> <td>   16.265</td>\n",
       "</tr>\n",
       "<tr>\n",
       "  <th>C(CUISINE_DESCRIPTION)[T.Czech]</th>                          <td>   -2.2943</td> <td>    4.266</td> <td>   -0.538</td> <td> 0.591</td> <td>  -10.656</td> <td>    6.067</td>\n",
       "</tr>\n",
       "<tr>\n",
       "  <th>C(CUISINE_DESCRIPTION)[T.Donuts]</th>                         <td>   -1.6634</td> <td>    1.906</td> <td>   -0.873</td> <td> 0.383</td> <td>   -5.398</td> <td>    2.072</td>\n",
       "</tr>\n",
       "<tr>\n",
       "  <th>C(CUISINE_DESCRIPTION)[T.Eastern European]</th>               <td>    5.7349</td> <td>    2.034</td> <td>    2.819</td> <td> 0.005</td> <td>    1.747</td> <td>    9.722</td>\n",
       "</tr>\n",
       "<tr>\n",
       "  <th>C(CUISINE_DESCRIPTION)[T.Egyptian]</th>                       <td>    2.4071</td> <td>    2.771</td> <td>    0.869</td> <td> 0.385</td> <td>   -3.024</td> <td>    7.838</td>\n",
       "</tr>\n",
       "<tr>\n",
       "  <th>C(CUISINE_DESCRIPTION)[T.English]</th>                        <td>    5.0113</td> <td>    2.511</td> <td>    1.996</td> <td> 0.046</td> <td>    0.089</td> <td>    9.933</td>\n",
       "</tr>\n",
       "<tr>\n",
       "  <th>C(CUISINE_DESCRIPTION)[T.Ethiopian]</th>                      <td>    2.5095</td> <td>    2.523</td> <td>    0.995</td> <td> 0.320</td> <td>   -2.435</td> <td>    7.454</td>\n",
       "</tr>\n",
       "<tr>\n",
       "  <th>C(CUISINE_DESCRIPTION)[T.Filipino]</th>                       <td>    9.5470</td> <td>    2.265</td> <td>    4.215</td> <td> 0.000</td> <td>    5.108</td> <td>   13.986</td>\n",
       "</tr>\n",
       "<tr>\n",
       "  <th>C(CUISINE_DESCRIPTION)[T.French]</th>                         <td>    3.7583</td> <td>    1.926</td> <td>    1.952</td> <td> 0.051</td> <td>   -0.016</td> <td>    7.532</td>\n",
       "</tr>\n",
       "<tr>\n",
       "  <th>C(CUISINE_DESCRIPTION)[T.Frozen Desserts]</th>                <td>   -1.1263</td> <td>    1.931</td> <td>   -0.583</td> <td> 0.560</td> <td>   -4.912</td> <td>    2.659</td>\n",
       "</tr>\n",
       "<tr>\n",
       "  <th>C(CUISINE_DESCRIPTION)[T.Fruits/Vegetables]</th>              <td>   -2.4054</td> <td>    4.731</td> <td>   -0.508</td> <td> 0.611</td> <td>  -11.678</td> <td>    6.868</td>\n",
       "</tr>\n",
       "<tr>\n",
       "  <th>C(CUISINE_DESCRIPTION)[T.German]</th>                         <td>    5.7329</td> <td>    2.228</td> <td>    2.573</td> <td> 0.010</td> <td>    1.367</td> <td>   10.099</td>\n",
       "</tr>\n",
       "<tr>\n",
       "  <th>C(CUISINE_DESCRIPTION)[T.Greek]</th>                          <td>    3.5994</td> <td>    1.969</td> <td>    1.828</td> <td> 0.067</td> <td>   -0.259</td> <td>    7.458</td>\n",
       "</tr>\n",
       "<tr>\n",
       "  <th>C(CUISINE_DESCRIPTION)[T.Hamburgers]</th>                     <td>    0.1464</td> <td>    1.909</td> <td>    0.077</td> <td> 0.939</td> <td>   -3.595</td> <td>    3.888</td>\n",
       "</tr>\n",
       "<tr>\n",
       "  <th>C(CUISINE_DESCRIPTION)[T.Hawaiian]</th>                       <td>    3.6732</td> <td>    2.245</td> <td>    1.636</td> <td> 0.102</td> <td>   -0.728</td> <td>    8.074</td>\n",
       "</tr>\n",
       "<tr>\n",
       "  <th>C(CUISINE_DESCRIPTION)[T.Hotdogs]</th>                        <td>   -5.1113</td> <td>    2.203</td> <td>   -2.320</td> <td> 0.020</td> <td>   -9.429</td> <td>   -0.794</td>\n",
       "</tr>\n",
       "<tr>\n",
       "  <th>C(CUISINE_DESCRIPTION)[T.Hotdogs/Pretzels]</th>               <td>   -4.3474</td> <td>    2.339</td> <td>   -1.859</td> <td> 0.063</td> <td>   -8.932</td> <td>    0.237</td>\n",
       "</tr>\n",
       "<tr>\n",
       "  <th>C(CUISINE_DESCRIPTION)[T.Indian]</th>                         <td>    7.5367</td> <td>    1.922</td> <td>    3.921</td> <td> 0.000</td> <td>    3.769</td> <td>   11.304</td>\n",
       "</tr>\n",
       "<tr>\n",
       "  <th>C(CUISINE_DESCRIPTION)[T.Indonesian]</th>                     <td>    1.3673</td> <td>    3.090</td> <td>    0.442</td> <td> 0.658</td> <td>   -4.690</td> <td>    7.424</td>\n",
       "</tr>\n",
       "<tr>\n",
       "  <th>C(CUISINE_DESCRIPTION)[T.Iranian]</th>                        <td>    3.0491</td> <td>    3.942</td> <td>    0.774</td> <td> 0.439</td> <td>   -4.677</td> <td>   10.775</td>\n",
       "</tr>\n",
       "<tr>\n",
       "  <th>C(CUISINE_DESCRIPTION)[T.Irish]</th>                          <td>    3.6331</td> <td>    1.938</td> <td>    1.875</td> <td> 0.061</td> <td>   -0.165</td> <td>    7.432</td>\n",
       "</tr>\n",
       "<tr>\n",
       "  <th>C(CUISINE_DESCRIPTION)[T.Italian]</th>                        <td>    4.4871</td> <td>    1.899</td> <td>    2.363</td> <td> 0.018</td> <td>    0.766</td> <td>    8.209</td>\n",
       "</tr>\n",
       "<tr>\n",
       "  <th>C(CUISINE_DESCRIPTION)[T.Japanese]</th>                       <td>    4.7762</td> <td>    1.902</td> <td>    2.512</td> <td> 0.012</td> <td>    1.049</td> <td>    8.503</td>\n",
       "</tr>\n",
       "<tr>\n",
       "  <th>C(CUISINE_DESCRIPTION)[T.Jewish/Kosher]</th>                  <td>    5.1236</td> <td>    1.926</td> <td>    2.661</td> <td> 0.008</td> <td>    1.349</td> <td>    8.898</td>\n",
       "</tr>\n",
       "<tr>\n",
       "  <th>C(CUISINE_DESCRIPTION)[T.Juice, Smoothies, Fruit Salads]</th> <td>    0.9234</td> <td>    1.923</td> <td>    0.480</td> <td> 0.631</td> <td>   -2.846</td> <td>    4.693</td>\n",
       "</tr>\n",
       "<tr>\n",
       "  <th>C(CUISINE_DESCRIPTION)[T.Korean]</th>                         <td>    6.1576</td> <td>    1.931</td> <td>    3.190</td> <td> 0.001</td> <td>    2.374</td> <td>    9.941</td>\n",
       "</tr>\n",
       "<tr>\n",
       "  <th>C(CUISINE_DESCRIPTION)[T.Latin American]</th>                 <td>    6.8373</td> <td>    1.900</td> <td>    3.599</td> <td> 0.000</td> <td>    3.114</td> <td>   10.560</td>\n",
       "</tr>\n",
       "<tr>\n",
       "  <th>C(CUISINE_DESCRIPTION)[T.Mediterranean]</th>                  <td>    3.8446</td> <td>    1.934</td> <td>    1.988</td> <td> 0.047</td> <td>    0.054</td> <td>    7.635</td>\n",
       "</tr>\n",
       "<tr>\n",
       "  <th>C(CUISINE_DESCRIPTION)[T.Mexican]</th>                        <td>    5.6500</td> <td>    1.902</td> <td>    2.970</td> <td> 0.003</td> <td>    1.921</td> <td>    9.379</td>\n",
       "</tr>\n",
       "<tr>\n",
       "  <th>C(CUISINE_DESCRIPTION)[T.Middle Eastern]</th>                 <td>    3.9493</td> <td>    1.960</td> <td>    2.015</td> <td> 0.044</td> <td>    0.107</td> <td>    7.791</td>\n",
       "</tr>\n",
       "<tr>\n",
       "  <th>C(CUISINE_DESCRIPTION)[T.Moroccan]</th>                       <td>    3.9383</td> <td>    2.771</td> <td>    1.421</td> <td> 0.155</td> <td>   -1.493</td> <td>    9.369</td>\n",
       "</tr>\n",
       "<tr>\n",
       "  <th>C(CUISINE_DESCRIPTION)[T.New American]</th>                   <td>    3.4517</td> <td>    4.731</td> <td>    0.730</td> <td> 0.466</td> <td>   -5.821</td> <td>   12.725</td>\n",
       "</tr>\n",
       "<tr>\n",
       "  <th>C(CUISINE_DESCRIPTION)[T.Not Listed/Not Applicable]</th>      <td>   -1.6911</td> <td>    3.602</td> <td>   -0.470</td> <td> 0.639</td> <td>   -8.750</td> <td>    5.368</td>\n",
       "</tr>\n",
       "<tr>\n",
       "  <th>C(CUISINE_DESCRIPTION)[T.Nuts/Confectionary]</th>             <td>   -2.5304</td> <td>    4.476</td> <td>   -0.565</td> <td> 0.572</td> <td>  -11.302</td> <td>    6.242</td>\n",
       "</tr>\n",
       "<tr>\n",
       "  <th>C(CUISINE_DESCRIPTION)[T.Other]</th>                          <td>   -1.0187</td> <td>    2.071</td> <td>   -0.492</td> <td> 0.623</td> <td>   -5.078</td> <td>    3.040</td>\n",
       "</tr>\n",
       "<tr>\n",
       "  <th>C(CUISINE_DESCRIPTION)[T.Pakistani]</th>                      <td>    8.1104</td> <td>    2.224</td> <td>    3.646</td> <td> 0.000</td> <td>    3.751</td> <td>   12.470</td>\n",
       "</tr>\n",
       "<tr>\n",
       "  <th>C(CUISINE_DESCRIPTION)[T.Pancakes/Waffles]</th>               <td>    2.1216</td> <td>    2.311</td> <td>    0.918</td> <td> 0.359</td> <td>   -2.408</td> <td>    6.651</td>\n",
       "</tr>\n",
       "<tr>\n",
       "  <th>C(CUISINE_DESCRIPTION)[T.Peruvian]</th>                       <td>    6.7713</td> <td>    2.014</td> <td>    3.362</td> <td> 0.001</td> <td>    2.824</td> <td>   10.719</td>\n",
       "</tr>\n",
       "<tr>\n",
       "  <th>C(CUISINE_DESCRIPTION)[T.Pizza]</th>                          <td>    3.9910</td> <td>    1.895</td> <td>    2.107</td> <td> 0.035</td> <td>    0.278</td> <td>    7.704</td>\n",
       "</tr>\n",
       "<tr>\n",
       "  <th>C(CUISINE_DESCRIPTION)[T.Polish]</th>                         <td>    5.7923</td> <td>    2.257</td> <td>    2.567</td> <td> 0.010</td> <td>    1.369</td> <td>   10.216</td>\n",
       "</tr>\n",
       "<tr>\n",
       "  <th>C(CUISINE_DESCRIPTION)[T.Portuguese]</th>                     <td>    2.7881</td> <td>    2.795</td> <td>    0.998</td> <td> 0.318</td> <td>   -2.690</td> <td>    8.266</td>\n",
       "</tr>\n",
       "<tr>\n",
       "  <th>C(CUISINE_DESCRIPTION)[T.Russian]</th>                        <td>    5.4556</td> <td>    2.065</td> <td>    2.642</td> <td> 0.008</td> <td>    1.408</td> <td>    9.504</td>\n",
       "</tr>\n",
       "<tr>\n",
       "  <th>C(CUISINE_DESCRIPTION)[T.Salads]</th>                         <td>    0.9252</td> <td>    2.023</td> <td>    0.457</td> <td> 0.647</td> <td>   -3.040</td> <td>    4.890</td>\n",
       "</tr>\n",
       "<tr>\n",
       "  <th>C(CUISINE_DESCRIPTION)[T.Sandwiches]</th>                     <td>    2.8500</td> <td>    1.903</td> <td>    1.497</td> <td> 0.134</td> <td>   -0.881</td> <td>    6.581</td>\n",
       "</tr>\n",
       "<tr>\n",
       "  <th>C(CUISINE_DESCRIPTION)[T.Sandwiches/Salads/Mixed Buffet]</th> <td>    2.0223</td> <td>    1.985</td> <td>    1.019</td> <td> 0.308</td> <td>   -1.869</td> <td>    5.914</td>\n",
       "</tr>\n",
       "<tr>\n",
       "  <th>C(CUISINE_DESCRIPTION)[T.Scandinavian]</th>                   <td>    1.3803</td> <td>    3.602</td> <td>    0.383</td> <td> 0.702</td> <td>   -5.679</td> <td>    8.440</td>\n",
       "</tr>\n",
       "<tr>\n",
       "  <th>C(CUISINE_DESCRIPTION)[T.Seafood]</th>                        <td>    3.5602</td> <td>    1.949</td> <td>    1.827</td> <td> 0.068</td> <td>   -0.260</td> <td>    7.381</td>\n",
       "</tr>\n",
       "<tr>\n",
       "  <th>C(CUISINE_DESCRIPTION)[T.Soul Food]</th>                      <td>    3.8067</td> <td>    2.088</td> <td>    1.823</td> <td> 0.068</td> <td>   -0.286</td> <td>    7.899</td>\n",
       "</tr>\n",
       "<tr>\n",
       "  <th>C(CUISINE_DESCRIPTION)[T.Soups]</th>                          <td>    6.3638</td> <td>    3.701</td> <td>    1.720</td> <td> 0.086</td> <td>   -0.890</td> <td>   13.617</td>\n",
       "</tr>\n",
       "<tr>\n",
       "  <th>C(CUISINE_DESCRIPTION)[T.Soups/Salads/Sandwiches]</th>        <td>   -1.4762</td> <td>    1.987</td> <td>   -0.743</td> <td> 0.458</td> <td>   -5.371</td> <td>    2.419</td>\n",
       "</tr>\n",
       "<tr>\n",
       "  <th>C(CUISINE_DESCRIPTION)[T.Southeast Asian]</th>                <td>    6.6239</td> <td>    1.998</td> <td>    3.316</td> <td> 0.001</td> <td>    2.709</td> <td>   10.539</td>\n",
       "</tr>\n",
       "<tr>\n",
       "  <th>C(CUISINE_DESCRIPTION)[T.Southwestern]</th>                   <td>   10.8446</td> <td>    3.813</td> <td>    2.844</td> <td> 0.004</td> <td>    3.371</td> <td>   18.319</td>\n",
       "</tr>\n",
       "<tr>\n",
       "  <th>C(CUISINE_DESCRIPTION)[T.Spanish]</th>                        <td>    6.5303</td> <td>    1.907</td> <td>    3.424</td> <td> 0.001</td> <td>    2.792</td> <td>   10.269</td>\n",
       "</tr>\n",
       "<tr>\n",
       "  <th>C(CUISINE_DESCRIPTION)[T.Steakhouse]</th>                     <td>    3.5911</td> <td>    2.006</td> <td>    1.790</td> <td> 0.073</td> <td>   -0.341</td> <td>    7.523</td>\n",
       "</tr>\n",
       "<tr>\n",
       "  <th>C(CUISINE_DESCRIPTION)[T.Tapas]</th>                          <td>    3.5561</td> <td>    2.197</td> <td>    1.618</td> <td> 0.106</td> <td>   -0.750</td> <td>    7.863</td>\n",
       "</tr>\n",
       "<tr>\n",
       "  <th>C(CUISINE_DESCRIPTION)[T.Tex-Mex]</th>                        <td>    1.7148</td> <td>    1.921</td> <td>    0.893</td> <td> 0.372</td> <td>   -2.050</td> <td>    5.480</td>\n",
       "</tr>\n",
       "<tr>\n",
       "  <th>C(CUISINE_DESCRIPTION)[T.Thai]</th>                           <td>    5.9901</td> <td>    1.930</td> <td>    3.104</td> <td> 0.002</td> <td>    2.208</td> <td>    9.772</td>\n",
       "</tr>\n",
       "<tr>\n",
       "  <th>C(CUISINE_DESCRIPTION)[T.Turkish]</th>                        <td>    7.4227</td> <td>    2.061</td> <td>    3.602</td> <td> 0.000</td> <td>    3.383</td> <td>   11.462</td>\n",
       "</tr>\n",
       "<tr>\n",
       "  <th>C(CUISINE_DESCRIPTION)[T.Vegan]</th>                          <td>    5.6053</td> <td>    2.231</td> <td>    2.512</td> <td> 0.012</td> <td>    1.232</td> <td>    9.978</td>\n",
       "</tr>\n",
       "<tr>\n",
       "  <th>C(CUISINE_DESCRIPTION)[T.Vegetarian]</th>                     <td>    5.0054</td> <td>    2.018</td> <td>    2.481</td> <td> 0.013</td> <td>    1.050</td> <td>    8.960</td>\n",
       "</tr>\n",
       "</table>\n",
       "<table class=\"simpletable\">\n",
       "<tr>\n",
       "  <th>Omnibus:</th>       <td>31438.938</td> <th>  Durbin-Watson:     </th>  <td>   1.814</td> \n",
       "</tr>\n",
       "<tr>\n",
       "  <th>Prob(Omnibus):</th>  <td> 0.000</td>   <th>  Jarque-Bera (JB):  </th> <td>185042.347</td>\n",
       "</tr>\n",
       "<tr>\n",
       "  <th>Skew:</th>           <td> 2.020</td>   <th>  Prob(JB):          </th>  <td>    0.00</td> \n",
       "</tr>\n",
       "<tr>\n",
       "  <th>Kurtosis:</th>       <td> 9.701</td>   <th>  Cond. No.          </th>  <td>    422.</td> \n",
       "</tr>\n",
       "</table><br/><br/>Warnings:<br/>[1] Standard Errors assume that the covariance matrix of the errors is correctly specified."
      ],
      "text/plain": [
       "<class 'statsmodels.iolib.summary.Summary'>\n",
       "\"\"\"\n",
       "                            OLS Regression Results                            \n",
       "==============================================================================\n",
       "Dep. Variable:                  SCORE   R-squared:                       0.037\n",
       "Model:                            OLS   Adj. R-squared:                  0.036\n",
       "Method:                 Least Squares   F-statistic:                     34.34\n",
       "Date:                Wed, 06 Oct 2021   Prob (F-statistic):               0.00\n",
       "Time:                        12:24:18   Log-Likelihood:            -2.7990e+05\n",
       "No. Observations:               72534   AIC:                         5.600e+05\n",
       "Df Residuals:                   72451   BIC:                         5.607e+05\n",
       "Df Model:                          82                                         \n",
       "Covariance Type:            nonrobust                                         \n",
       "============================================================================================================================\n",
       "                                                               coef    std err          t      P>|t|      [0.025      0.975]\n",
       "----------------------------------------------------------------------------------------------------------------------------\n",
       "Intercept                                                   12.4054      1.887      6.574      0.000       8.707      16.104\n",
       "C(CUISINE_DESCRIPTION)[T.African]                            8.8529      2.027      4.367      0.000       4.879      12.826\n",
       "C(CUISINE_DESCRIPTION)[T.American]                           2.8134      1.889      1.489      0.136      -0.890       6.516\n",
       "C(CUISINE_DESCRIPTION)[T.Asian/Asian Fusion]                 5.6018      1.922      2.914      0.004       1.834       9.370\n",
       "C(CUISINE_DESCRIPTION)[T.Australian]                         7.8733      2.392      3.292      0.001       3.185      12.561\n",
       "C(CUISINE_DESCRIPTION)[T.Bagels/Pretzels]                    3.7978      1.955      1.943      0.052      -0.033       7.629\n",
       "C(CUISINE_DESCRIPTION)[T.Bakery Products/Desserts]           3.7968      1.902      1.996      0.046       0.069       7.525\n",
       "C(CUISINE_DESCRIPTION)[T.Bangladeshi]                       12.8204      2.100      6.104      0.000       8.704      16.937\n",
       "C(CUISINE_DESCRIPTION)[T.Barbecue]                           5.2692      2.083      2.529      0.011       1.186       9.353\n",
       "C(CUISINE_DESCRIPTION)[T.Basque]                            -2.0721      6.891     -0.301      0.764     -15.578      11.433\n",
       "C(CUISINE_DESCRIPTION)[T.Bottled Beverages]                 -0.6342      2.012     -0.315      0.753      -4.577       3.309\n",
       "C(CUISINE_DESCRIPTION)[T.Brazilian]                          5.8476      2.269      2.577      0.010       1.400      10.295\n",
       "C(CUISINE_DESCRIPTION)[T.Cajun]                              3.5446      3.186      1.113      0.266      -2.699       9.789\n",
       "C(CUISINE_DESCRIPTION)[T.Californian]                        4.9696      3.434      1.447      0.148      -1.762      11.701\n",
       "C(CUISINE_DESCRIPTION)[T.Caribbean]                          6.8050      1.903      3.575      0.000       3.075      10.535\n",
       "C(CUISINE_DESCRIPTION)[T.Chicken]                            3.1902      1.907      1.673      0.094      -0.548       6.928\n",
       "C(CUISINE_DESCRIPTION)[T.Chilean]                           13.9279      6.891      2.021      0.043       0.422      27.433\n",
       "C(CUISINE_DESCRIPTION)[T.Chinese]                            5.2339      1.892      2.766      0.006       1.525       8.943\n",
       "C(CUISINE_DESCRIPTION)[T.Chinese/Cuban]                     12.1907      2.469      4.938      0.000       7.352      17.030\n",
       "C(CUISINE_DESCRIPTION)[T.Chinese/Japanese]                   6.6916      2.132      3.139      0.002       2.513      10.870\n",
       "C(CUISINE_DESCRIPTION)[T.Coffee/Tea]                         0.2956      1.895      0.156      0.876      -3.418       4.010\n",
       "C(CUISINE_DESCRIPTION)[T.Continental]                        1.5863      2.158      0.735      0.462      -2.644       5.817\n",
       "C(CUISINE_DESCRIPTION)[T.Creole]                             7.8844      2.339      3.371      0.001       3.300      12.469\n",
       "C(CUISINE_DESCRIPTION)[T.Creole/Cajun]                      10.1184      3.136      3.226      0.001       3.972      16.265\n",
       "C(CUISINE_DESCRIPTION)[T.Czech]                             -2.2943      4.266     -0.538      0.591     -10.656       6.067\n",
       "C(CUISINE_DESCRIPTION)[T.Donuts]                            -1.6634      1.906     -0.873      0.383      -5.398       2.072\n",
       "C(CUISINE_DESCRIPTION)[T.Eastern European]                   5.7349      2.034      2.819      0.005       1.747       9.722\n",
       "C(CUISINE_DESCRIPTION)[T.Egyptian]                           2.4071      2.771      0.869      0.385      -3.024       7.838\n",
       "C(CUISINE_DESCRIPTION)[T.English]                            5.0113      2.511      1.996      0.046       0.089       9.933\n",
       "C(CUISINE_DESCRIPTION)[T.Ethiopian]                          2.5095      2.523      0.995      0.320      -2.435       7.454\n",
       "C(CUISINE_DESCRIPTION)[T.Filipino]                           9.5470      2.265      4.215      0.000       5.108      13.986\n",
       "C(CUISINE_DESCRIPTION)[T.French]                             3.7583      1.926      1.952      0.051      -0.016       7.532\n",
       "C(CUISINE_DESCRIPTION)[T.Frozen Desserts]                   -1.1263      1.931     -0.583      0.560      -4.912       2.659\n",
       "C(CUISINE_DESCRIPTION)[T.Fruits/Vegetables]                 -2.4054      4.731     -0.508      0.611     -11.678       6.868\n",
       "C(CUISINE_DESCRIPTION)[T.German]                             5.7329      2.228      2.573      0.010       1.367      10.099\n",
       "C(CUISINE_DESCRIPTION)[T.Greek]                              3.5994      1.969      1.828      0.067      -0.259       7.458\n",
       "C(CUISINE_DESCRIPTION)[T.Hamburgers]                         0.1464      1.909      0.077      0.939      -3.595       3.888\n",
       "C(CUISINE_DESCRIPTION)[T.Hawaiian]                           3.6732      2.245      1.636      0.102      -0.728       8.074\n",
       "C(CUISINE_DESCRIPTION)[T.Hotdogs]                           -5.1113      2.203     -2.320      0.020      -9.429      -0.794\n",
       "C(CUISINE_DESCRIPTION)[T.Hotdogs/Pretzels]                  -4.3474      2.339     -1.859      0.063      -8.932       0.237\n",
       "C(CUISINE_DESCRIPTION)[T.Indian]                             7.5367      1.922      3.921      0.000       3.769      11.304\n",
       "C(CUISINE_DESCRIPTION)[T.Indonesian]                         1.3673      3.090      0.442      0.658      -4.690       7.424\n",
       "C(CUISINE_DESCRIPTION)[T.Iranian]                            3.0491      3.942      0.774      0.439      -4.677      10.775\n",
       "C(CUISINE_DESCRIPTION)[T.Irish]                              3.6331      1.938      1.875      0.061      -0.165       7.432\n",
       "C(CUISINE_DESCRIPTION)[T.Italian]                            4.4871      1.899      2.363      0.018       0.766       8.209\n",
       "C(CUISINE_DESCRIPTION)[T.Japanese]                           4.7762      1.902      2.512      0.012       1.049       8.503\n",
       "C(CUISINE_DESCRIPTION)[T.Jewish/Kosher]                      5.1236      1.926      2.661      0.008       1.349       8.898\n",
       "C(CUISINE_DESCRIPTION)[T.Juice, Smoothies, Fruit Salads]     0.9234      1.923      0.480      0.631      -2.846       4.693\n",
       "C(CUISINE_DESCRIPTION)[T.Korean]                             6.1576      1.931      3.190      0.001       2.374       9.941\n",
       "C(CUISINE_DESCRIPTION)[T.Latin American]                     6.8373      1.900      3.599      0.000       3.114      10.560\n",
       "C(CUISINE_DESCRIPTION)[T.Mediterranean]                      3.8446      1.934      1.988      0.047       0.054       7.635\n",
       "C(CUISINE_DESCRIPTION)[T.Mexican]                            5.6500      1.902      2.970      0.003       1.921       9.379\n",
       "C(CUISINE_DESCRIPTION)[T.Middle Eastern]                     3.9493      1.960      2.015      0.044       0.107       7.791\n",
       "C(CUISINE_DESCRIPTION)[T.Moroccan]                           3.9383      2.771      1.421      0.155      -1.493       9.369\n",
       "C(CUISINE_DESCRIPTION)[T.New American]                       3.4517      4.731      0.730      0.466      -5.821      12.725\n",
       "C(CUISINE_DESCRIPTION)[T.Not Listed/Not Applicable]         -1.6911      3.602     -0.470      0.639      -8.750       5.368\n",
       "C(CUISINE_DESCRIPTION)[T.Nuts/Confectionary]                -2.5304      4.476     -0.565      0.572     -11.302       6.242\n",
       "C(CUISINE_DESCRIPTION)[T.Other]                             -1.0187      2.071     -0.492      0.623      -5.078       3.040\n",
       "C(CUISINE_DESCRIPTION)[T.Pakistani]                          8.1104      2.224      3.646      0.000       3.751      12.470\n",
       "C(CUISINE_DESCRIPTION)[T.Pancakes/Waffles]                   2.1216      2.311      0.918      0.359      -2.408       6.651\n",
       "C(CUISINE_DESCRIPTION)[T.Peruvian]                           6.7713      2.014      3.362      0.001       2.824      10.719\n",
       "C(CUISINE_DESCRIPTION)[T.Pizza]                              3.9910      1.895      2.107      0.035       0.278       7.704\n",
       "C(CUISINE_DESCRIPTION)[T.Polish]                             5.7923      2.257      2.567      0.010       1.369      10.216\n",
       "C(CUISINE_DESCRIPTION)[T.Portuguese]                         2.7881      2.795      0.998      0.318      -2.690       8.266\n",
       "C(CUISINE_DESCRIPTION)[T.Russian]                            5.4556      2.065      2.642      0.008       1.408       9.504\n",
       "C(CUISINE_DESCRIPTION)[T.Salads]                             0.9252      2.023      0.457      0.647      -3.040       4.890\n",
       "C(CUISINE_DESCRIPTION)[T.Sandwiches]                         2.8500      1.903      1.497      0.134      -0.881       6.581\n",
       "C(CUISINE_DESCRIPTION)[T.Sandwiches/Salads/Mixed Buffet]     2.0223      1.985      1.019      0.308      -1.869       5.914\n",
       "C(CUISINE_DESCRIPTION)[T.Scandinavian]                       1.3803      3.602      0.383      0.702      -5.679       8.440\n",
       "C(CUISINE_DESCRIPTION)[T.Seafood]                            3.5602      1.949      1.827      0.068      -0.260       7.381\n",
       "C(CUISINE_DESCRIPTION)[T.Soul Food]                          3.8067      2.088      1.823      0.068      -0.286       7.899\n",
       "C(CUISINE_DESCRIPTION)[T.Soups]                              6.3638      3.701      1.720      0.086      -0.890      13.617\n",
       "C(CUISINE_DESCRIPTION)[T.Soups/Salads/Sandwiches]           -1.4762      1.987     -0.743      0.458      -5.371       2.419\n",
       "C(CUISINE_DESCRIPTION)[T.Southeast Asian]                    6.6239      1.998      3.316      0.001       2.709      10.539\n",
       "C(CUISINE_DESCRIPTION)[T.Southwestern]                      10.8446      3.813      2.844      0.004       3.371      18.319\n",
       "C(CUISINE_DESCRIPTION)[T.Spanish]                            6.5303      1.907      3.424      0.001       2.792      10.269\n",
       "C(CUISINE_DESCRIPTION)[T.Steakhouse]                         3.5911      2.006      1.790      0.073      -0.341       7.523\n",
       "C(CUISINE_DESCRIPTION)[T.Tapas]                              3.5561      2.197      1.618      0.106      -0.750       7.863\n",
       "C(CUISINE_DESCRIPTION)[T.Tex-Mex]                            1.7148      1.921      0.893      0.372      -2.050       5.480\n",
       "C(CUISINE_DESCRIPTION)[T.Thai]                               5.9901      1.930      3.104      0.002       2.208       9.772\n",
       "C(CUISINE_DESCRIPTION)[T.Turkish]                            7.4227      2.061      3.602      0.000       3.383      11.462\n",
       "C(CUISINE_DESCRIPTION)[T.Vegan]                              5.6053      2.231      2.512      0.012       1.232       9.978\n",
       "C(CUISINE_DESCRIPTION)[T.Vegetarian]                         5.0054      2.018      2.481      0.013       1.050       8.960\n",
       "==============================================================================\n",
       "Omnibus:                    31438.938   Durbin-Watson:                   1.814\n",
       "Prob(Omnibus):                  0.000   Jarque-Bera (JB):           185042.347\n",
       "Skew:                           2.020   Prob(JB):                         0.00\n",
       "Kurtosis:                       9.701   Cond. No.                         422.\n",
       "==============================================================================\n",
       "\n",
       "Warnings:\n",
       "[1] Standard Errors assume that the covariance matrix of the errors is correctly specified.\n",
       "\"\"\""
      ]
     },
     "execution_count": 26,
     "metadata": {},
     "output_type": "execute_result"
    }
   ],
   "source": [
    "sm.OLS.from_formula('SCORE ~ C(CUISINE_DESCRIPTION)', data=d).fit().summary() "
   ]
  },
  {
   "cell_type": "markdown",
   "metadata": {
    "id": "tHuSZssojjzm"
   },
   "source": [
    "# Interaction terms: compare time trends in Manhattan and the Bronx by year. \n",
    "\n",
    "This can be a bit tricky to interpret!"
   ]
  },
  {
   "cell_type": "code",
   "execution_count": 27,
   "metadata": {
    "id": "AdFuodxojjzm",
    "outputId": "d0623bcc-343a-4c12-cb0a-34a495960cd8"
   },
   "outputs": [
    {
     "data": {
      "text/html": [
       "<table class=\"simpletable\">\n",
       "<caption>OLS Regression Results</caption>\n",
       "<tr>\n",
       "  <th>Dep. Variable:</th>          <td>SCORE</td>      <th>  R-squared:         </th>  <td>   0.002</td>  \n",
       "</tr>\n",
       "<tr>\n",
       "  <th>Model:</th>                   <td>OLS</td>       <th>  Adj. R-squared:    </th>  <td>   0.002</td>  \n",
       "</tr>\n",
       "<tr>\n",
       "  <th>Method:</th>             <td>Least Squares</td>  <th>  F-statistic:       </th>  <td>   20.68</td>  \n",
       "</tr>\n",
       "<tr>\n",
       "  <th>Date:</th>             <td>Wed, 06 Oct 2021</td> <th>  Prob (F-statistic):</th>  <td>2.20e-13</td>  \n",
       "</tr>\n",
       "<tr>\n",
       "  <th>Time:</th>                 <td>12:24:18</td>     <th>  Log-Likelihood:    </th> <td>-1.3837e+05</td>\n",
       "</tr>\n",
       "<tr>\n",
       "  <th>No. Observations:</th>      <td> 35704</td>      <th>  AIC:               </th>  <td>2.767e+05</td> \n",
       "</tr>\n",
       "<tr>\n",
       "  <th>Df Residuals:</th>          <td> 35700</td>      <th>  BIC:               </th>  <td>2.768e+05</td> \n",
       "</tr>\n",
       "<tr>\n",
       "  <th>Df Model:</th>              <td>     3</td>      <th>                     </th>      <td> </td>     \n",
       "</tr>\n",
       "<tr>\n",
       "  <th>Covariance Type:</th>      <td>nonrobust</td>    <th>                     </th>      <td> </td>     \n",
       "</tr>\n",
       "</table>\n",
       "<table class=\"simpletable\">\n",
       "<tr>\n",
       "              <td></td>                 <th>coef</th>     <th>std err</th>      <th>t</th>      <th>P>|t|</th>  <th>[0.025</th>    <th>0.975]</th>  \n",
       "</tr>\n",
       "<tr>\n",
       "  <th>Intercept</th>                 <td>-1181.5773</td> <td>  271.123</td> <td>   -4.358</td> <td> 0.000</td> <td>-1712.986</td> <td> -650.169</td>\n",
       "</tr>\n",
       "<tr>\n",
       "  <th>C(BORO)[T.Manhattan]</th>      <td>  567.3123</td> <td>  301.934</td> <td>    1.879</td> <td> 0.060</td> <td>  -24.487</td> <td> 1159.112</td>\n",
       "</tr>\n",
       "<tr>\n",
       "  <th>YEAR</th>                      <td>    0.5932</td> <td>    0.134</td> <td>    4.416</td> <td> 0.000</td> <td>    0.330</td> <td>    0.856</td>\n",
       "</tr>\n",
       "<tr>\n",
       "  <th>C(BORO)[T.Manhattan]:YEAR</th> <td>   -0.2807</td> <td>    0.150</td> <td>   -1.877</td> <td> 0.061</td> <td>   -0.574</td> <td>    0.012</td>\n",
       "</tr>\n",
       "</table>\n",
       "<table class=\"simpletable\">\n",
       "<tr>\n",
       "  <th>Omnibus:</th>       <td>14974.970</td> <th>  Durbin-Watson:     </th> <td>   1.786</td> \n",
       "</tr>\n",
       "<tr>\n",
       "  <th>Prob(Omnibus):</th>  <td> 0.000</td>   <th>  Jarque-Bera (JB):  </th> <td>83706.068</td>\n",
       "</tr>\n",
       "<tr>\n",
       "  <th>Skew:</th>           <td> 1.960</td>   <th>  Prob(JB):          </th> <td>    0.00</td> \n",
       "</tr>\n",
       "<tr>\n",
       "  <th>Kurtosis:</th>       <td> 9.395</td>   <th>  Cond. No.          </th> <td>1.69e+07</td> \n",
       "</tr>\n",
       "</table><br/><br/>Warnings:<br/>[1] Standard Errors assume that the covariance matrix of the errors is correctly specified.<br/>[2] The condition number is large, 1.69e+07. This might indicate that there are<br/>strong multicollinearity or other numerical problems."
      ],
      "text/plain": [
       "<class 'statsmodels.iolib.summary.Summary'>\n",
       "\"\"\"\n",
       "                            OLS Regression Results                            \n",
       "==============================================================================\n",
       "Dep. Variable:                  SCORE   R-squared:                       0.002\n",
       "Model:                            OLS   Adj. R-squared:                  0.002\n",
       "Method:                 Least Squares   F-statistic:                     20.68\n",
       "Date:                Wed, 06 Oct 2021   Prob (F-statistic):           2.20e-13\n",
       "Time:                        12:24:18   Log-Likelihood:            -1.3837e+05\n",
       "No. Observations:               35704   AIC:                         2.767e+05\n",
       "Df Residuals:                   35700   BIC:                         2.768e+05\n",
       "Df Model:                           3                                         \n",
       "Covariance Type:            nonrobust                                         \n",
       "=============================================================================================\n",
       "                                coef    std err          t      P>|t|      [0.025      0.975]\n",
       "---------------------------------------------------------------------------------------------\n",
       "Intercept                 -1181.5773    271.123     -4.358      0.000   -1712.986    -650.169\n",
       "C(BORO)[T.Manhattan]        567.3123    301.934      1.879      0.060     -24.487    1159.112\n",
       "YEAR                          0.5932      0.134      4.416      0.000       0.330       0.856\n",
       "C(BORO)[T.Manhattan]:YEAR    -0.2807      0.150     -1.877      0.061      -0.574       0.012\n",
       "==============================================================================\n",
       "Omnibus:                    14974.970   Durbin-Watson:                   1.786\n",
       "Prob(Omnibus):                  0.000   Jarque-Bera (JB):            83706.068\n",
       "Skew:                           1.960   Prob(JB):                         0.00\n",
       "Kurtosis:                       9.395   Cond. No.                     1.69e+07\n",
       "==============================================================================\n",
       "\n",
       "Warnings:\n",
       "[1] Standard Errors assume that the covariance matrix of the errors is correctly specified.\n",
       "[2] The condition number is large, 1.69e+07. This might indicate that there are\n",
       "strong multicollinearity or other numerical problems.\n",
       "\"\"\""
      ]
     },
     "execution_count": 27,
     "metadata": {},
     "output_type": "execute_result"
    }
   ],
   "source": [
    "sm.OLS.from_formula('SCORE ~ C(BORO) * YEAR', data=\n",
    "                    d.loc[d['BORO'].map(lambda x:x in ['Manhattan', 'Bronx'])]).fit().summary() "
   ]
  },
  {
   "cell_type": "markdown",
   "metadata": {
    "id": "mYLvn2KHjjzm"
   },
   "source": [
    "# Statmodels will let you run regressions sometimes even if the regression doesn't make much sense. Think about the model you're specifying and whether it's logical. What's wrong with the regression below, and how can we fix it?"
   ]
  },
  {
   "cell_type": "code",
   "execution_count": 28,
   "metadata": {
    "id": "v7PkWzw1jjzm",
    "outputId": "6f3793ac-52f5-42e3-93d0-d71cd4f17dbc"
   },
   "outputs": [
    {
     "data": {
      "text/html": [
       "<table class=\"simpletable\">\n",
       "<caption>OLS Regression Results</caption>\n",
       "<tr>\n",
       "  <th>Dep. Variable:</th>          <td>SCORE</td>      <th>  R-squared:         </th>  <td>   0.000</td>  \n",
       "</tr>\n",
       "<tr>\n",
       "  <th>Model:</th>                   <td>OLS</td>       <th>  Adj. R-squared:    </th>  <td>   0.000</td>  \n",
       "</tr>\n",
       "<tr>\n",
       "  <th>Method:</th>             <td>Least Squares</td>  <th>  F-statistic:       </th>  <td>   1.994</td>  \n",
       "</tr>\n",
       "<tr>\n",
       "  <th>Date:</th>             <td>Wed, 06 Oct 2021</td> <th>  Prob (F-statistic):</th>   <td> 0.158</td>   \n",
       "</tr>\n",
       "<tr>\n",
       "  <th>Time:</th>                 <td>12:24:19</td>     <th>  Log-Likelihood:    </th> <td>-2.7601e+05</td>\n",
       "</tr>\n",
       "<tr>\n",
       "  <th>No. Observations:</th>      <td> 71178</td>      <th>  AIC:               </th>  <td>5.520e+05</td> \n",
       "</tr>\n",
       "<tr>\n",
       "  <th>Df Residuals:</th>          <td> 71176</td>      <th>  BIC:               </th>  <td>5.520e+05</td> \n",
       "</tr>\n",
       "<tr>\n",
       "  <th>Df Model:</th>              <td>     1</td>      <th>                     </th>      <td> </td>     \n",
       "</tr>\n",
       "<tr>\n",
       "  <th>Covariance Type:</th>      <td>nonrobust</td>    <th>                     </th>      <td> </td>     \n",
       "</tr>\n",
       "</table>\n",
       "<table class=\"simpletable\">\n",
       "<tr>\n",
       "      <td></td>         <th>coef</th>     <th>std err</th>      <th>t</th>      <th>P>|t|</th>  <th>[0.025</th>    <th>0.975]</th>  \n",
       "</tr>\n",
       "<tr>\n",
       "  <th>Intercept</th> <td>   17.2417</td> <td>    0.787</td> <td>   21.906</td> <td> 0.000</td> <td>   15.699</td> <td>   18.784</td>\n",
       "</tr>\n",
       "<tr>\n",
       "  <th>ZIPCODE</th>   <td>   -0.0001</td> <td> 7.36e-05</td> <td>   -1.412</td> <td> 0.158</td> <td>   -0.000</td> <td> 4.03e-05</td>\n",
       "</tr>\n",
       "</table>\n",
       "<table class=\"simpletable\">\n",
       "<tr>\n",
       "  <th>Omnibus:</th>       <td>30820.610</td> <th>  Durbin-Watson:     </th>  <td>   1.800</td> \n",
       "</tr>\n",
       "<tr>\n",
       "  <th>Prob(Omnibus):</th>  <td> 0.000</td>   <th>  Jarque-Bera (JB):  </th> <td>178103.672</td>\n",
       "</tr>\n",
       "<tr>\n",
       "  <th>Skew:</th>           <td> 2.025</td>   <th>  Prob(JB):          </th>  <td>    0.00</td> \n",
       "</tr>\n",
       "<tr>\n",
       "  <th>Kurtosis:</th>       <td> 9.607</td>   <th>  Cond. No.          </th>  <td>1.92e+05</td> \n",
       "</tr>\n",
       "</table><br/><br/>Warnings:<br/>[1] Standard Errors assume that the covariance matrix of the errors is correctly specified.<br/>[2] The condition number is large, 1.92e+05. This might indicate that there are<br/>strong multicollinearity or other numerical problems."
      ],
      "text/plain": [
       "<class 'statsmodels.iolib.summary.Summary'>\n",
       "\"\"\"\n",
       "                            OLS Regression Results                            \n",
       "==============================================================================\n",
       "Dep. Variable:                  SCORE   R-squared:                       0.000\n",
       "Model:                            OLS   Adj. R-squared:                  0.000\n",
       "Method:                 Least Squares   F-statistic:                     1.994\n",
       "Date:                Wed, 06 Oct 2021   Prob (F-statistic):              0.158\n",
       "Time:                        12:24:19   Log-Likelihood:            -2.7601e+05\n",
       "No. Observations:               71178   AIC:                         5.520e+05\n",
       "Df Residuals:                   71176   BIC:                         5.520e+05\n",
       "Df Model:                           1                                         \n",
       "Covariance Type:            nonrobust                                         \n",
       "==============================================================================\n",
       "                 coef    std err          t      P>|t|      [0.025      0.975]\n",
       "------------------------------------------------------------------------------\n",
       "Intercept     17.2417      0.787     21.906      0.000      15.699      18.784\n",
       "ZIPCODE       -0.0001   7.36e-05     -1.412      0.158      -0.000    4.03e-05\n",
       "==============================================================================\n",
       "Omnibus:                    30820.610   Durbin-Watson:                   1.800\n",
       "Prob(Omnibus):                  0.000   Jarque-Bera (JB):           178103.672\n",
       "Skew:                           2.025   Prob(JB):                         0.00\n",
       "Kurtosis:                       9.607   Cond. No.                     1.92e+05\n",
       "==============================================================================\n",
       "\n",
       "Warnings:\n",
       "[1] Standard Errors assume that the covariance matrix of the errors is correctly specified.\n",
       "[2] The condition number is large, 1.92e+05. This might indicate that there are\n",
       "strong multicollinearity or other numerical problems.\n",
       "\"\"\""
      ]
     },
     "execution_count": 28,
     "metadata": {},
     "output_type": "execute_result"
    }
   ],
   "source": [
    "sm.OLS.from_formula('SCORE ~ ZIPCODE', data=d).fit().summary() "
   ]
  },
  {
   "cell_type": "markdown",
   "metadata": {
    "id": "4PIbqIQjjjzn"
   },
   "source": [
    "# Linear regression caveats and things to be aware of"
   ]
  },
  {
   "cell_type": "markdown",
   "metadata": {
    "id": "hsjEGO7qjjzn"
   },
   "source": [
    "Linear regression is, as I said, an incredibly powerful and widely used statistical technique, but it does have some important caveats to be aware of. Let's discuss."
   ]
  },
  {
   "cell_type": "markdown",
   "metadata": {
    "id": "t8n0wFlWjjzn"
   },
   "source": [
    "**Caveat 1: Linear regression assumes the model is ... linear.**\n",
    "\n",
    "By linear, I mean that the model you're fitting is\n",
    "\n",
    "$$ y = \\alpha + \\beta_1x_1 + \\beta_2x_2 + ... + noise $$\n",
    "\n",
    "where the xs are the columns of your data. But if the real model is, for example, \n",
    "\n",
    "$$ y = \\alpha + \\beta_1x_1^2 + \\beta_2x_2 + ... + noise $$\n",
    "\n",
    "you can end up with pretty misleading results. "
   ]
  },
  {
   "cell_type": "code",
   "execution_count": 29,
   "metadata": {
    "id": "q47gR3gzjjzn",
    "outputId": "71a41443-7f2a-4535-e731-cb7396474e4a"
   },
   "outputs": [
    {
     "data": {
      "text/plain": [
       "<matplotlib.legend.Legend at 0x7ff99b7e6bb0>"
      ]
     },
     "execution_count": 29,
     "metadata": {},
     "output_type": "execute_result"
    },
    {
     "data": {
      "image/png": "[encoded data removed]",
      "text/plain": [
       "<Figure size 432x288 with 1 Axes>"
      ]
     },
     "metadata": {
      "needs_background": "light"
     },
     "output_type": "display_data"
    }
   ],
   "source": [
    "x = np.random.normal(size=5000,)\n",
    "quadratic_y = x ** 2 + np.random.normal(size=x.shape)\n",
    "\n",
    "plt.scatter(x, quadratic_y, label='lol, data is not a straight line')\n",
    "bad_slope, bad_intercept, _, _, _ = linregress(x, quadratic_y)\n",
    "\n",
    "plt.plot([x.min(), \n",
    "          x.max()], \n",
    "         [x.min() * bad_slope + bad_intercept, \n",
    "          x.max() * bad_slope + bad_intercept], \n",
    "         color='red', \n",
    "         label=':( linear fit')\n",
    "plt.legend()\n"
   ]
  },
  {
   "cell_type": "markdown",
   "metadata": {
    "id": "Giu4DyFljjzn"
   },
   "source": [
    "**Solution:** First, think carefully about what the right form for your model is. Should you have a quadratic term in there? Should you divide the variable into bins and use a categorical coding? If you're uncertain, try 1) running things both ways and making sure it doesn't change your main results 2) looking at past work to see how they did it and 3) visualizing model fit, as we did above, to see whether it makes any sense. "
   ]
  },
  {
   "cell_type": "markdown",
   "metadata": {
    "id": "tjkdrdJHjjzn"
   },
   "source": [
    "**Caveat 2: Like Pearson correlation, linear regression is susceptible to outliers.**"
   ]
  },
  {
   "cell_type": "code",
   "execution_count": 30,
   "metadata": {
    "id": "AQWx4if4jjzn",
    "outputId": "069330e6-f7e8-4cd2-a710-ffb6e018ed0c"
   },
   "outputs": [
    {
     "data": {
      "text/plain": [
       "<matplotlib.legend.Legend at 0x7ff9ae794160>"
      ]
     },
     "execution_count": 30,
     "metadata": {},
     "output_type": "execute_result"
    },
    {
     "data": {
      "image/png": "[encoded data removed]",
      "text/plain": [
       "<Figure size 432x288 with 1 Axes>"
      ]
     },
     "metadata": {
      "needs_background": "light"
     },
     "output_type": "display_data"
    }
   ],
   "source": [
    "x = np.random.normal(size=5000,)\n",
    "y = x + np.random.normal(size=x.shape)\n",
    "\n",
    "y_with_outlier = y.copy()\n",
    "y_with_outlier[-1] = 10000\n",
    "\n",
    "outlier_slope, outlier_intercept, _, _, _ = linregress(x, y_with_outlier)\n",
    "outlier_removed_x = x[:-1]\n",
    "outlier_removed_y = y_with_outlier[:-1]\n",
    "slope_no_outlier, intercept_no_outlier, _, _, _ =  linregress(outlier_removed_x, outlier_removed_y)\n",
    "\n",
    "\n",
    "plt.scatter(outlier_removed_x, outlier_removed_y, label='data without outlier')\n",
    "\n",
    "plt.plot([outlier_removed_x.min(), \n",
    "          outlier_removed_x.max()], \n",
    "         [outlier_removed_x.min() * slope_no_outlier + intercept_no_outlier, \n",
    "          outlier_removed_x.max() * slope_no_outlier + intercept_no_outlier], \n",
    "         color='black', \n",
    "         label='fit with outlier removed')\n",
    "plt.plot([outlier_removed_x.min(), \n",
    "          outlier_removed_x.max()], \n",
    "         [outlier_removed_x.min() * outlier_slope + outlier_intercept, \n",
    "          outlier_removed_x.max() * outlier_slope + outlier_intercept], \n",
    "         color='red', \n",
    "         label='whoa, outlier messes up fit')\n",
    "plt.legend()\n"
   ]
  },
  {
   "cell_type": "markdown",
   "metadata": {
    "id": "j8GwqenTjjzn"
   },
   "source": [
    "**Solution**: Detect and deal with outliers as discussed in the data cleaning lecture. "
   ]
  },
  {
   "cell_type": "markdown",
   "metadata": {
    "id": "tr3cxucFjjzn"
   },
   "source": [
    "**Caveat 3: While it is often tempting to interpret linear regression coefficients as causal, this should be done cautiously at best.**"
   ]
  },
  {
   "cell_type": "markdown",
   "metadata": {
    "id": "lJKXqxtmjjzo"
   },
   "source": [
    "Eg, let's say we do a linear regression of neighborhood crime rate on neighborhood income, and the regression coefficient tells us that for each 10,000 dollar increase in income, the crime rate drops by 10%. Does this mean if we just handed everyone 10,000 dollars, we would cause the crime rate to drop by 10%?\n",
    "\n",
    "I mean...maybe, but the regression doesn't tell us that. It just tells us about the slope of the best fit line to the scatterplot. I enjoyed Art Owen's [rant](https://statweb.stanford.edu/~owen/courses/200/lec13.pdf) about this: \"The relationship might or might not be causal.  This is true even if you have big data.  Even if you really want a causal relationship. Even if you used much more sophisticated methods than linear regression.  Even if your boss or advisor or others want a causal relationship.  Even if you *don’t* want a causal relationship.  Even if you “controlled for” some other variables.  To judge whether it is causal or not involves reasoning outside of whatever is present in the set of (x, Y) values.  You can’t establish causality from the scatterplot alone or a regression output alone.  There is every possibility that you will work with people who want a causal claim from regression output.\"\n",
    "\n",
    "We will talk more about causality in subsequent lecture, but I wanted to highlight early: linear regression is, fundamentally, based on correlations, and correlations do not imply causation. "
   ]
  },
  {
   "cell_type": "markdown",
   "metadata": {
    "id": "r1SQR6QHjjzo"
   },
   "source": [
    "**Caveat 4: Think carefully about what you should control for and why.**"
   ]
  },
  {
   "cell_type": "markdown",
   "metadata": {
    "id": "uF9whtWHjjzo"
   },
   "source": [
    "Let's say we're studying a company and we want to know if there's gender discrimination in pay. One thing we could do is a simple regression of pay on gender: \n",
    "\n",
    "pay ~ gender\n",
    "\n",
    "which would tell us the size of the raw pay gap. It will not, however, prove that managers are directly discriminating against any gender group - eg, that a man and a woman with the exact same title and same performance will be paid differently - because of what's called \"omitted variable bias\". Namely, we're not controlling for things which we probably want to control for; we might want to run something like:\n",
    "\n",
    "pay ~ gender + title + seniority + work hours + performance...\n",
    "\n",
    "Omitted variable bias occurs whenever you fail to control for something which a) is correlated with the independent variable of interest and b) helps determine the outcome. It can be very hard to avoid omitted variable bias! Eg, almost certainly, \"performance\" will not be recorded in our data, so it will be hard to control for. \n",
    "\n",
    "It can also be hard to know which of these you actually want to control for. For example, perhaps we find that there is a gender pay gap, but is goes away when we control for seniority. Maybe that's good...or maybe it means that women leave the company early because of discrimination, or don't get promoted. \n",
    "\n",
    "More controls are not always better: there are some variables you almost certainly *don't* want to control for. For example, we almost certainly do not want to run the regression \n",
    "\n",
    "pay ~ gender + has_long_hair\n",
    "\n",
    "Why? Because whether someone has long hair will probably be strongly correlated with gender, but it should not determine their pay. \n",
    "\n",
    "**Solution**: think carefully about the meaning of every regression you run. Often, you will want to run multiple regressions with different interpretations. Be clear with yourself and your readers about what these are and whether they make sense. "
   ]
  },
  {
   "cell_type": "markdown",
   "metadata": {
    "id": "UaCjCuZ1jjzo"
   },
   "source": [
    "**Caveat 5: Know when your confidence intervals may be wrong.**\n",
    "\n",
    "Confidence intervals in linear regression generally assume that 1) the dataset isn't tiny, 2) that the residuals (ie, the predicted minus the actual values) remain reasonably constant in magnitude (this is called homoscedasticity, cause who doesn't love a few unnecessary syllables), and 3) that the datapoints are independent. If these things aren't true, the confidence intervals may be wrong. Let's talk a bit about what to do about these things: \n",
    "\n",
    "1) tiny datasets...eh...try not to work with them if you can. \n",
    "\n",
    "2) non-constant residuals...common solutions include a) using robust standard errors; b) fitting another model with non-constant variance, like Poisson or negative Binomial; c) transforming your dependent variable if it's very long-tailed (for example, taking log-transforms for income). \n",
    "\n",
    "3) non-independent datapoints. This can happen, eg, if you're taking many measurements from the same people (eg, in a medical trial over time) or looking at geographically correlated data (geospatial data). Common solutions include using clustered standard errors or other error structures which account for correlations across datapoints. \n",
    "\n",
    "2) and 3) are mostly beyond the scope of this class and probably not the first thing I would worry about, but I wanted to mention them just in case so you can get a sense of when your errorbars might be unreliable. "
   ]
  },
  {
   "cell_type": "markdown",
   "metadata": {
    "id": "dTNWZASPjjzo"
   },
   "source": [
    "**Caveat 6: Watch out for regressions on highly correlated variables.**\n",
    "\n",
    "This can cause your errorbars to inflate a lot and make your estimates very imprecise. One setting in which you frequently see it is when people do regressions of some social outcome on a bunch of highly correlated variables and try to conclude causality - I would not take these seriously.\n",
    "\n",
    "**Solution**: You can detect correlated variables by looking at correlations between all pairs of variables, or by looking at the variance inflation factor (statsmodels.stats.outliers_influence.variance_inflation_factor). Try rerunning the regression dropping each of the correlated variables in turn and make sure your main results don't change too much. \n",
    "\n",
    "A more general rule to deal with a lot of these problems: try running your regressions many plausible ways, and don't pay too much attention to results that change a lot when you move from one plausible specification to another. Don't hang your hat on things that aren't robust to reasonable alternate decisions."
   ]
  },
  {
   "cell_type": "markdown",
   "metadata": {
    "id": "KyulOR6_jjzo"
   },
   "source": [
    "**Caveat 7: be careful with overfitting and extrapolation.** We will talk about this more next class. "
   ]
  },
  {
   "cell_type": "markdown",
   "metadata": {
    "id": "wyKParEljjzo"
   },
   "source": [
    "## IMPORTANT: I tell you these caveats not to freak you out about ever using linear regression! Data science is hard, and all models are wrong, and linear regression is one of the most reliable. Go forth and regress! There's a reason my blog is called \"Obsession with Regression\". "
   ]
  },
  {
   "cell_type": "markdown",
   "metadata": {},
   "source": [
    "# Regression, day 3\n",
    "\n",
    "Class announcements: final project proposal is due in 2 weeks (graded, but small portion of grade - mostly to get you started thinking about it + keep you on track). Some details: \n",
    "\n",
    "1. You may work on this project in teams of up to three students (but you are also welcome to work alone).\n",
    "2. The final deliverable for the project will be a 1,500-2,000 word writeup, written for a general audience, about an original analysis of an urban dataset which you will conduct. \n",
    "3. Initial project proposal: A brief writeup of about 250 words describing your plans for the final project. This should describe 1) your team members; 2) the datasets you intend to use; 3) the questions you are going to try to answer; 4) the statistical methods you will use to try to answer them. Your project must involve an original statistical analysis of an urban dataset (i.e., you should be writing code, not just describing other people’s results, although you are welcome to describe past work on your topic). If you have any questions about whether your idea is suitable, please feel free to reach out!\n",
    "\n",
    "Any questions? "
   ]
  },
  {
   "cell_type": "markdown",
   "metadata": {},
   "source": [
    "## Okay, let's talk about science"
   ]
  },
  {
   "cell_type": "markdown",
   "metadata": {},
   "source": [
    "Today we're going to talk about logistic regression, but first I want to discuss two other brief points on linear regression. First, I want to make sure we're very clear on what model is being fit by linear regression. For example, \n",
    "\n",
    "SCORE ~ YEAR + YEAR_SQUARED + YEAR_CUBED\n",
    "\n",
    "actually fits the model \n",
    "\n",
    "SCORE = Intercept + YEAR_COEFFICIENT * YEAR + YEAR_SQUARED_COEFFICIENT * YEAR_SQUARED + YEAR_CUBED_COEFFICIENT * YEAR_CUBED\n",
    " \n",
    "and in this case from the printout below, we can see the fitted model is\n",
    "\n",
    "SCORE = -0.4098 + YEAR * -275.7273 + YEAR_SQUARED * 0.2730 + YEAR_CUBED * -6.759e-05\n",
    "\n",
    "In general, whenever you fit a linear regression, each row in the statsmodels output corresponds to a term in the fitted model of the form COEFFICIENT * FEATURE_VALUE; we add these terms together to get the prediction. (You can think of the intercept as a term where FEATURE_VALUE is always 1). "
   ]
  },
  {
   "cell_type": "code",
   "execution_count": 31,
   "metadata": {},
   "outputs": [
    {
     "name": "stdout",
     "output_type": "stream",
     "text": [
      "                            OLS Regression Results                            \n",
      "==============================================================================\n",
      "Dep. Variable:                  SCORE   R-squared:                       0.002\n",
      "Model:                            OLS   Adj. R-squared:                  0.002\n",
      "Method:                 Least Squares   F-statistic:                     60.79\n",
      "Date:                Wed, 06 Oct 2021   Prob (F-statistic):           4.17e-27\n",
      "Time:                        14:50:05   Log-Likelihood:            -2.8122e+05\n",
      "No. Observations:               72534   AIC:                         5.624e+05\n",
      "Df Residuals:                   72531   BIC:                         5.625e+05\n",
      "Df Model:                           2                                         \n",
      "Covariance Type:            nonrobust                                         \n",
      "================================================================================\n",
      "                   coef    std err          t      P>|t|      [0.025      0.975]\n",
      "--------------------------------------------------------------------------------\n",
      "Intercept       -0.4098      0.092     -4.464      0.000      -0.590      -0.230\n",
      "YEAR          -275.7273     61.762     -4.464      0.000    -396.780    -154.675\n",
      "YEAR_SQUARED     0.2730      0.061      4.461      0.000       0.153       0.393\n",
      "YEAR_CUBED   -6.759e-05   1.52e-05     -4.458      0.000   -9.73e-05   -3.79e-05\n",
      "==============================================================================\n",
      "Omnibus:                    31192.862   Durbin-Watson:                   1.799\n",
      "Prob(Omnibus):                  0.000   Jarque-Bera (JB):           178442.318\n",
      "Skew:                           2.012   Prob(JB):                         0.00\n",
      "Kurtosis:                       9.545   Cond. No.                     3.06e+19\n",
      "==============================================================================\n",
      "\n",
      "Warnings:\n",
      "[1] Standard Errors assume that the covariance matrix of the errors is correctly specified.\n",
      "[2] The smallest eigenvalue is 5.23e-15. This might indicate that there are\n",
      "strong multicollinearity problems or that the design matrix is singular.\n"
     ]
    }
   ],
   "source": [
    "d['YEAR_SQUARED'] = d['YEAR'] ** 2\n",
    "d['YEAR_CUBED'] = d['YEAR'] ** 3\n",
    "\n",
    "year_cubic_model = sm.OLS.from_formula('SCORE ~ YEAR + YEAR_SQUARED + YEAR_CUBED', data=d).fit()\n",
    "print(year_cubic_model.summary())\n",
    "\n"
   ]
  },
  {
   "cell_type": "markdown",
   "metadata": {},
   "source": [
    "Second, if you've taken a stats or data science class you may be familiar with t-tests and other tests which assess, for example, whether two different distributions have the same mean. (Eg: Do men and women have the same height on average?) These tests are often useful; why aren't we talking about them? \n",
    "\n",
    "**It turns out that a lot of simple statistical tests can be expressed in terms of linear regression as well!!111!!!!11! MATH IS SO COOL.** We saw one example of this for Pearson correlation, but there are many, many other examples as well. While a complete discussion of this is beyond the scope of this class, [here's](https://lindeloev.github.io/tests-as-linear/) a nice list of examples (with Python [code](https://www.eigenfoo.xyz/tests-as-linear/) as well if you prefer). Arguably, if you learn linear regression well enough, you can actually skip a lot of the tests in intro to data science. \n",
    "\n",
    "Okay, now let's talk about..."
   ]
  },
  {
   "cell_type": "markdown",
   "metadata": {
    "id": "Y8uZyyokjjzo"
   },
   "source": [
    "# Logistic regression\n",
    "\n",
    "Linear regression is designed for continuous dependent variables. Often, the dependent variable we care about is binary (ie, True/False or 0/1): did someone get convicted of a crime, recover from a disease, get COVID, apply for a loan, get denied credit, etc. To return to our restaurant example, we might care about whether a restaurant received a score of under 14, the threshold for an A, on its first inspection. In this case, logistic regression, which is designed for binary variables, is a natural choice. We can run a logistic regression in a very similar way except using sm.Logit rather than sm.OLS. Let's do this, and compare the output to that for linear regression. "
   ]
  },
  {
   "cell_type": "code",
   "execution_count": 32,
   "metadata": {
    "id": "gjEwLErBjjzo",
    "outputId": "2f444f03-b3d8-4b72-dec1-7e4fd2d6c499"
   },
   "outputs": [
    {
     "name": "stdout",
     "output_type": "stream",
     "text": [
      "Fraction of rows who did not initially get an A: 0.402\n",
      "Logistic regression\n",
      "Optimization terminated successfully.\n",
      "         Current function value: 0.673427\n",
      "         Iterations 9\n",
      "                           Logit Regression Results                           \n",
      "==============================================================================\n",
      "Dep. Variable:           doesnt_get_A   No. Observations:                72534\n",
      "Model:                          Logit   Df Residuals:                    72532\n",
      "Method:                           MLE   Df Model:                            1\n",
      "Date:                Wed, 06 Oct 2021   Pseudo R-squ.:               0.0003824\n",
      "Time:                        14:55:20   Log-Likelihood:                -48846.\n",
      "converged:                       True   LL-Null:                       -48865.\n",
      "Covariance Type:            nonrobust   LLR p-value:                 9.765e-10\n",
      "==============================================================================\n",
      "                 coef    std err          z      P>|z|      [0.025      0.975]\n",
      "------------------------------------------------------------------------------\n",
      "Intercept    -89.6916     14.614     -6.137      0.000    -118.335     -61.048\n",
      "YEAR           0.0442      0.007      6.110      0.000       0.030       0.058\n",
      "==============================================================================\n",
      "Linear regression, same variables\n",
      "                            OLS Regression Results                            \n",
      "==============================================================================\n",
      "Dep. Variable:           doesnt_get_A   R-squared:                       0.001\n",
      "Model:                            OLS   Adj. R-squared:                  0.001\n",
      "Method:                 Least Squares   F-statistic:                     37.37\n",
      "Date:                Wed, 06 Oct 2021   Prob (F-statistic):           9.83e-10\n",
      "Time:                        14:55:20   Log-Likelihood:                -51196.\n",
      "No. Observations:               72534   AIC:                         1.024e+05\n",
      "Df Residuals:                   72532   BIC:                         1.024e+05\n",
      "Df Model:                           1                                         \n",
      "Covariance Type:            nonrobust                                         \n",
      "==============================================================================\n",
      "                 coef    std err          t      P>|t|      [0.025      0.975]\n",
      "------------------------------------------------------------------------------\n",
      "Intercept    -21.0373      3.507     -5.998      0.000     -27.911     -14.163\n",
      "YEAR           0.0106      0.002      6.113      0.000       0.007       0.014\n",
      "==============================================================================\n",
      "Omnibus:                   276857.667   Durbin-Watson:                   1.825\n",
      "Prob(Omnibus):                  0.000   Jarque-Bera (JB):            12143.203\n",
      "Skew:                           0.401   Prob(JB):                         0.00\n",
      "Kurtosis:                       1.163   Cond. No.                     3.89e+06\n",
      "==============================================================================\n",
      "\n",
      "Warnings:\n",
      "[1] Standard Errors assume that the covariance matrix of the errors is correctly specified.\n",
      "[2] The condition number is large, 3.89e+06. This might indicate that there are\n",
      "strong multicollinearity or other numerical problems.\n"
     ]
    }
   ],
   "source": [
    "d['doesnt_get_A'] = (d['SCORE'] >= 14) * 1. # statsmodels logistic regression requires floats not bools\n",
    "print(\"Fraction of rows who did not initially get an A: %2.3f\" % d['doesnt_get_A'].mean())\n",
    "print(\"Logistic regression\")\n",
    "print(sm.Logit.from_formula('doesnt_get_A ~ YEAR', data=d).fit().summary())\n",
    "print(\"Linear regression, same variables\")\n",
    "print(sm.OLS.from_formula('doesnt_get_A ~ YEAR', data=d).fit().summary())\n"
   ]
  },
  {
   "cell_type": "markdown",
   "metadata": {
    "id": "pC70Ykp6jjzo"
   },
   "source": [
    "You can see that the linear and logistic regression outputs look quite similar - we have a point estimate, a standard error, a p-value, and a 95% confidence interval. We also get the same conclusion we got from linear regression, which told us that scores worsened (increased) over time - logistic regression tells us that the  odds of not getting an A also went up. \n",
    "\n",
    "The signs in logistic regression have the same interpretation as the signs in linear regression: positive coefficients indicate that a variable is associated with greater values of the output, and negative coefficients indicate that a variable is associated with smaller values. But the interpretation of the coefficients is slightly different. You can see that for logistic regression, the coefficient is 0.0442, and for linear regression, it is 0.0106. For linear regression, that means that for each increase of 1 in the year, the probability of not getting an A goes up by 1%. For logistic regression, it's a bit weirder and hard to interpret. It's telling us that a 1-year increase in year corresponds to exp(0.0442) = 1.05 times higher odds of not getting an A. The odds of an event with probability p are defined as p/(1 - p). \n",
    "\n",
    "That's a bit confusing. One way to make it a bit more intuitive is to look at what logistic regression actually predicts for the probabilities in each year. You can see it lines up perfectly with the actual probabilities in each year, a nice property which is called \"calibration\" - the predicted probabilities line up with the actual ones. "
   ]
  },
  {
   "cell_type": "code",
   "execution_count": 33,
   "metadata": {
    "id": "kk9HbPDxjjzo",
    "outputId": "561ee9c5-e27d-43ca-de40-e1a5cf2e2af2"
   },
   "outputs": [
    {
     "name": "stdout",
     "output_type": "stream",
     "text": [
      "Optimization terminated successfully.\n",
      "         Current function value: 0.655499\n",
      "         Iterations 6\n",
      "Logistic regression predicted probabilities\n",
      "0    0.270270\n",
      "1    0.364368\n",
      "dtype: float64\n",
      "Actual probabilities\n",
      "                                    mean   size\n",
      "MODIFIED_CUISINE                               \n",
      "Afghan                          0.270270     37\n",
      "African                         0.575000    240\n",
      "American                        0.364368  15542\n",
      "Asian/Asian Fusion              0.472393    978\n",
      "Australian                      0.573770     61\n",
      "Bagels/Pretzels                 0.390533    507\n",
      "Bakery Products/Desserts        0.392918   2344\n",
      "Bangladeshi                     0.632258    155\n",
      "Barbecue                        0.420118    169\n",
      "Bottled Beverages               0.258303    271\n",
      "Brazilian                       0.469880     83\n",
      "Cajun                           0.400000     20\n",
      "Californian                     0.562500     16\n",
      "Caribbean                       0.525605   2148\n",
      "Chicken                         0.368390   1721\n",
      "Chinese                         0.448301   6770\n",
      "Chinese/Cuban                   0.692308     52\n",
      "Chinese/Japanese                0.514925    134\n",
      "Coffee/Tea                      0.264487   4435\n",
      "Continental                     0.300000    120\n",
      "Creole                          0.565217     69\n",
      "Creole/Cajun                    0.761905     21\n",
      "Donuts                          0.182303   1876\n",
      "Eastern European                0.500000    228\n",
      "Egyptian                        0.375000     32\n",
      "English                         0.562500     48\n",
      "Ethiopian                       0.319149     47\n",
      "Filipino                        0.607143     84\n",
      "French                          0.409800    898\n",
      "Frozen Desserts                 0.198464    781\n",
      "German                          0.457447     94\n",
      "Greek                           0.400955    419\n",
      "Hamburgers                      0.237586   1591\n",
      "Hawaiian                        0.382022     89\n",
      "Hotdogs                         0.098039    102\n",
      "Hotdogs/Pretzels                0.144928     69\n",
      "Indian                          0.552284    985\n",
      "Indonesian                      0.409091     22\n",
      "Iranian                         0.454545     11\n",
      "Irish                           0.418639    676\n",
      "Italian                         0.435581   2996\n",
      "Japanese                        0.464301   2395\n",
      "Jewish/Kosher                   0.468750    896\n",
      "Juice, Smoothies, Fruit Salads  0.312175    961\n",
      "Korean                          0.522670    794\n",
      "Latin American                  0.541054   2789\n",
      "Mediterranean                   0.395380    736\n",
      "Mexican                         0.494061   2273\n",
      "Middle Eastern                  0.408120    468\n",
      "Moroccan                        0.406250     32\n",
      "Not Listed/Not Applicable       0.214286     14\n",
      "OTHER                           0.189189     37\n",
      "Other                           0.198895    181\n",
      "Pakistani                       0.610526     95\n",
      "Pancakes/Waffles                0.297297     74\n",
      "Peruvian                        0.466165    266\n",
      "Pizza                           0.430128   4680\n",
      "Polish                          0.534884     86\n",
      "Portuguese                      0.387097     31\n",
      "Russian                         0.454545    187\n",
      "Salads                          0.318548    248\n",
      "Sandwiches                      0.372060   2126\n",
      "Sandwiches/Salads/Mixed Buffet  0.346821    346\n",
      "Scandinavian                    0.357143     14\n",
      "Seafood                         0.405063    553\n",
      "Soul Food                       0.400000    165\n",
      "Soups                           0.461538     13\n",
      "Soups/Salads/Sandwiches         0.191740    339\n",
      "Southeast Asian                 0.553746    307\n",
      "Southwestern                    0.666667     12\n",
      "Spanish                         0.528037   1712\n",
      "Steakhouse                      0.383803    284\n",
      "Tapas                           0.403846    104\n",
      "Tex-Mex                         0.324536   1023\n",
      "Thai                            0.514215    809\n",
      "Turkish                         0.515625    192\n",
      "Vegan                           0.526882     93\n",
      "Vegetarian                      0.418605    258\n"
     ]
    }
   ],
   "source": [
    "# aggregate super-rare cuisines to avoid separability issues. \n",
    "from collections import Counter\n",
    "cuisine_counts = Counter(d['CUISINE_DESCRIPTION'])\n",
    "d['MODIFIED_CUISINE'] = d['CUISINE_DESCRIPTION'].map(lambda x:x if cuisine_counts[x] > 10 else 'OTHER')\n",
    "logistic_regression_model_by_cuisine = sm.Logit.from_formula('doesnt_get_A ~ C(MODIFIED_CUISINE)', d).fit()\n",
    "print(\"Logistic regression predicted probabilities\")\n",
    "print(logistic_regression_model_by_cuisine.predict(pd.DataFrame({'MODIFIED_CUISINE':['Afghan', \n",
    "                                                                      'American']})))\n",
    "print(\"Actual probabilities\")\n",
    "print(d.groupby('MODIFIED_CUISINE')['doesnt_get_A'].agg(['mean', 'size']))"
   ]
  },
  {
   "cell_type": "markdown",
   "metadata": {},
   "source": [
    "There are various ways of assessing model fit for logistic regression and, more generally, binary variable prediction. These include...\n",
    "\n",
    "**Accuracy**: what fraction of your predictions are actually right? \n",
    "\n",
    "While accuracy is a simple and intuitive metric, it can have problems. For example, if 99% of your examples are negative, you can get 99% accuracy just by predicting \"negative\" every time. "
   ]
  },
  {
   "cell_type": "code",
   "execution_count": 35,
   "metadata": {},
   "outputs": [
    {
     "data": {
      "text/plain": [
       "array([0.32453568, 0.39053254, 0.46430063, ..., 0.42011834, 0.36436752,\n",
       "       0.36436752])"
      ]
     },
     "execution_count": 35,
     "metadata": {},
     "output_type": "execute_result"
    }
   ],
   "source": [
    "predictions = logistic_regression_model_by_cuisine.predict(d).values\n",
    "predictions"
   ]
  },
  {
   "cell_type": "code",
   "execution_count": 38,
   "metadata": {},
   "outputs": [
    {
     "name": "stdout",
     "output_type": "stream",
     "text": [
      "fraction positive predictions 0.15344528083381587\n",
      "accuracy 0.6097416384040588\n"
     ]
    }
   ],
   "source": [
    "binary_predictions = predictions > 0.5\n",
    "print('fraction positive predictions', binary_predictions.mean()) \n",
    "\n",
    "ground_truth = d['doesnt_get_A'].values\n",
    "\n",
    "accuracy = (ground_truth == binary_predictions).mean()\n",
    "print('accuracy', accuracy)"
   ]
  },
  {
   "cell_type": "markdown",
   "metadata": {},
   "source": [
    "**False positive rate (FPR)**: what fraction of true negatives are classified as positive? (Higher values are bad. In contrast, the true positive rate is the fraction of true positives which are classified as positive, and higher values are good.)"
   ]
  },
  {
   "cell_type": "code",
   "execution_count": 39,
   "metadata": {},
   "outputs": [
    {
     "name": "stdout",
     "output_type": "stream",
     "text": [
      "fpr 0.11868937072282772\n"
     ]
    }
   ],
   "source": [
    "print('fpr', binary_predictions[ground_truth == 0].mean())"
   ]
  },
  {
   "cell_type": "markdown",
   "metadata": {},
   "source": [
    "**False negative rate**: what fraction of true positives are classified as negative? (Higher values are bad. In contrast, the true negative rate is the fraction of true negatives which are classified as negative, and higher values are good.)"
   ]
  },
  {
   "cell_type": "code",
   "execution_count": 40,
   "metadata": {},
   "outputs": [
    {
     "name": "stdout",
     "output_type": "stream",
     "text": [
      "fnr 0.7947829071563411\n"
     ]
    }
   ],
   "source": [
    "print('fnr', (binary_predictions == 0)[ground_truth == 1].mean())"
   ]
  },
  {
   "cell_type": "markdown",
   "metadata": {},
   "source": [
    "While we used the traditional threshold of 0.5 for dividing our continuous probability estimates into binary classes, you may not always want to do that. For example, if false negatives are really bad compared to false positives (imagine, for example, a cancer test) or false positives are really bad compared to false negatives (imagine, for example, whether someone is convicted of a crime) you might use different thresholds. An ROC plot lets you see how the FPR/FNR vary as a function of the threshold. \n",
    "\n",
    "To compute this, we use the continuous predictions, not the binarized ones, because we need to assess multiple thresholds. "
   ]
  },
  {
   "cell_type": "code",
   "execution_count": 41,
   "metadata": {},
   "outputs": [
    {
     "data": {
      "text/plain": [
       "[<matplotlib.lines.Line2D at 0x7ff97495b310>]"
      ]
     },
     "execution_count": 41,
     "metadata": {},
     "output_type": "execute_result"
    },
    {
     "data": {
      "image/png": "[encoded data removed]",
      "text/plain": [
       "<Figure size 288x288 with 1 Axes>"
      ]
     },
     "metadata": {
      "needs_background": "light"
     },
     "output_type": "display_data"
    }
   ],
   "source": [
    "from sklearn import metrics \n",
    "fpr, tpr, thresholds = metrics.roc_curve(y_true=ground_truth, y_score=predictions)\n",
    "\n",
    "plt.figure(figsize=[4, 4])\n",
    "plt.plot(fpr, tpr)\n",
    "plt.xlim([0, 1])\n",
    "plt.ylim([0, 1])\n",
    "plt.xlabel('FPR')\n",
    "plt.ylabel(\"TPR\")\n",
    "plt.plot([0, 1], [0, 1], linestyle='--')"
   ]
  },
  {
   "cell_type": "markdown",
   "metadata": {},
   "source": [
    "The plot above shows that our classifier, basically, isn't very good. The dotted line indicates performance which is no better than a random classifier (think about why that is), and our classifier performance (blue line) is pretty close to that; if the classifier were perfect, the line would be closer to the top left corner. \n",
    "\n",
    "A standard summary measure of the ROC curve is *area under the ROC curve*, *AUROC*, or *AUC* for short. This tells us how much area is under the ROC curve. 0.5 indicates random performance, 1 indicates perfect performance (think about, geometrically, why that makes sense). \n",
    "\n",
    "On this dataset, accuracy is quite close to AUC, but this is a coincidence; the two measures are not identical, and can be very different. "
   ]
  },
  {
   "cell_type": "code",
   "execution_count": 42,
   "metadata": {},
   "outputs": [
    {
     "data": {
      "text/plain": [
       "0.6056682206727219"
      ]
     },
     "execution_count": 42,
     "metadata": {},
     "output_type": "execute_result"
    }
   ],
   "source": [
    "metrics.roc_auc_score(y_true=ground_truth, y_score=predictions)"
   ]
  },
  {
   "cell_type": "markdown",
   "metadata": {},
   "source": [
    "That's a lot of binary classification metrics! How do you know, in real life, which to use? Some general rules: \n",
    "\n",
    "1. Assess multiple metrics because it's easy to do and gives you a fuller picture of performance. \n",
    "2. Assess the metrics across important subgroups in the data, as long as they're sufficiently large. If your disease prediction algorithm is much less accurate on women, or people without health insurance, you want to know that!\n",
    "3. Keep in mind what decision your analysis is guiding, and prioritize metrics relevant to that decision. For example, if you have a sense of what threshold will likely be applied to your classifier, evaluate the metrics at that threshold. \n",
    "4. Don't use accuracy on highly unbalanced data.  "
   ]
  },
  {
   "cell_type": "code",
   "execution_count": null,
   "metadata": {},
   "outputs": [],
   "source": []
  }
 ],
 "metadata": {
  "colab": {
   "name": "lecture_6_regression_notebook_relies_on_local_data_might_require_multiple_classes.ipynb",
   "provenance": []
  },
  "kernelspec": {
   "display_name": "Python 3",
   "language": "python",
   "name": "python3"
  },
  "language_info": {
   "codemirror_mode": {
    "name": "ipython",
    "version": 3
   },
   "file_extension": ".py",
   "mimetype": "text/x-python",
   "name": "python",
   "nbconvert_exporter": "python",
   "pygments_lexer": "ipython3",
   "version": "3.8.8"
  }
 },
 "nbformat": 4,
 "nbformat_minor": 1
}
