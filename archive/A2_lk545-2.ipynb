{
 "cells": [
  {
   "cell_type": "markdown",
   "id": "cVnfDFJuqL2H",
   "metadata": {
    "id": "cVnfDFJuqL2H"
   },
   "source": [
    "## Assignment 2\n",
    "\n",
    "Responding to recent news stories about how COVID has had a larger impact on underserved racial and socioeconomic groups, the New York City government has asked you to look at the correlation across zipcodes between Census demographics (income and race) and  COVID impacts (case, death, and positivity rates). Unfortunately, the data you have been given for this assignment is, like many real world datasets, very messy, so you will need to clean it with care. \n",
    "\n",
    "\n",
    "*Note: in this assignment, we artifically introduced errors into the data to help introduce concepts - this is not the original data provided by the New York government or by the Census Bureau. Please don't tweet angry things at the city government and get us fired :)*\n",
    "\n",
    "*To make this assignment less frustrating for you, we have included sanity checks throughout to make sure you are on the right track. Please pay attention to these sanity checks! If you are not passing them, it is a sign something has gone wrong. In the real world, of course, you would not have these sanity checks, which is why data cleaning is hard and frustrating.*"
   ]
  },
  {
   "cell_type": "markdown",
   "id": "oUS36EMoqL2I",
   "metadata": {
    "id": "oUS36EMoqL2I"
   },
   "source": [
    "#### A first challenge is even figuring out which columns you want. Read the codebook for Census data (you can find this in the data folder with the other data files)  to figure out which column provides the median income for each zipcode. Drop the rows with missing values (NA or None) in this column and change its name into \"median_income\". (5 points)\n",
    "\n",
    "*Sanity check: you will have 30,824 rows in census data after this step.*"
   ]
  },
  {
   "cell_type": "code",
   "execution_count": 1,
   "id": "FjcWUFpZqL2I",
   "metadata": {
    "colab": {
     "base_uri": "https://localhost:8080/"
    },
    "id": "FjcWUFpZqL2I",
    "outputId": "c3519b65-c467-4dcd-d752-668aa2cef66d"
   },
   "outputs": [
    {
     "data": {
      "text/plain": [
       "(30824, 82)"
      ]
     },
     "execution_count": 1,
     "metadata": {},
     "output_type": "execute_result"
    }
   ],
   "source": [
    "import pandas as pd\n",
    "\n",
    "df = pd.read_csv(\"./content/messy_nhgis0004_ds244_20195_2019_zcta.csv\")\n",
    "df = df.dropna(subset=['ALW1E001'])\n",
    "df.rename(columns={'ALW1E001': 'median_income'}, inplace=True)\n",
    "df.shape"
   ]
  },
  {
   "cell_type": "markdown",
   "id": "rEzc67HyqL2J",
   "metadata": {
    "id": "rEzc67HyqL2J"
   },
   "source": [
    "#### Use two of the columns in the Census data to compute the fraction of people who are white non-Hispanic in each zipcode. Add this column to the Census dataframe and call it \"white_non_hispanic_frac\". (5 points)\n",
    "*Sanity check: the mean value of \"white_non_hispanic\" is around 0.764*"
   ]
  },
  {
   "cell_type": "code",
   "execution_count": 2,
   "id": "1aW04CviqL2J",
   "metadata": {
    "colab": {
     "base_uri": "https://localhost:8080/"
    },
    "id": "1aW04CviqL2J",
    "outputId": "419537ba-64fa-4ef5-d99a-8d88d2d8f82b"
   },
   "outputs": [
    {
     "data": {
      "text/plain": [
       "0.7641021559721349"
      ]
     },
     "execution_count": 2,
     "metadata": {},
     "output_type": "execute_result"
    }
   ],
   "source": [
    "df['white_non_hispanic_frac'] = df['ALUKE003'] / df['ALUKE001']\n",
    "df['white_non_hispanic_frac'].mean()"
   ]
  },
  {
   "cell_type": "markdown",
   "id": "Ye1p0KvZqL2K",
   "metadata": {
    "id": "Ye1p0KvZqL2K"
   },
   "source": [
    "Now we have to find keys to merge the Census dataset with the COVID dataset. Look for a key in the Census dataset which corresponds to a location grouping you can use to merge with the COVID data. Unfortunately, the closest thing you can find is ZCTA, and the only thing in the New York City COVID data is MODZCTA. Read this documentation, which explains the difference - https://github.com/nychealth/coronavirus-data#geography-zip-codes-and-zctas. Basically, multiple ZCTAs can map to a single MODZCTA. \n",
    "\n",
    "To address this problem, you need to modify the Census data by filtering for ZCTAs which appear in the MODZCTA table and merging the Census data with the MODZCTA table using pd.merge. Prior to doing this merge, be sure that any keys you expect to be be unique in the Census data (ie, different in every row) are really unique, as we discussed in class - drop duplicate rows if necessary!\n",
    "\n",
    "#### After doing the merge, you will be left with a dataframe which has multiple rows for some MODZCTAs; combine rows which correspond to the same MODZCTA into a single row. Every time you combine multiple rows, combine the values for white_non_hispanic and median_income by taking the mean. You can do this using the pandas groupby and agg commands. (20 points)\n",
    "\n",
    "*Sanity check: If you did this step correctly, you should be left with a Census table which contains 177 rows.*"
   ]
  },
  {
   "cell_type": "code",
   "execution_count": 3,
   "id": "3leP-2UlSv7i",
   "metadata": {
    "colab": {
     "base_uri": "https://localhost:8080/",
     "height": 204
    },
    "id": "3leP-2UlSv7i",
    "outputId": "efc29d8c-6e08-44bd-ece8-65ac351f73bc",
    "scrolled": true
   },
   "outputs": [
    {
     "data": {
      "text/html": [
       "<div>\n",
       "<style scoped>\n",
       "    .dataframe tbody tr th:only-of-type {\n",
       "        vertical-align: middle;\n",
       "    }\n",
       "\n",
       "    .dataframe tbody tr th {\n",
       "        vertical-align: top;\n",
       "    }\n",
       "\n",
       "    .dataframe thead th {\n",
       "        text-align: right;\n",
       "    }\n",
       "</style>\n",
       "<table border=\"1\" class=\"dataframe\">\n",
       "  <thead>\n",
       "    <tr style=\"text-align: right;\">\n",
       "      <th></th>\n",
       "      <th>ZCTA</th>\n",
       "      <th>MODZCTA</th>\n",
       "    </tr>\n",
       "  </thead>\n",
       "  <tbody>\n",
       "    <tr>\n",
       "      <th>0</th>\n",
       "      <td>10001</td>\n",
       "      <td>M10001</td>\n",
       "    </tr>\n",
       "    <tr>\n",
       "      <th>1</th>\n",
       "      <td>10002</td>\n",
       "      <td>M10002</td>\n",
       "    </tr>\n",
       "    <tr>\n",
       "      <th>2</th>\n",
       "      <td>10003</td>\n",
       "      <td>M10003</td>\n",
       "    </tr>\n",
       "    <tr>\n",
       "      <th>3</th>\n",
       "      <td>10004</td>\n",
       "      <td>M10004</td>\n",
       "    </tr>\n",
       "    <tr>\n",
       "      <th>4</th>\n",
       "      <td>10005</td>\n",
       "      <td>M10005</td>\n",
       "    </tr>\n",
       "  </tbody>\n",
       "</table>\n",
       "</div>"
      ],
      "text/plain": [
       "    ZCTA MODZCTA\n",
       "0  10001  M10001\n",
       "1  10002  M10002\n",
       "2  10003  M10003\n",
       "3  10004  M10004\n",
       "4  10005  M10005"
      ]
     },
     "execution_count": 3,
     "metadata": {},
     "output_type": "execute_result"
    }
   ],
   "source": [
    "df_conv = pd.read_csv(\"./content/messy_ZCTA-to-MODZCTA.csv\")\n",
    "df_conv.head()"
   ]
  },
  {
   "cell_type": "code",
   "execution_count": 12,
   "id": "HgFye4tXQ3CF",
   "metadata": {
    "colab": {
     "base_uri": "https://localhost:8080/"
    },
    "id": "HgFye4tXQ3CF",
    "outputId": "a5acf3cf-de90-4332-cc98-f585e1172ab6"
   },
   "outputs": [
    {
     "data": {
      "text/plain": [
       "178"
      ]
     },
     "execution_count": 12,
     "metadata": {},
     "output_type": "execute_result"
    }
   ],
   "source": [
    "df_conv.MODZCTA.nunique()"
   ]
  },
  {
   "cell_type": "code",
   "execution_count": 4,
   "id": "yC88B04QQplV",
   "metadata": {
    "colab": {
     "base_uri": "https://localhost:8080/"
    },
    "id": "yC88B04QQplV",
    "outputId": "c0d226a7-aa04-4937-b3fe-c176ff1e721b"
   },
   "outputs": [
    {
     "data": {
      "text/plain": [
       "(185, 83)"
      ]
     },
     "execution_count": 4,
     "metadata": {},
     "output_type": "execute_result"
    }
   ],
   "source": [
    "df = df[df.ZCTA5A.isin(df_conv.ZCTA.unique())]\n",
    "df.shape"
   ]
  },
  {
   "cell_type": "code",
   "execution_count": 5,
   "id": "8QnDUz5pRQ9E",
   "metadata": {
    "colab": {
     "base_uri": "https://localhost:8080/",
     "height": 338
    },
    "id": "8QnDUz5pRQ9E",
    "outputId": "945eb50f-62ee-4584-c5fc-8639bbd85b89"
   },
   "outputs": [
    {
     "data": {
      "text/html": [
       "<div>\n",
       "<style scoped>\n",
       "    .dataframe tbody tr th:only-of-type {\n",
       "        vertical-align: middle;\n",
       "    }\n",
       "\n",
       "    .dataframe tbody tr th {\n",
       "        vertical-align: top;\n",
       "    }\n",
       "\n",
       "    .dataframe thead th {\n",
       "        text-align: right;\n",
       "    }\n",
       "</style>\n",
       "<table border=\"1\" class=\"dataframe\">\n",
       "  <thead>\n",
       "    <tr style=\"text-align: right;\">\n",
       "      <th></th>\n",
       "      <th>YEAR</th>\n",
       "      <th>STUSAB</th>\n",
       "      <th>REGIONA</th>\n",
       "      <th>DIVISIONA</th>\n",
       "      <th>STATEA</th>\n",
       "      <th>COUNTYA</th>\n",
       "      <th>COUSUBA</th>\n",
       "      <th>PLACEA</th>\n",
       "      <th>TRACTA</th>\n",
       "      <th>BLKGRPA</th>\n",
       "      <th>...</th>\n",
       "      <th>ALUKM016</th>\n",
       "      <th>ALUKM017</th>\n",
       "      <th>ALUKM018</th>\n",
       "      <th>ALUKM019</th>\n",
       "      <th>ALUKM020</th>\n",
       "      <th>ALUKM021</th>\n",
       "      <th>ALW1M001</th>\n",
       "      <th>white_non_hispanic_frac</th>\n",
       "      <th>ZCTA</th>\n",
       "      <th>MODZCTA</th>\n",
       "    </tr>\n",
       "  </thead>\n",
       "  <tbody>\n",
       "    <tr>\n",
       "      <th>0</th>\n",
       "      <td>2015-2019</td>\n",
       "      <td>US</td>\n",
       "      <td>NaN</td>\n",
       "      <td>NaN</td>\n",
       "      <td>NaN</td>\n",
       "      <td>NaN</td>\n",
       "      <td>NaN</td>\n",
       "      <td>NaN</td>\n",
       "      <td>NaN</td>\n",
       "      <td>NaN</td>\n",
       "      <td>...</td>\n",
       "      <td>22</td>\n",
       "      <td>22</td>\n",
       "      <td>271</td>\n",
       "      <td>298</td>\n",
       "      <td>37</td>\n",
       "      <td>295</td>\n",
       "      <td>8971.0</td>\n",
       "      <td>0.545798</td>\n",
       "      <td>10001</td>\n",
       "      <td>M10001</td>\n",
       "    </tr>\n",
       "    <tr>\n",
       "      <th>1</th>\n",
       "      <td>2015-2019</td>\n",
       "      <td>US</td>\n",
       "      <td>NaN</td>\n",
       "      <td>NaN</td>\n",
       "      <td>NaN</td>\n",
       "      <td>NaN</td>\n",
       "      <td>NaN</td>\n",
       "      <td>NaN</td>\n",
       "      <td>NaN</td>\n",
       "      <td>NaN</td>\n",
       "      <td>...</td>\n",
       "      <td>151</td>\n",
       "      <td>28</td>\n",
       "      <td>1139</td>\n",
       "      <td>621</td>\n",
       "      <td>125</td>\n",
       "      <td>631</td>\n",
       "      <td>2384.0</td>\n",
       "      <td>0.220143</td>\n",
       "      <td>10002</td>\n",
       "      <td>M10002</td>\n",
       "    </tr>\n",
       "    <tr>\n",
       "      <th>2</th>\n",
       "      <td>2015-2019</td>\n",
       "      <td>US</td>\n",
       "      <td>NaN</td>\n",
       "      <td>NaN</td>\n",
       "      <td>NaN</td>\n",
       "      <td>NaN</td>\n",
       "      <td>NaN</td>\n",
       "      <td>NaN</td>\n",
       "      <td>NaN</td>\n",
       "      <td>NaN</td>\n",
       "      <td>...</td>\n",
       "      <td>10</td>\n",
       "      <td>28</td>\n",
       "      <td>492</td>\n",
       "      <td>72</td>\n",
       "      <td>37</td>\n",
       "      <td>76</td>\n",
       "      <td>10235.0</td>\n",
       "      <td>0.691331</td>\n",
       "      <td>10003</td>\n",
       "      <td>M10003</td>\n",
       "    </tr>\n",
       "    <tr>\n",
       "      <th>3</th>\n",
       "      <td>2015-2019</td>\n",
       "      <td>US</td>\n",
       "      <td>NaN</td>\n",
       "      <td>NaN</td>\n",
       "      <td>NaN</td>\n",
       "      <td>NaN</td>\n",
       "      <td>NaN</td>\n",
       "      <td>NaN</td>\n",
       "      <td>NaN</td>\n",
       "      <td>NaN</td>\n",
       "      <td>...</td>\n",
       "      <td>38</td>\n",
       "      <td>12</td>\n",
       "      <td>12</td>\n",
       "      <td>30</td>\n",
       "      <td>2</td>\n",
       "      <td>30</td>\n",
       "      <td>49426.0</td>\n",
       "      <td>0.592804</td>\n",
       "      <td>10004</td>\n",
       "      <td>M10004</td>\n",
       "    </tr>\n",
       "    <tr>\n",
       "      <th>4</th>\n",
       "      <td>2015-2019</td>\n",
       "      <td>US</td>\n",
       "      <td>NaN</td>\n",
       "      <td>NaN</td>\n",
       "      <td>NaN</td>\n",
       "      <td>NaN</td>\n",
       "      <td>NaN</td>\n",
       "      <td>NaN</td>\n",
       "      <td>NaN</td>\n",
       "      <td>NaN</td>\n",
       "      <td>...</td>\n",
       "      <td>17</td>\n",
       "      <td>17</td>\n",
       "      <td>260</td>\n",
       "      <td>46</td>\n",
       "      <td>3</td>\n",
       "      <td>46</td>\n",
       "      <td>15832.0</td>\n",
       "      <td>0.716699</td>\n",
       "      <td>10005</td>\n",
       "      <td>M10005</td>\n",
       "    </tr>\n",
       "  </tbody>\n",
       "</table>\n",
       "<p>5 rows × 85 columns</p>\n",
       "</div>"
      ],
      "text/plain": [
       "        YEAR STUSAB  REGIONA  DIVISIONA  STATEA  COUNTYA  COUSUBA  PLACEA  \\\n",
       "0  2015-2019     US      NaN        NaN     NaN      NaN      NaN     NaN   \n",
       "1  2015-2019     US      NaN        NaN     NaN      NaN      NaN     NaN   \n",
       "2  2015-2019     US      NaN        NaN     NaN      NaN      NaN     NaN   \n",
       "3  2015-2019     US      NaN        NaN     NaN      NaN      NaN     NaN   \n",
       "4  2015-2019     US      NaN        NaN     NaN      NaN      NaN     NaN   \n",
       "\n",
       "   TRACTA  BLKGRPA  ...  ALUKM016  ALUKM017  ALUKM018  ALUKM019  ALUKM020  \\\n",
       "0     NaN      NaN  ...        22        22       271       298        37   \n",
       "1     NaN      NaN  ...       151        28      1139       621       125   \n",
       "2     NaN      NaN  ...        10        28       492        72        37   \n",
       "3     NaN      NaN  ...        38        12        12        30         2   \n",
       "4     NaN      NaN  ...        17        17       260        46         3   \n",
       "\n",
       "   ALUKM021  ALW1M001  white_non_hispanic_frac   ZCTA  MODZCTA  \n",
       "0       295    8971.0                 0.545798  10001   M10001  \n",
       "1       631    2384.0                 0.220143  10002   M10002  \n",
       "2        76   10235.0                 0.691331  10003   M10003  \n",
       "3        30   49426.0                 0.592804  10004   M10004  \n",
       "4        46   15832.0                 0.716699  10005   M10005  \n",
       "\n",
       "[5 rows x 85 columns]"
      ]
     },
     "execution_count": 5,
     "metadata": {},
     "output_type": "execute_result"
    }
   ],
   "source": [
    "df = df.merge(df_conv, how='left', left_on='ZCTA5A', right_on='ZCTA')\n",
    "df.head()"
   ]
  },
  {
   "cell_type": "code",
   "execution_count": 6,
   "id": "1tpVuyOJRd8c",
   "metadata": {
    "colab": {
     "base_uri": "https://localhost:8080/"
    },
    "id": "1tpVuyOJRd8c",
    "outputId": "be16c286-f24f-468d-db42-0bf7250a18e3"
   },
   "outputs": [
    {
     "data": {
      "text/plain": [
       "(177, 2)"
      ]
     },
     "execution_count": 6,
     "metadata": {},
     "output_type": "execute_result"
    }
   ],
   "source": [
    "df_grouped = df.groupby(\"MODZCTA\").agg({'white_non_hispanic_frac': 'mean', 'median_income': 'mean'})\n",
    "df_grouped.shape"
   ]
  },
  {
   "cell_type": "code",
   "execution_count": 7,
   "id": "8RwmIKsrR_yt",
   "metadata": {
    "id": "8RwmIKsrR_yt"
   },
   "outputs": [],
   "source": [
    "df_grouped.reset_index(inplace=True)"
   ]
  },
  {
   "cell_type": "markdown",
   "id": "sc_XkLHXSv7j",
   "metadata": {
    "id": "sc_XkLHXSv7j"
   },
   "source": [
    "#### Now we have a Census data table we can merge with the NYC COVID data. Merge the two datasets using MODZCTA as the merge key. As we discussed in class, you may need to write some extra code to make sure that the keys in the two different tables are in the exact same format (for example, if one is an integer, the other should be an integer as well, or the merge will not work) (5 points) ####"
   ]
  },
  {
   "cell_type": "code",
   "execution_count": 18,
   "id": "TInricGOSEyu",
   "metadata": {
    "colab": {
     "base_uri": "https://localhost:8080/"
    },
    "id": "TInricGOSEyu",
    "outputId": "c1f87e44-3096-4bdd-d95e-cfabcc40fdac"
   },
   "outputs": [
    {
     "data": {
      "text/plain": [
       "(177, 13)"
      ]
     },
     "execution_count": 18,
     "metadata": {},
     "output_type": "execute_result"
    }
   ],
   "source": [
    "df_covid = pd.read_csv(\"./content/messy_covid_data.csv\")\n",
    "df_covid.shape"
   ]
  },
  {
   "cell_type": "code",
   "execution_count": 19,
   "id": "Imztkl95qL2M",
   "metadata": {
    "colab": {
     "base_uri": "https://localhost:8080/"
    },
    "id": "Imztkl95qL2M",
    "outputId": "68a4e0ab-aaaa-4cf2-c56d-1a7563ebf8b5",
    "scrolled": true
   },
   "outputs": [
    {
     "data": {
      "text/plain": [
       "(dtype('O'), dtype('int64'))"
      ]
     },
     "execution_count": 19,
     "metadata": {},
     "output_type": "execute_result"
    }
   ],
   "source": [
    "(df_grouped.MODZCTA.dtype, df_covid.MODIFIED_ZCTA.dtype)"
   ]
  },
  {
   "cell_type": "code",
   "execution_count": 20,
   "id": "kHnn24vQSRKY",
   "metadata": {
    "id": "kHnn24vQSRKY"
   },
   "outputs": [],
   "source": [
    "df_grouped['MODZCTA'] = df_grouped.MODZCTA.str[1:].astype('int64')"
   ]
  },
  {
   "cell_type": "code",
   "execution_count": 21,
   "id": "-AJj92BPSOaz",
   "metadata": {
    "colab": {
     "base_uri": "https://localhost:8080/"
    },
    "id": "-AJj92BPSOaz",
    "outputId": "0817dfce-e9e5-4414-ea09-9847485cc025"
   },
   "outputs": [
    {
     "data": {
      "text/plain": [
       "(177, 16)"
      ]
     },
     "execution_count": 21,
     "metadata": {},
     "output_type": "execute_result"
    }
   ],
   "source": [
    "df_merged = df_grouped.merge(df_covid, left_on='MODZCTA', right_on='MODIFIED_ZCTA')\n",
    "df_merged.shape"
   ]
  },
  {
   "cell_type": "markdown",
   "id": "6i4gMCI0qL2M",
   "metadata": {
    "id": "6i4gMCI0qL2M"
   },
   "source": [
    "#### Now compute the correlations across MODZCTAs between the white non-Hispanic fraction, the median income, and the COVID case and death rates and percent positive. If you want to compute correlations between all five of these variables at once, you can use the pandas method \"corr\".  (5 points) #### "
   ]
  },
  {
   "cell_type": "code",
   "execution_count": null,
   "id": "BQxe44fAqL2N",
   "metadata": {
    "colab": {
     "base_uri": "https://localhost:8080/",
     "height": 224
    },
    "id": "BQxe44fAqL2N",
    "outputId": "8fa360d6-367c-4869-c650-b97eaf8fcac4"
   },
   "outputs": [
    {
     "data": {
      "text/html": [
       "<div>\n",
       "<style scoped>\n",
       "    .dataframe tbody tr th:only-of-type {\n",
       "        vertical-align: middle;\n",
       "    }\n",
       "\n",
       "    .dataframe tbody tr th {\n",
       "        vertical-align: top;\n",
       "    }\n",
       "\n",
       "    .dataframe thead th {\n",
       "        text-align: right;\n",
       "    }\n",
       "</style>\n",
       "<table border=\"1\" class=\"dataframe\">\n",
       "  <thead>\n",
       "    <tr style=\"text-align: right;\">\n",
       "      <th></th>\n",
       "      <th>white_non_hispanic_frac</th>\n",
       "      <th>median_income</th>\n",
       "      <th>COVID_CASE_RATE</th>\n",
       "      <th>COVID_DEATH_RATE</th>\n",
       "      <th>PERCENT_POSITIVE</th>\n",
       "    </tr>\n",
       "  </thead>\n",
       "  <tbody>\n",
       "    <tr>\n",
       "      <th>white_non_hispanic_frac</th>\n",
       "      <td>1.00</td>\n",
       "      <td>0.68</td>\n",
       "      <td>0.27</td>\n",
       "      <td>-0.47</td>\n",
       "      <td>-0.19</td>\n",
       "    </tr>\n",
       "    <tr>\n",
       "      <th>median_income</th>\n",
       "      <td>0.68</td>\n",
       "      <td>1.00</td>\n",
       "      <td>0.29</td>\n",
       "      <td>-0.63</td>\n",
       "      <td>-0.35</td>\n",
       "    </tr>\n",
       "    <tr>\n",
       "      <th>COVID_CASE_RATE</th>\n",
       "      <td>0.27</td>\n",
       "      <td>0.29</td>\n",
       "      <td>1.00</td>\n",
       "      <td>-0.19</td>\n",
       "      <td>0.58</td>\n",
       "    </tr>\n",
       "    <tr>\n",
       "      <th>COVID_DEATH_RATE</th>\n",
       "      <td>-0.47</td>\n",
       "      <td>-0.63</td>\n",
       "      <td>-0.19</td>\n",
       "      <td>1.00</td>\n",
       "      <td>0.39</td>\n",
       "    </tr>\n",
       "    <tr>\n",
       "      <th>PERCENT_POSITIVE</th>\n",
       "      <td>-0.19</td>\n",
       "      <td>-0.35</td>\n",
       "      <td>0.58</td>\n",
       "      <td>0.39</td>\n",
       "      <td>1.00</td>\n",
       "    </tr>\n",
       "  </tbody>\n",
       "</table>\n",
       "</div>"
      ],
      "text/plain": [
       "                         white_non_hispanic_frac  ...  PERCENT_POSITIVE\n",
       "white_non_hispanic_frac                     1.00  ...             -0.19\n",
       "median_income                               0.68  ...             -0.35\n",
       "COVID_CASE_RATE                             0.27  ...              0.58\n",
       "COVID_DEATH_RATE                           -0.47  ...              0.39\n",
       "PERCENT_POSITIVE                           -0.19  ...              1.00\n",
       "\n",
       "[5 rows x 5 columns]"
      ]
     },
     "execution_count": 13,
     "metadata": {},
     "output_type": "execute_result"
    }
   ],
   "source": [
    "corr_columns = [\n",
    "    \"white_non_hispanic_frac\",\n",
    "    \"median_income\",\n",
    "    \"COVID_CASE_RATE\",\n",
    "    \"COVID_DEATH_RATE\",\n",
    "    \"PERCENT_POSITIVE\"\n",
    "]\n",
    "\n",
    "df_merged[corr_columns].corr().round(2)"
   ]
  },
  {
   "cell_type": "markdown",
   "id": "gisYg3NiqL2O",
   "metadata": {
    "id": "gisYg3NiqL2O"
   },
   "source": [
    "#### Are the correlations in the directions you expect? Write a couple sentences interpreting the direction of the correlations. (5 points) #### "
   ]
  },
  {
   "cell_type": "markdown",
   "id": "vkI9rM0rSv7l",
   "metadata": {
    "id": "vkI9rM0rSv7l"
   },
   "source": [
    "Most of them are. For example, we see that `median_income` and `white_non_hispanic_frac` are rather strongly positively correlated; i.e. samples with a higher median income generally also have higher fraction of white, non-hispanic inhabitants. This is in line with the type of socio-economnic patterns one would expect to see in American neighborhoods. Furthermore, we see that `median_income` is negatively correlated with `COVID_DEATH_RATE`, i.e. a higher median income is associated with a lower Covid death rate. Seeing that individuals with higher incomes often have access to better healthcare, this is not surprising. The only result that may be surprising is the fact that `median_income` and `COVID_CASE_RATE` are positively correlated: one would not expect neighborhoods with a higher median income to also be the place where the Covid case rate is higher, certainly not when the death rate is lower.    "
   ]
  },
  {
   "cell_type": "markdown",
   "id": "H0ydhN8gqL2O",
   "metadata": {
    "id": "H0ydhN8gqL2O"
   },
   "source": [
    "#### It turns out that several of these five columns have bad values that we still haven't filtered out. Use the pandas method \"describe\" to find values which are implausibly large or small. Print out the results here and explain your interpretation. (10 points) ####"
   ]
  },
  {
   "cell_type": "code",
   "execution_count": null,
   "id": "ClW-jBGrqL2O",
   "metadata": {
    "colab": {
     "base_uri": "https://localhost:8080/"
    },
    "id": "ClW-jBGrqL2O",
    "outputId": "f62347a1-d1f7-40b0-e3ee-a30ade0a1ce4"
   },
   "outputs": [
    {
     "data": {
      "text/plain": [
       "count       177.000000\n",
       "mean     -36834.250395\n",
       "std      210166.276084\n",
       "min     -999999.000000\n",
       "25%        6317.060000\n",
       "50%        8704.640000\n",
       "75%       10619.150000\n",
       "max       16830.670000\n",
       "Name: COVID_CASE_RATE, dtype: float64"
      ]
     },
     "execution_count": 14,
     "metadata": {},
     "output_type": "execute_result"
    }
   ],
   "source": [
    "df_merged.COVID_CASE_RATE.describe()"
   ]
  },
  {
   "cell_type": "code",
   "execution_count": null,
   "id": "WT88DUc0T_wC",
   "metadata": {
    "colab": {
     "base_uri": "https://localhost:8080/"
    },
    "id": "WT88DUc0T_wC",
    "outputId": "ae4a5a8b-5e24-4c03-e659-09225fea32df"
   },
   "outputs": [
    {
     "data": {
      "text/plain": [
       "count    177.000000\n",
       "mean     313.450395\n",
       "std      145.522976\n",
       "min        0.000000\n",
       "25%      225.010000\n",
       "50%      310.900000\n",
       "75%      388.220000\n",
       "max      944.530000\n",
       "Name: COVID_DEATH_RATE, dtype: float64"
      ]
     },
     "execution_count": 15,
     "metadata": {},
     "output_type": "execute_result"
    }
   ],
   "source": [
    "df_merged.COVID_DEATH_RATE.describe()"
   ]
  },
  {
   "cell_type": "code",
   "execution_count": null,
   "id": "u1WPCP2ZUESj",
   "metadata": {
    "colab": {
     "base_uri": "https://localhost:8080/"
    },
    "id": "u1WPCP2ZUESj",
    "outputId": "dec8b583-18d2-41d1-ca25-73257488c78b"
   },
   "outputs": [
    {
     "data": {
      "text/plain": [
       "count    177.000000\n",
       "mean      12.769492\n",
       "std        4.880957\n",
       "min        0.000000\n",
       "25%        8.840000\n",
       "50%       14.150000\n",
       "75%       16.260000\n",
       "max       20.400000\n",
       "Name: PERCENT_POSITIVE, dtype: float64"
      ]
     },
     "execution_count": 16,
     "metadata": {},
     "output_type": "execute_result"
    }
   ],
   "source": [
    "df_merged.PERCENT_POSITIVE.describe()"
   ]
  },
  {
   "cell_type": "markdown",
   "id": "AttC7DgsSv7m",
   "metadata": {
    "id": "AttC7DgsSv7m"
   },
   "source": [
    "While the values for `PERCENT_POSITIVE` and `COVID_DEATH_RATE` may be plausible, there definintely appears to be an anomaly in the `COVID_CASE_RATE` field: the minimum value here is -999999. Because of this, the mean value of this column in negative too, which is not possible. Therefore, we will remove the rows where this column has a value under 0.  "
   ]
  },
  {
   "cell_type": "markdown",
   "id": "oq9w9CQsqL2P",
   "metadata": {
    "id": "oq9w9CQsqL2P"
   },
   "source": [
    "#### Recompute these correlations after removing the rows with these bad values (a tip: look at the abnormal values in covid data). How many rows did you remove? (10 points) ####"
   ]
  },
  {
   "cell_type": "code",
   "execution_count": null,
   "id": "cPCViNcMqL2P",
   "metadata": {
    "colab": {
     "base_uri": "https://localhost:8080/"
    },
    "id": "cPCViNcMqL2P",
    "outputId": "2b014c55-01f1-4c65-ea18-d57fde38d51a"
   },
   "outputs": [
    {
     "data": {
      "text/plain": [
       "(169, 16)"
      ]
     },
     "execution_count": 17,
     "metadata": {},
     "output_type": "execute_result"
    }
   ],
   "source": [
    "df_clean = df_merged[df_merged.COVID_CASE_RATE >= 0]\n",
    "df_clean.shape"
   ]
  },
  {
   "cell_type": "markdown",
   "id": "bQx-a-4wVOUV",
   "metadata": {
    "id": "bQx-a-4wVOUV"
   },
   "source": [
    "We removed 8 rows. The correlations now are as follows."
   ]
  },
  {
   "cell_type": "code",
   "execution_count": null,
   "id": "bMD78dr-VOHK",
   "metadata": {
    "colab": {
     "base_uri": "https://localhost:8080/",
     "height": 224
    },
    "id": "bMD78dr-VOHK",
    "outputId": "b8ea1d5c-ff52-436f-a4ef-9068b84e9fc9"
   },
   "outputs": [
    {
     "data": {
      "text/html": [
       "<div>\n",
       "<style scoped>\n",
       "    .dataframe tbody tr th:only-of-type {\n",
       "        vertical-align: middle;\n",
       "    }\n",
       "\n",
       "    .dataframe tbody tr th {\n",
       "        vertical-align: top;\n",
       "    }\n",
       "\n",
       "    .dataframe thead th {\n",
       "        text-align: right;\n",
       "    }\n",
       "</style>\n",
       "<table border=\"1\" class=\"dataframe\">\n",
       "  <thead>\n",
       "    <tr style=\"text-align: right;\">\n",
       "      <th></th>\n",
       "      <th>white_non_hispanic_frac</th>\n",
       "      <th>median_income</th>\n",
       "      <th>COVID_CASE_RATE</th>\n",
       "      <th>COVID_DEATH_RATE</th>\n",
       "      <th>PERCENT_POSITIVE</th>\n",
       "    </tr>\n",
       "  </thead>\n",
       "  <tbody>\n",
       "    <tr>\n",
       "      <th>white_non_hispanic_frac</th>\n",
       "      <td>1.00</td>\n",
       "      <td>0.65</td>\n",
       "      <td>-0.28</td>\n",
       "      <td>-0.48</td>\n",
       "      <td>-0.44</td>\n",
       "    </tr>\n",
       "    <tr>\n",
       "      <th>median_income</th>\n",
       "      <td>0.65</td>\n",
       "      <td>1.00</td>\n",
       "      <td>-0.55</td>\n",
       "      <td>-0.65</td>\n",
       "      <td>-0.65</td>\n",
       "    </tr>\n",
       "    <tr>\n",
       "      <th>COVID_CASE_RATE</th>\n",
       "      <td>-0.28</td>\n",
       "      <td>-0.55</td>\n",
       "      <td>1.00</td>\n",
       "      <td>0.61</td>\n",
       "      <td>0.92</td>\n",
       "    </tr>\n",
       "    <tr>\n",
       "      <th>COVID_DEATH_RATE</th>\n",
       "      <td>-0.48</td>\n",
       "      <td>-0.65</td>\n",
       "      <td>0.61</td>\n",
       "      <td>1.00</td>\n",
       "      <td>0.65</td>\n",
       "    </tr>\n",
       "    <tr>\n",
       "      <th>PERCENT_POSITIVE</th>\n",
       "      <td>-0.44</td>\n",
       "      <td>-0.65</td>\n",
       "      <td>0.92</td>\n",
       "      <td>0.65</td>\n",
       "      <td>1.00</td>\n",
       "    </tr>\n",
       "  </tbody>\n",
       "</table>\n",
       "</div>"
      ],
      "text/plain": [
       "                         white_non_hispanic_frac  ...  PERCENT_POSITIVE\n",
       "white_non_hispanic_frac                     1.00  ...             -0.44\n",
       "median_income                               0.65  ...             -0.65\n",
       "COVID_CASE_RATE                            -0.28  ...              0.92\n",
       "COVID_DEATH_RATE                           -0.48  ...              0.65\n",
       "PERCENT_POSITIVE                           -0.44  ...              1.00\n",
       "\n",
       "[5 rows x 5 columns]"
      ]
     },
     "execution_count": 18,
     "metadata": {},
     "output_type": "execute_result"
    }
   ],
   "source": [
    "df_clean[corr_columns].corr().round(2)"
   ]
  },
  {
   "cell_type": "markdown",
   "id": "JdGrIQDRqL2Q",
   "metadata": {
    "id": "JdGrIQDRqL2Q"
   },
   "source": [
    "*If you're doing it correctly, you may have the correlation between median_income and COVID_CASE_RATE as around -0.54766, rather than the positive value you got before (0.286642). This is why it's important to be careful cleaning your data - if you get unlucky, a couple bad datapoints can totally change your conclusions.*\n",
    "\n",
    "Another important lesson here is to use statistical measures which are robust (ie, won't totally break) if you have a few bad datapoints. Conventional correlation (Pearson correlation) can be heavily influenced by outliers, which is why it breaks here. Spearman correlation is less influenced by outliers, for reasons we'll discuss. Compute Spearman correlation using the messy data, without filtering out the bad rows; you will see that it is less sensitive to outliers.\n",
    "\n",
    "#### Another way to make your analyses robust is to run them several different ways: for example, compute both Spearman AND pearson correlation. This is a good idea in general. (5 points) ####"
   ]
  },
  {
   "cell_type": "code",
   "execution_count": null,
   "id": "W_tydGFCSv7v",
   "metadata": {
    "colab": {
     "base_uri": "https://localhost:8080/",
     "height": 224
    },
    "id": "W_tydGFCSv7v",
    "outputId": "e70d30e1-e74f-4b8b-d11c-90d0b25ea105"
   },
   "outputs": [
    {
     "data": {
      "text/html": [
       "<div>\n",
       "<style scoped>\n",
       "    .dataframe tbody tr th:only-of-type {\n",
       "        vertical-align: middle;\n",
       "    }\n",
       "\n",
       "    .dataframe tbody tr th {\n",
       "        vertical-align: top;\n",
       "    }\n",
       "\n",
       "    .dataframe thead th {\n",
       "        text-align: right;\n",
       "    }\n",
       "</style>\n",
       "<table border=\"1\" class=\"dataframe\">\n",
       "  <thead>\n",
       "    <tr style=\"text-align: right;\">\n",
       "      <th></th>\n",
       "      <th>white_non_hispanic_frac</th>\n",
       "      <th>median_income</th>\n",
       "      <th>COVID_CASE_RATE</th>\n",
       "      <th>COVID_DEATH_RATE</th>\n",
       "      <th>PERCENT_POSITIVE</th>\n",
       "    </tr>\n",
       "  </thead>\n",
       "  <tbody>\n",
       "    <tr>\n",
       "      <th>white_non_hispanic_frac</th>\n",
       "      <td>1.00</td>\n",
       "      <td>0.72</td>\n",
       "      <td>-0.18</td>\n",
       "      <td>-0.53</td>\n",
       "      <td>-0.23</td>\n",
       "    </tr>\n",
       "    <tr>\n",
       "      <th>median_income</th>\n",
       "      <td>0.72</td>\n",
       "      <td>1.00</td>\n",
       "      <td>-0.31</td>\n",
       "      <td>-0.62</td>\n",
       "      <td>-0.30</td>\n",
       "    </tr>\n",
       "    <tr>\n",
       "      <th>COVID_CASE_RATE</th>\n",
       "      <td>-0.18</td>\n",
       "      <td>-0.31</td>\n",
       "      <td>1.00</td>\n",
       "      <td>0.51</td>\n",
       "      <td>0.95</td>\n",
       "    </tr>\n",
       "    <tr>\n",
       "      <th>COVID_DEATH_RATE</th>\n",
       "      <td>-0.53</td>\n",
       "      <td>-0.62</td>\n",
       "      <td>0.51</td>\n",
       "      <td>1.00</td>\n",
       "      <td>0.49</td>\n",
       "    </tr>\n",
       "    <tr>\n",
       "      <th>PERCENT_POSITIVE</th>\n",
       "      <td>-0.23</td>\n",
       "      <td>-0.30</td>\n",
       "      <td>0.95</td>\n",
       "      <td>0.49</td>\n",
       "      <td>1.00</td>\n",
       "    </tr>\n",
       "  </tbody>\n",
       "</table>\n",
       "</div>"
      ],
      "text/plain": [
       "                         white_non_hispanic_frac  ...  PERCENT_POSITIVE\n",
       "white_non_hispanic_frac                     1.00  ...             -0.23\n",
       "median_income                               0.72  ...             -0.30\n",
       "COVID_CASE_RATE                            -0.18  ...              0.95\n",
       "COVID_DEATH_RATE                           -0.53  ...              0.49\n",
       "PERCENT_POSITIVE                           -0.23  ...              1.00\n",
       "\n",
       "[5 rows x 5 columns]"
      ]
     },
     "execution_count": 19,
     "metadata": {},
     "output_type": "execute_result"
    }
   ],
   "source": [
    "df_merged[corr_columns].corr(method='spearman').round(2)"
   ]
  },
  {
   "cell_type": "markdown",
   "id": "jg6wgHF9qL2Q",
   "metadata": {
    "id": "jg6wgHF9qL2Q"
   },
   "source": [
    "#### It's also a good idea to plot the data. Use seaborn's pairplot function to plot all 5 variables, making it obvious that something weird is happening with the original values. (5 points) ####"
   ]
  },
  {
   "cell_type": "code",
   "execution_count": null,
   "id": "xFXI_blHqL2R",
   "metadata": {
    "colab": {
     "base_uri": "https://localhost:8080/",
     "height": 920
    },
    "id": "xFXI_blHqL2R",
    "outputId": "46779772-10e4-48b0-a0ee-f33b50d797fb"
   },
   "outputs": [
    {
     "data": {
      "text/plain": [
       "<seaborn.axisgrid.PairGrid at 0x7f734e51e090>"
      ]
     },
     "execution_count": 20,
     "metadata": {},
     "output_type": "execute_result"
    },
    {
     "data": {
      "image/png": "[encoded data removed]",
      "text/plain": [
       "<Figure size 900x900 with 20 Axes>"
      ]
     },
     "metadata": {
      "needs_background": "light"
     },
     "output_type": "display_data"
    }
   ],
   "source": [
    "import seaborn as sns\n",
    "\n",
    "sns.pairplot(df_merged[corr_columns], kind='hist', corner=True)"
   ]
  },
  {
   "cell_type": "markdown",
   "id": "yNah_48-qL2R",
   "metadata": {
    "id": "yNah_48-qL2R"
   },
   "source": [
    "#### Using the same merged dataframe you just used, re-calculate the Spearman correlation with same five variables (white non-Hispanic fraction, median income, COVID_CASE_RATE, COVID_DEATH_RATE, and PERCENT_POSITIVE). But this time, use the NEIGHBORHOOD_NAME as a location grouping rather than MODZCTA, as described below (25 points):\n",
    "\n",
    "1. Split up neighborhoods using the \"/\" character. For example, \"Chinatown\" is one neighborhood. And MODZCTAs with the “Chinatown/Lower East Side” label should go into both the Chinatown row and the Lower East Side row.\n",
    "2. Use the mean of all rate/percentage values of a certain neighborhood as its variable. For example, if \"Roosevelt Island\" has two MODZCTAs \"Roosevelt Island/Lenox Hill\" and \"Roosevelt Island/Midtown East\" and these two areas have PERCENT_POSITIVE as 12.00 and 8.00 respectively, then we assume Roosevelt Island has PERCENT_POSITIVE as (12+8)/2=10.00. Similarly, if the median income in \"Roosevelt Island/Lenox Hill\" is 1000, and the median income in \"Roosevelt Island/Midtown East\" is 2200, then we assume that Roosevelt Island has a median income of (2200 + 1000) / 2 = 1600. \n",
    "3. Remove all rows with abnormal COVID data prior to performing this analysis. \n",
    "\n",
    "What do you find?\n",
    "\n",
    "*Sanity check 1: You should find 225 unique neighborhoods before removing rows with abnormal values*\n",
    "\n",
    "*Sanity check 2: The mean of median_income in \"Financial District\" is around $164000 (and you may drop one zipcode row of Financial District due to the lack of data).*"
   ]
  },
  {
   "cell_type": "code",
   "execution_count": null,
   "id": "UF2YddQGqL2T",
   "metadata": {
    "colab": {
     "base_uri": "https://localhost:8080/"
    },
    "id": "UF2YddQGqL2T",
    "outputId": "fc002535-0e06-48b0-946c-d8ec5652b8e3"
   },
   "outputs": [
    {
     "data": {
      "text/plain": [
       "0                    Chelsea/NoMad/West Chelsea\n",
       "1                     Chinatown/Lower East Side\n",
       "2      East Village /Gramercy/Greenwich Village\n",
       "3                            Financial District\n",
       "4                            Financial District\n",
       "                         ...                   \n",
       "172                     Edgemere / Far Rockaway\n",
       "173                           Arverne /Edgemere\n",
       "174                      Arverne /Broad Channel\n",
       "175         Belle Harbor-Neponsit/Rockaway Park\n",
       "176                                Breezy Point\n",
       "Name: NEIGHBORHOOD_NAME, Length: 177, dtype: object"
      ]
     },
     "execution_count": 21,
     "metadata": {},
     "output_type": "execute_result"
    }
   ],
   "source": [
    "df_merged.NEIGHBORHOOD_NAME"
   ]
  },
  {
   "cell_type": "code",
   "execution_count": null,
   "id": "bmrRePbuXRIg",
   "metadata": {
    "colab": {
     "base_uri": "https://localhost:8080/",
     "height": 292
    },
    "id": "bmrRePbuXRIg",
    "outputId": "1e344176-9073-4b61-8919-93b30459fe49"
   },
   "outputs": [
    {
     "data": {
      "text/html": [
       "<div>\n",
       "<style scoped>\n",
       "    .dataframe tbody tr th:only-of-type {\n",
       "        vertical-align: middle;\n",
       "    }\n",
       "\n",
       "    .dataframe tbody tr th {\n",
       "        vertical-align: top;\n",
       "    }\n",
       "\n",
       "    .dataframe thead th {\n",
       "        text-align: right;\n",
       "    }\n",
       "</style>\n",
       "<table border=\"1\" class=\"dataframe\">\n",
       "  <thead>\n",
       "    <tr style=\"text-align: right;\">\n",
       "      <th></th>\n",
       "      <th>MODZCTA</th>\n",
       "      <th>white_non_hispanic_frac</th>\n",
       "      <th>median_income</th>\n",
       "      <th>MODIFIED_ZCTA</th>\n",
       "      <th>NEIGHBORHOOD_NAME</th>\n",
       "      <th>BOROUGH_GROUP</th>\n",
       "      <th>label</th>\n",
       "      <th>lat</th>\n",
       "      <th>lon</th>\n",
       "      <th>COVID_CASE_COUNT</th>\n",
       "      <th>COVID_CASE_RATE</th>\n",
       "      <th>POP_DENOMINATOR</th>\n",
       "      <th>COVID_DEATH_COUNT</th>\n",
       "      <th>COVID_DEATH_RATE</th>\n",
       "      <th>PERCENT_POSITIVE</th>\n",
       "      <th>TOTAL_COVID_TESTS</th>\n",
       "    </tr>\n",
       "  </thead>\n",
       "  <tbody>\n",
       "    <tr>\n",
       "      <th>0</th>\n",
       "      <td>10001</td>\n",
       "      <td>0.545798</td>\n",
       "      <td>92840.0</td>\n",
       "      <td>10001</td>\n",
       "      <td>[Chelsea, NoMad, WestChelsea]</td>\n",
       "      <td>Manhattan</td>\n",
       "      <td>10001, 10118</td>\n",
       "      <td>40.750693</td>\n",
       "      <td>-73.997137</td>\n",
       "      <td>1619</td>\n",
       "      <td>5863.16</td>\n",
       "      <td>27613.09</td>\n",
       "      <td>35</td>\n",
       "      <td>126.75</td>\n",
       "      <td>7.52</td>\n",
       "      <td>22248</td>\n",
       "    </tr>\n",
       "    <tr>\n",
       "      <th>1</th>\n",
       "      <td>10002</td>\n",
       "      <td>0.220143</td>\n",
       "      <td>36982.0</td>\n",
       "      <td>10002</td>\n",
       "      <td>[Chinatown, LowerEastSide]</td>\n",
       "      <td>Manhattan</td>\n",
       "      <td>10002</td>\n",
       "      <td>40.715781</td>\n",
       "      <td>-73.986176</td>\n",
       "      <td>6107</td>\n",
       "      <td>8107.78</td>\n",
       "      <td>75322.71</td>\n",
       "      <td>286</td>\n",
       "      <td>379.70</td>\n",
       "      <td>12.36</td>\n",
       "      <td>51259</td>\n",
       "    </tr>\n",
       "    <tr>\n",
       "      <th>2</th>\n",
       "      <td>10003</td>\n",
       "      <td>0.691331</td>\n",
       "      <td>118161.0</td>\n",
       "      <td>10003</td>\n",
       "      <td>[EastVillage, Gramercy, GreenwichVillage]</td>\n",
       "      <td>Manhattan</td>\n",
       "      <td>10003</td>\n",
       "      <td>40.731825</td>\n",
       "      <td>-73.989164</td>\n",
       "      <td>2928</td>\n",
       "      <td>5424.45</td>\n",
       "      <td>53977.81</td>\n",
       "      <td>49</td>\n",
       "      <td>90.78</td>\n",
       "      <td>6.95</td>\n",
       "      <td>42943</td>\n",
       "    </tr>\n",
       "    <tr>\n",
       "      <th>3</th>\n",
       "      <td>10004</td>\n",
       "      <td>0.592804</td>\n",
       "      <td>190223.0</td>\n",
       "      <td>10004</td>\n",
       "      <td>[FinancialDistrict]</td>\n",
       "      <td>Manhattan</td>\n",
       "      <td>10004</td>\n",
       "      <td>40.703675</td>\n",
       "      <td>-74.013106</td>\n",
       "      <td>251</td>\n",
       "      <td>8445.16</td>\n",
       "      <td>2972.12</td>\n",
       "      <td>2</td>\n",
       "      <td>67.29</td>\n",
       "      <td>6.66</td>\n",
       "      <td>3816</td>\n",
       "    </tr>\n",
       "    <tr>\n",
       "      <th>4</th>\n",
       "      <td>10005</td>\n",
       "      <td>0.716699</td>\n",
       "      <td>189702.0</td>\n",
       "      <td>10005</td>\n",
       "      <td>[FinancialDistrict]</td>\n",
       "      <td>Manhattan</td>\n",
       "      <td>10005</td>\n",
       "      <td>40.706092</td>\n",
       "      <td>-74.008861</td>\n",
       "      <td>428</td>\n",
       "      <td>4887.39</td>\n",
       "      <td>8757.23</td>\n",
       "      <td>0</td>\n",
       "      <td>0.00</td>\n",
       "      <td>6.51</td>\n",
       "      <td>6588</td>\n",
       "    </tr>\n",
       "  </tbody>\n",
       "</table>\n",
       "</div>"
      ],
      "text/plain": [
       "   MODZCTA  white_non_hispanic_frac  ...  PERCENT_POSITIVE  TOTAL_COVID_TESTS\n",
       "0    10001                 0.545798  ...              7.52              22248\n",
       "1    10002                 0.220143  ...             12.36              51259\n",
       "2    10003                 0.691331  ...              6.95              42943\n",
       "3    10004                 0.592804  ...              6.66               3816\n",
       "4    10005                 0.716699  ...              6.51               6588\n",
       "\n",
       "[5 rows x 16 columns]"
      ]
     },
     "execution_count": 22,
     "metadata": {},
     "output_type": "execute_result"
    }
   ],
   "source": [
    "df_merged['NEIGHBORHOOD_NAME'] = df_merged.NEIGHBORHOOD_NAME.str.replace(\" \", \"\")\n",
    "df_merged['NEIGHBORHOOD_NAME'] = df_merged.NEIGHBORHOOD_NAME.str.split(\"/\")\n",
    "df_merged.head()"
   ]
  },
  {
   "cell_type": "code",
   "execution_count": null,
   "id": "qPttsThAX0bR",
   "metadata": {
    "colab": {
     "base_uri": "https://localhost:8080/"
    },
    "id": "qPttsThAX0bR",
    "outputId": "f9afba05-fc06-436d-a920-f46fbec4e412"
   },
   "outputs": [
    {
     "data": {
      "text/plain": [
       "225"
      ]
     },
     "execution_count": 23,
     "metadata": {},
     "output_type": "execute_result"
    }
   ],
   "source": [
    "all_neigh = []\n",
    "\n",
    "for val in df_merged.NEIGHBORHOOD_NAME:\n",
    "    all_neigh += val\n",
    "\n",
    "len(set(all_neigh))"
   ]
  },
  {
   "cell_type": "code",
   "execution_count": null,
   "id": "w271HRGRXK19",
   "metadata": {
    "colab": {
     "base_uri": "https://localhost:8080/"
    },
    "id": "w271HRGRXK19",
    "outputId": "a87ba1a0-bbf6-47d9-8e05-ef2f6f5b2c4a"
   },
   "outputs": [
    {
     "data": {
      "text/plain": [
       "(343, 16)"
      ]
     },
     "execution_count": 24,
     "metadata": {},
     "output_type": "execute_result"
    }
   ],
   "source": [
    "df_explode = df_merged.explode(column='NEIGHBORHOOD_NAME')\n",
    "df_explode.shape"
   ]
  },
  {
   "cell_type": "code",
   "execution_count": null,
   "id": "oHZBXSRpZN6r",
   "metadata": {
    "colab": {
     "base_uri": "https://localhost:8080/",
     "height": 224
    },
    "id": "oHZBXSRpZN6r",
    "outputId": "2ff7ea42-c4bb-4d10-f386-69adfbfb506c"
   },
   "outputs": [
    {
     "data": {
      "text/html": [
       "<div>\n",
       "<style scoped>\n",
       "    .dataframe tbody tr th:only-of-type {\n",
       "        vertical-align: middle;\n",
       "    }\n",
       "\n",
       "    .dataframe tbody tr th {\n",
       "        vertical-align: top;\n",
       "    }\n",
       "\n",
       "    .dataframe thead th {\n",
       "        text-align: right;\n",
       "    }\n",
       "</style>\n",
       "<table border=\"1\" class=\"dataframe\">\n",
       "  <thead>\n",
       "    <tr style=\"text-align: right;\">\n",
       "      <th></th>\n",
       "      <th>NEIGHBORHOOD_NAME</th>\n",
       "      <th>white_non_hispanic_frac</th>\n",
       "      <th>median_income</th>\n",
       "      <th>COVID_CASE_RATE</th>\n",
       "      <th>COVID_DEATH_RATE</th>\n",
       "      <th>PERCENT_POSITIVE</th>\n",
       "    </tr>\n",
       "  </thead>\n",
       "  <tbody>\n",
       "    <tr>\n",
       "      <th>0</th>\n",
       "      <td>Airport</td>\n",
       "      <td>0.051432</td>\n",
       "      <td>59135.5</td>\n",
       "      <td>11257.845</td>\n",
       "      <td>521.905</td>\n",
       "      <td>15.895</td>\n",
       "    </tr>\n",
       "    <tr>\n",
       "      <th>1</th>\n",
       "      <td>Allerton</td>\n",
       "      <td>0.096393</td>\n",
       "      <td>52385.5</td>\n",
       "      <td>10197.710</td>\n",
       "      <td>529.710</td>\n",
       "      <td>15.975</td>\n",
       "    </tr>\n",
       "    <tr>\n",
       "      <th>2</th>\n",
       "      <td>AlphabetCity</td>\n",
       "      <td>0.515654</td>\n",
       "      <td>63717.0</td>\n",
       "      <td>6572.050</td>\n",
       "      <td>213.470</td>\n",
       "      <td>9.460</td>\n",
       "    </tr>\n",
       "    <tr>\n",
       "      <th>3</th>\n",
       "      <td>Annadale</td>\n",
       "      <td>0.811832</td>\n",
       "      <td>97407.0</td>\n",
       "      <td>12757.820</td>\n",
       "      <td>212.930</td>\n",
       "      <td>18.680</td>\n",
       "    </tr>\n",
       "    <tr>\n",
       "      <th>4</th>\n",
       "      <td>Arrochar</td>\n",
       "      <td>0.601414</td>\n",
       "      <td>79742.0</td>\n",
       "      <td>13192.960</td>\n",
       "      <td>329.010</td>\n",
       "      <td>19.560</td>\n",
       "    </tr>\n",
       "  </tbody>\n",
       "</table>\n",
       "</div>"
      ],
      "text/plain": [
       "  NEIGHBORHOOD_NAME  ...  PERCENT_POSITIVE\n",
       "0           Airport  ...            15.895\n",
       "1          Allerton  ...            15.975\n",
       "2      AlphabetCity  ...             9.460\n",
       "3          Annadale  ...            18.680\n",
       "4          Arrochar  ...            19.560\n",
       "\n",
       "[5 rows x 6 columns]"
      ]
     },
     "execution_count": 25,
     "metadata": {},
     "output_type": "execute_result"
    }
   ],
   "source": [
    "df_neighb_grouped = df_explode.groupby('NEIGHBORHOOD_NAME')[corr_columns].mean().reset_index()\n",
    "df_neighb_grouped.head()"
   ]
  },
  {
   "cell_type": "code",
   "execution_count": null,
   "id": "deI-snp3ZfiN",
   "metadata": {
    "colab": {
     "base_uri": "https://localhost:8080/"
    },
    "id": "deI-snp3ZfiN",
    "outputId": "6f243acc-2409-4c2a-f15b-d601ba7edda3"
   },
   "outputs": [
    {
     "data": {
      "text/plain": [
       "74    163667.75\n",
       "Name: median_income, dtype: float64"
      ]
     },
     "execution_count": 26,
     "metadata": {},
     "output_type": "execute_result"
    }
   ],
   "source": [
    "# Sanity check\n",
    "df_neighb_grouped[df_neighb_grouped.NEIGHBORHOOD_NAME == \"FinancialDistrict\"].median_income"
   ]
  },
  {
   "cell_type": "code",
   "execution_count": null,
   "id": "7hhSWVd4ZwVT",
   "metadata": {
    "colab": {
     "base_uri": "https://localhost:8080/",
     "height": 224
    },
    "id": "7hhSWVd4ZwVT",
    "outputId": "0fe84162-60c2-4523-f391-fe9d635c79a2"
   },
   "outputs": [
    {
     "data": {
      "text/html": [
       "<div>\n",
       "<style scoped>\n",
       "    .dataframe tbody tr th:only-of-type {\n",
       "        vertical-align: middle;\n",
       "    }\n",
       "\n",
       "    .dataframe tbody tr th {\n",
       "        vertical-align: top;\n",
       "    }\n",
       "\n",
       "    .dataframe thead th {\n",
       "        text-align: right;\n",
       "    }\n",
       "</style>\n",
       "<table border=\"1\" class=\"dataframe\">\n",
       "  <thead>\n",
       "    <tr style=\"text-align: right;\">\n",
       "      <th></th>\n",
       "      <th>white_non_hispanic_frac</th>\n",
       "      <th>median_income</th>\n",
       "      <th>COVID_CASE_RATE</th>\n",
       "      <th>COVID_DEATH_RATE</th>\n",
       "      <th>PERCENT_POSITIVE</th>\n",
       "    </tr>\n",
       "  </thead>\n",
       "  <tbody>\n",
       "    <tr>\n",
       "      <th>white_non_hispanic_frac</th>\n",
       "      <td>1.00</td>\n",
       "      <td>0.68</td>\n",
       "      <td>-0.16</td>\n",
       "      <td>-0.45</td>\n",
       "      <td>-0.18</td>\n",
       "    </tr>\n",
       "    <tr>\n",
       "      <th>median_income</th>\n",
       "      <td>0.68</td>\n",
       "      <td>1.00</td>\n",
       "      <td>-0.43</td>\n",
       "      <td>-0.61</td>\n",
       "      <td>-0.42</td>\n",
       "    </tr>\n",
       "    <tr>\n",
       "      <th>COVID_CASE_RATE</th>\n",
       "      <td>-0.16</td>\n",
       "      <td>-0.43</td>\n",
       "      <td>1.00</td>\n",
       "      <td>0.59</td>\n",
       "      <td>0.95</td>\n",
       "    </tr>\n",
       "    <tr>\n",
       "      <th>COVID_DEATH_RATE</th>\n",
       "      <td>-0.45</td>\n",
       "      <td>-0.61</td>\n",
       "      <td>0.59</td>\n",
       "      <td>1.00</td>\n",
       "      <td>0.55</td>\n",
       "    </tr>\n",
       "    <tr>\n",
       "      <th>PERCENT_POSITIVE</th>\n",
       "      <td>-0.18</td>\n",
       "      <td>-0.42</td>\n",
       "      <td>0.95</td>\n",
       "      <td>0.55</td>\n",
       "      <td>1.00</td>\n",
       "    </tr>\n",
       "  </tbody>\n",
       "</table>\n",
       "</div>"
      ],
      "text/plain": [
       "                         white_non_hispanic_frac  ...  PERCENT_POSITIVE\n",
       "white_non_hispanic_frac                     1.00  ...             -0.18\n",
       "median_income                               0.68  ...             -0.42\n",
       "COVID_CASE_RATE                            -0.16  ...              0.95\n",
       "COVID_DEATH_RATE                           -0.45  ...              0.55\n",
       "PERCENT_POSITIVE                           -0.18  ...              1.00\n",
       "\n",
       "[5 rows x 5 columns]"
      ]
     },
     "execution_count": 27,
     "metadata": {},
     "output_type": "execute_result"
    }
   ],
   "source": [
    "df_neighb_grouped[df_neighb_grouped.COVID_CASE_RATE >= 0].corr(method='spearman').round(2)"
   ]
  },
  {
   "cell_type": "code",
   "execution_count": null,
   "id": "4oCaE2zEbgtE",
   "metadata": {
    "colab": {
     "base_uri": "https://localhost:8080/",
     "height": 224
    },
    "id": "4oCaE2zEbgtE",
    "outputId": "8c6426e3-a39e-4ebe-c6a8-7a14d770da5f"
   },
   "outputs": [
    {
     "data": {
      "text/html": [
       "<div>\n",
       "<style scoped>\n",
       "    .dataframe tbody tr th:only-of-type {\n",
       "        vertical-align: middle;\n",
       "    }\n",
       "\n",
       "    .dataframe tbody tr th {\n",
       "        vertical-align: top;\n",
       "    }\n",
       "\n",
       "    .dataframe thead th {\n",
       "        text-align: right;\n",
       "    }\n",
       "</style>\n",
       "<table border=\"1\" class=\"dataframe\">\n",
       "  <thead>\n",
       "    <tr style=\"text-align: right;\">\n",
       "      <th></th>\n",
       "      <th>white_non_hispanic_frac</th>\n",
       "      <th>median_income</th>\n",
       "      <th>COVID_CASE_RATE</th>\n",
       "      <th>COVID_DEATH_RATE</th>\n",
       "      <th>PERCENT_POSITIVE</th>\n",
       "    </tr>\n",
       "  </thead>\n",
       "  <tbody>\n",
       "    <tr>\n",
       "      <th>white_non_hispanic_frac</th>\n",
       "      <td>0.00</td>\n",
       "      <td>0.04</td>\n",
       "      <td>0.02</td>\n",
       "      <td>0.08</td>\n",
       "      <td>0.05</td>\n",
       "    </tr>\n",
       "    <tr>\n",
       "      <th>median_income</th>\n",
       "      <td>0.04</td>\n",
       "      <td>0.00</td>\n",
       "      <td>0.12</td>\n",
       "      <td>0.01</td>\n",
       "      <td>0.12</td>\n",
       "    </tr>\n",
       "    <tr>\n",
       "      <th>COVID_CASE_RATE</th>\n",
       "      <td>0.02</td>\n",
       "      <td>0.12</td>\n",
       "      <td>0.00</td>\n",
       "      <td>0.08</td>\n",
       "      <td>0.00</td>\n",
       "    </tr>\n",
       "    <tr>\n",
       "      <th>COVID_DEATH_RATE</th>\n",
       "      <td>0.08</td>\n",
       "      <td>0.01</td>\n",
       "      <td>0.08</td>\n",
       "      <td>0.00</td>\n",
       "      <td>0.06</td>\n",
       "    </tr>\n",
       "    <tr>\n",
       "      <th>PERCENT_POSITIVE</th>\n",
       "      <td>0.05</td>\n",
       "      <td>0.12</td>\n",
       "      <td>0.00</td>\n",
       "      <td>0.06</td>\n",
       "      <td>0.00</td>\n",
       "    </tr>\n",
       "  </tbody>\n",
       "</table>\n",
       "</div>"
      ],
      "text/plain": [
       "                         white_non_hispanic_frac  ...  PERCENT_POSITIVE\n",
       "white_non_hispanic_frac                     0.00  ...              0.05\n",
       "median_income                               0.04  ...              0.12\n",
       "COVID_CASE_RATE                             0.02  ...              0.00\n",
       "COVID_DEATH_RATE                            0.08  ...              0.06\n",
       "PERCENT_POSITIVE                            0.05  ...              0.00\n",
       "\n",
       "[5 rows x 5 columns]"
      ]
     },
     "execution_count": 29,
     "metadata": {},
     "output_type": "execute_result"
    }
   ],
   "source": [
    "# Absolute difference in correlation\n",
    "abs(df_neighb_grouped[df_neighb_grouped.COVID_CASE_RATE >= 0].corr(method='spearman').round(2) - df_merged[corr_columns].corr(method='spearman').round(2))"
   ]
  },
  {
   "cell_type": "markdown",
   "id": "8x9hWCpjSv7y",
   "metadata": {
    "id": "8x9hWCpjSv7y"
   },
   "source": [
    "When grouping the data by neighborhood, rather than by ZIP code, we find that the results are relatively similar in general. The biggest different in correlation is 0.12, which is found in the correlation between median income and Covid case rate, and median income and `PERCENT_POSITIVE`. The correlations in when looking at neighborhoods are more strongly negative than when looking at ZIP codes. I.e., we can conclude that neighborhoods with a high income lead to lower case rates more strongly than ZIP codes with a high income do. This is likely an artifact related to the fact that we averaged the median incomes for certain neighborhoods. This can also be recognized when looking at the max value of `median_income` for both cases: this is higher when looking at ZIP codes.  "
   ]
  },
  {
   "cell_type": "code",
   "execution_count": null,
   "id": "B7RPje9kb50d",
   "metadata": {
    "colab": {
     "base_uri": "https://localhost:8080/"
    },
    "id": "B7RPje9kb50d",
    "outputId": "5dd57309-4c65-4c96-ea5d-b808ffdcdbe1"
   },
   "outputs": [
    {
     "data": {
      "text/plain": [
       "(216380.5, 250001.0)"
      ]
     },
     "execution_count": 169,
     "metadata": {},
     "output_type": "execute_result"
    }
   ],
   "source": [
    "(df_neighb_grouped.median_income.max(), df_merged.median_income.max())"
   ]
  }
 ],
 "metadata": {
  "colab": {
   "collapsed_sections": [],
   "name": "A2_lk545.ipynb",
   "provenance": []
  },
  "kernelspec": {
   "display_name": "Python 3 (ipykernel)",
   "language": "python",
   "name": "python3"
  },
  "language_info": {
   "codemirror_mode": {
    "name": "ipython",
    "version": 3
   },
   "file_extension": ".py",
   "mimetype": "text/x-python",
   "name": "python",
   "nbconvert_exporter": "python",
   "pygments_lexer": "ipython3",
   "version": "3.9.7"
  }
 },
 "nbformat": 4,
 "nbformat_minor": 5
}
