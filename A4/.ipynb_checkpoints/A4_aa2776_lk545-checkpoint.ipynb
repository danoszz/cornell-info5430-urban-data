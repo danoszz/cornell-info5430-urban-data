{
 "cells": [
  {
   "cell_type": "markdown",
   "id": "aef3bf60",
   "metadata": {
    "id": "bizarre-tonight"
   },
   "source": [
    "# Assignment 4"
   ]
  },
  {
   "cell_type": "markdown",
   "id": "89757cba",
   "metadata": {
    "id": "patent-china"
   },
   "source": [
    "#### In this assignment, we will conclude our analysis of whether the stop and frisk policy was racially discriminatory, but from a very different angle than our previous mapping analysis. We will rely heavily on logistic regression and regularized regression, as discussed in class. "
   ]
  },
  {
   "cell_type": "markdown",
   "id": "9c6c370e",
   "metadata": {
    "id": "lPy-JHVGfPsF"
   },
   "source": [
    "# Data processing (5 points)\n",
    "\n",
    "First we need to do some data processing for consistency with previous of analysis of stop_and_frisk data. Load in the data \"sqf_sample\" and filter for stops between 2008 and 2012 (including both 2008 and 2012 in your sample). Filter for stops of white, Black, and Hispanic pedestrians using the suspect_race column. (5 points)\n"
   ]
  },
  {
   "cell_type": "code",
   "execution_count": 1,
   "id": "9e897c8f",
   "metadata": {},
   "outputs": [],
   "source": [
    "import pandas as pd\n",
    "import numpy as np\n",
    "import statsmodels.api as sm\n",
    "import statsmodels.formula.api as smf\n",
    "import patsy"
   ]
  },
  {
   "cell_type": "code",
   "execution_count": 2,
   "id": "04b4c355",
   "metadata": {
    "id": "Kd54AVi-gUOq"
   },
   "outputs": [
    {
     "data": {
      "text/plain": [
       "(408615, 89)"
      ]
     },
     "execution_count": 2,
     "metadata": {},
     "output_type": "execute_result"
    }
   ],
   "source": [
    "df = pd.read_csv(\"sqf_sample.csv\")\n",
    "df.shape"
   ]
  },
  {
   "cell_type": "code",
   "execution_count": 3,
   "id": "bfea0e82",
   "metadata": {},
   "outputs": [
    {
     "data": {
      "text/plain": [
       "(293278, 89)"
      ]
     },
     "execution_count": 3,
     "metadata": {},
     "output_type": "execute_result"
    }
   ],
   "source": [
    "df = df[(df.year >= 2008) & (df.year <= 2012)]\n",
    "df.shape"
   ]
  },
  {
   "cell_type": "code",
   "execution_count": 4,
   "id": "1d307376",
   "metadata": {},
   "outputs": [
    {
     "data": {
      "text/plain": [
       "array(['black', 'hispanic', 'asian', 'white', nan, 'other',\n",
       "       'native american'], dtype=object)"
      ]
     },
     "execution_count": 4,
     "metadata": {},
     "output_type": "execute_result"
    }
   ],
   "source": [
    "df.suspect_race.unique()"
   ]
  },
  {
   "cell_type": "code",
   "execution_count": 5,
   "id": "3ff9858d",
   "metadata": {},
   "outputs": [
    {
     "data": {
      "text/plain": [
       "(273235, 89)"
      ]
     },
     "execution_count": 5,
     "metadata": {},
     "output_type": "execute_result"
    }
   ],
   "source": [
    "keep_races = ['white', 'black', 'hispanic']\n",
    "\n",
    "df = df[df.suspect_race.isin(keep_races)]\n",
    "df.shape"
   ]
  },
  {
   "cell_type": "markdown",
   "id": "e8828130",
   "metadata": {
    "id": "ranging-edition"
   },
   "source": [
    "## Using regression to analyze the frisk decision. (30 points)"
   ]
  },
  {
   "cell_type": "markdown",
   "id": "c2f917a7",
   "metadata": {
    "id": "canadian-signature"
   },
   "source": [
    "We will start by testing for racial discrimination in the decision to conduct a frisk after a stop: ie, whether Black and Hispanic pedestrians are more likely to be frisked (patted down for weapons) after they are stopped, controlling for other factors.\n",
    "\n",
    "a. Using statsmodels, perform a logistic regression, using `frisked` as the dependent variable and `suspect_race` as the independent variable, to assess how the probability of being frisked after a stop varies by race. Write a few sentences interpreting the results, making sure to answer the following questions: which value of suspect_race is omitted from the regression coefficients? Which race groups are most likely to be frisked after being stopped? How do you interpret the magnitude and sign of the coefficients? How do you interpret their statistical significance and confidence intervals? (5 points)"
   ]
  },
  {
   "cell_type": "markdown",
   "id": "a8dfa96c",
   "metadata": {},
   "source": [
    "______\n",
    "\n",
    "First, we will apply dummy encoding to the `suspect_race` columns."
   ]
  },
  {
   "cell_type": "code",
   "execution_count": 6,
   "id": "33a95893",
   "metadata": {
    "id": "qx5cT_p0gWE8"
   },
   "outputs": [
    {
     "name": "stdout",
     "output_type": "stream",
     "text": [
      "Optimization terminated successfully.\n",
      "         Current function value: 0.681731\n",
      "         Iterations 4\n"
     ]
    }
   ],
   "source": [
    "log_reg = smf.logit(formula=\"frisked ~ suspect_race\", data=df).fit()"
   ]
  },
  {
   "cell_type": "code",
   "execution_count": 7,
   "id": "b488d088",
   "metadata": {},
   "outputs": [
    {
     "data": {
      "text/html": [
       "<table class=\"simpletable\">\n",
       "<caption>Logit Regression Results</caption>\n",
       "<tr>\n",
       "  <th>Dep. Variable:</th>        <td>frisked</td>     <th>  No. Observations:  </th>   <td>273235</td>   \n",
       "</tr>\n",
       "<tr>\n",
       "  <th>Model:</th>                 <td>Logit</td>      <th>  Df Residuals:      </th>   <td>273232</td>   \n",
       "</tr>\n",
       "<tr>\n",
       "  <th>Method:</th>                 <td>MLE</td>       <th>  Df Model:          </th>   <td>     2</td>   \n",
       "</tr>\n",
       "<tr>\n",
       "  <th>Date:</th>            <td>Tue, 09 Nov 2021</td> <th>  Pseudo R-squ.:     </th>  <td>0.005119</td>  \n",
       "</tr>\n",
       "<tr>\n",
       "  <th>Time:</th>                <td>18:41:40</td>     <th>  Log-Likelihood:    </th> <td>-1.8627e+05</td>\n",
       "</tr>\n",
       "<tr>\n",
       "  <th>converged:</th>             <td>True</td>       <th>  LL-Null:           </th> <td>-1.8723e+05</td>\n",
       "</tr>\n",
       "<tr>\n",
       "  <th>Covariance Type:</th>     <td>nonrobust</td>    <th>  LLR p-value:       </th>   <td> 0.000</td>   \n",
       "</tr>\n",
       "</table>\n",
       "<table class=\"simpletable\">\n",
       "<tr>\n",
       "              <td></td>                <th>coef</th>     <th>std err</th>      <th>z</th>      <th>P>|z|</th>  <th>[0.025</th>    <th>0.975]</th>  \n",
       "</tr>\n",
       "<tr>\n",
       "  <th>Intercept</th>                <td>    0.3005</td> <td>    0.005</td> <td>   58.114</td> <td> 0.000</td> <td>    0.290</td> <td>    0.311</td>\n",
       "</tr>\n",
       "<tr>\n",
       "  <th>suspect_race[T.hispanic]</th> <td>    0.0248</td> <td>    0.008</td> <td>    2.942</td> <td> 0.003</td> <td>    0.008</td> <td>    0.041</td>\n",
       "</tr>\n",
       "<tr>\n",
       "  <th>suspect_race[T.white]</th>    <td>   -0.5447</td> <td>    0.013</td> <td>  -41.487</td> <td> 0.000</td> <td>   -0.570</td> <td>   -0.519</td>\n",
       "</tr>\n",
       "</table>"
      ],
      "text/plain": [
       "<class 'statsmodels.iolib.summary.Summary'>\n",
       "\"\"\"\n",
       "                           Logit Regression Results                           \n",
       "==============================================================================\n",
       "Dep. Variable:                frisked   No. Observations:               273235\n",
       "Model:                          Logit   Df Residuals:                   273232\n",
       "Method:                           MLE   Df Model:                            2\n",
       "Date:                Tue, 09 Nov 2021   Pseudo R-squ.:                0.005119\n",
       "Time:                        18:41:40   Log-Likelihood:            -1.8627e+05\n",
       "converged:                       True   LL-Null:                   -1.8723e+05\n",
       "Covariance Type:            nonrobust   LLR p-value:                     0.000\n",
       "============================================================================================\n",
       "                               coef    std err          z      P>|z|      [0.025      0.975]\n",
       "--------------------------------------------------------------------------------------------\n",
       "Intercept                    0.3005      0.005     58.114      0.000       0.290       0.311\n",
       "suspect_race[T.hispanic]     0.0248      0.008      2.942      0.003       0.008       0.041\n",
       "suspect_race[T.white]       -0.5447      0.013    -41.487      0.000      -0.570      -0.519\n",
       "============================================================================================\n",
       "\"\"\""
      ]
     },
     "execution_count": 7,
     "metadata": {},
     "output_type": "execute_result"
    }
   ],
   "source": [
    "log_reg.summary()"
   ]
  },
  {
   "cell_type": "markdown",
   "id": "943cf2e4",
   "metadata": {},
   "source": [
    "Black is omitted from the coefficients due to being categorically encoded as `[T.hispanic=0, T.white=0]`, and the intercept of the function can be used for interpreting the likelihood of blacks being stopped and frisked. The intercept is positive, and the hispanic coefficient is just above 0. This means that that these races have a similar, higher likelihood of being frisked after a stop. The coefficient for `white` on the other hand is negative; this goes to show that being white leads to a lower chance of a frisk taking place. A note on interpretation of the magnitude of these values: we can say that a value of e.g. 0.3 (for black) indicates that a a black suspect will have 0.3 _log odds ratio of being frisked_. I.e. this would be a exp(0.3) = 1.35 --> 35% probability of a frisk taking place. \n",
    "\n",
    "The p-values range between 0 and 0.003, which means that the results are highly significant for all suspect races (less than 0.05), and\n",
    "the coefficients are all within the 95% confidence interval, which means that we can have high confidence in the model parameters."
   ]
  },
  {
   "cell_type": "markdown",
   "id": "a8773aa6",
   "metadata": {
    "id": "earned-mainstream"
   },
   "source": [
    "b. Now perform a linear regression instead of a logistic regression using the same formula. How is the interpretation of the coefficients similar or different in the two regressions? What are the advantages of each? (5 points)"
   ]
  },
  {
   "cell_type": "code",
   "execution_count": 8,
   "id": "f0db769c",
   "metadata": {},
   "outputs": [
    {
     "data": {
      "text/html": [
       "<table class=\"simpletable\">\n",
       "<caption>OLS Regression Results</caption>\n",
       "<tr>\n",
       "  <th>Dep. Variable:</th>         <td>frisked</td>     <th>  R-squared:         </th>  <td>   0.007</td>  \n",
       "</tr>\n",
       "<tr>\n",
       "  <th>Model:</th>                   <td>OLS</td>       <th>  Adj. R-squared:    </th>  <td>   0.007</td>  \n",
       "</tr>\n",
       "<tr>\n",
       "  <th>Method:</th>             <td>Least Squares</td>  <th>  F-statistic:       </th>  <td>   974.1</td>  \n",
       "</tr>\n",
       "<tr>\n",
       "  <th>Date:</th>             <td>Tue, 09 Nov 2021</td> <th>  Prob (F-statistic):</th>   <td>  0.00</td>   \n",
       "</tr>\n",
       "<tr>\n",
       "  <th>Time:</th>                 <td>18:41:41</td>     <th>  Log-Likelihood:    </th> <td>-1.9517e+05</td>\n",
       "</tr>\n",
       "<tr>\n",
       "  <th>No. Observations:</th>      <td>273235</td>      <th>  AIC:               </th>  <td>3.903e+05</td> \n",
       "</tr>\n",
       "<tr>\n",
       "  <th>Df Residuals:</th>          <td>273232</td>      <th>  BIC:               </th>  <td>3.904e+05</td> \n",
       "</tr>\n",
       "<tr>\n",
       "  <th>Df Model:</th>              <td>     2</td>      <th>                     </th>      <td> </td>     \n",
       "</tr>\n",
       "<tr>\n",
       "  <th>Covariance Type:</th>      <td>nonrobust</td>    <th>                     </th>      <td> </td>     \n",
       "</tr>\n",
       "</table>\n",
       "<table class=\"simpletable\">\n",
       "<tr>\n",
       "               <td></td>                  <th>coef</th>     <th>std err</th>      <th>t</th>      <th>P>|t|</th>  <th>[0.025</th>    <th>0.975]</th>  \n",
       "</tr>\n",
       "<tr>\n",
       "  <th>Intercept</th>                   <td>    0.5746</td> <td>    0.001</td> <td>  454.716</td> <td> 0.000</td> <td>    0.572</td> <td>    0.577</td>\n",
       "</tr>\n",
       "<tr>\n",
       "  <th>C(suspect_race)[T.hispanic]</th> <td>    0.0061</td> <td>    0.002</td> <td>    2.941</td> <td> 0.003</td> <td>    0.002</td> <td>    0.010</td>\n",
       "</tr>\n",
       "<tr>\n",
       "  <th>C(suspect_race)[T.white]</th>    <td>   -0.1353</td> <td>    0.003</td> <td>  -42.037</td> <td> 0.000</td> <td>   -0.142</td> <td>   -0.129</td>\n",
       "</tr>\n",
       "</table>\n",
       "<table class=\"simpletable\">\n",
       "<tr>\n",
       "  <th>Omnibus:</th>       <td>987617.498</td> <th>  Durbin-Watson:     </th> <td>   2.000</td> \n",
       "</tr>\n",
       "<tr>\n",
       "  <th>Prob(Omnibus):</th>   <td> 0.000</td>   <th>  Jarque-Bera (JB):  </th> <td>44329.166</td>\n",
       "</tr>\n",
       "<tr>\n",
       "  <th>Skew:</th>            <td>-0.254</td>   <th>  Prob(JB):          </th> <td>    0.00</td> \n",
       "</tr>\n",
       "<tr>\n",
       "  <th>Kurtosis:</th>        <td> 1.093</td>   <th>  Cond. No.          </th> <td>    3.79</td> \n",
       "</tr>\n",
       "</table><br/><br/>Notes:<br/>[1] Standard Errors assume that the covariance matrix of the errors is correctly specified."
      ],
      "text/plain": [
       "<class 'statsmodels.iolib.summary.Summary'>\n",
       "\"\"\"\n",
       "                            OLS Regression Results                            \n",
       "==============================================================================\n",
       "Dep. Variable:                frisked   R-squared:                       0.007\n",
       "Model:                            OLS   Adj. R-squared:                  0.007\n",
       "Method:                 Least Squares   F-statistic:                     974.1\n",
       "Date:                Tue, 09 Nov 2021   Prob (F-statistic):               0.00\n",
       "Time:                        18:41:41   Log-Likelihood:            -1.9517e+05\n",
       "No. Observations:              273235   AIC:                         3.903e+05\n",
       "Df Residuals:                  273232   BIC:                         3.904e+05\n",
       "Df Model:                           2                                         \n",
       "Covariance Type:            nonrobust                                         \n",
       "===============================================================================================\n",
       "                                  coef    std err          t      P>|t|      [0.025      0.975]\n",
       "-----------------------------------------------------------------------------------------------\n",
       "Intercept                       0.5746      0.001    454.716      0.000       0.572       0.577\n",
       "C(suspect_race)[T.hispanic]     0.0061      0.002      2.941      0.003       0.002       0.010\n",
       "C(suspect_race)[T.white]       -0.1353      0.003    -42.037      0.000      -0.142      -0.129\n",
       "==============================================================================\n",
       "Omnibus:                   987617.498   Durbin-Watson:                   2.000\n",
       "Prob(Omnibus):                  0.000   Jarque-Bera (JB):            44329.166\n",
       "Skew:                          -0.254   Prob(JB):                         0.00\n",
       "Kurtosis:                       1.093   Cond. No.                         3.79\n",
       "==============================================================================\n",
       "\n",
       "Notes:\n",
       "[1] Standard Errors assume that the covariance matrix of the errors is correctly specified.\n",
       "\"\"\""
      ]
     },
     "execution_count": 8,
     "metadata": {},
     "output_type": "execute_result"
    }
   ],
   "source": [
    "lr = smf.ols(formula = \"frisked ~ C(suspect_race)\", data=df)\n",
    "result = lr.fit()\n",
    "result.summary()"
   ]
  },
  {
   "cell_type": "markdown",
   "id": "46db7689",
   "metadata": {
    "id": "rgk3tioqWpJg"
   },
   "source": [
    "Using linear regression, the interpretation of the coefficients is significantly different when compared to logistic regression. The coefficients now indicate whether there is a correlation between the suspect race and a stop and frisk. Once again, the intercept can be interpreted as a suspect's race being black. We notice that the output is high (~0.57) for hispanic and black suspects, indicating a strong correlation. A notable difference, is that there is also a correlation between `suspect_race_white` and a stop and frisk taking place. The key difference is that _all_ races are associated with some rate of frisks taking place. The rate at which people with race `white` are frisked, however, is lower than the case for `black` or `hispanic`. The intercept and coefficients for the three races, in this case, simply represent the mean rate at which frisks take place for each race. \n",
    "\n",
    "The logistic regression model is more usesful in use-cases where we are interested in predicting the log likelihood of a stop and frisk given a set of features, whereas the linear regression model can be used to determine relative rates of stop and frisks. The coefficients of the linear regression are arguably more interpretable since we do not need to interpret them in terms of logarithmic odds."
   ]
  },
  {
   "cell_type": "markdown",
   "id": "402257f2",
   "metadata": {
    "id": "constitutional-place"
   },
   "source": [
    "c. The regression using only race as an independent variable is a good starting point, but it does not control for any other variables. What other variables do you think are important to control for, and why?  (3 points)"
   ]
  },
  {
   "cell_type": "markdown",
   "id": "5e099fb3",
   "metadata": {
    "id": "pS3NmINSWsDL"
   },
   "source": [
    "It would be a good idea to control for variables that give insight into the police officer's decision and context when deciding to stop and frisk:\n",
    "- Location because the demographics or crime rate in a neighborhood might influence police officers' rate of stop and frisks\n",
    "- The suspect's gender and age because it might influence the police officer's propensity to do a stop and frisk if they intend to target certain demographics\n",
    "- Reason for stopping a suspect because certain reasons may indicate a higher probability of possession of weapons\n",
    "- Time of day because different types of people may be on the street at different times of day"
   ]
  },
  {
   "cell_type": "markdown",
   "id": "a57e1820",
   "metadata": {
    "id": "assumed-employment"
   },
   "source": [
    "d. Run a logistic regression where you control for both race and for the \"precinct\" variable, which encodes the police precinct in which the stop occurred. Make sure to control for precinct as a categorical, not a numerical, variable, by writing it as C(precinct) in the regression formula - why is this important to do?\n",
    "\n",
    "How do the race coefficients change, and what does that mean? How does the interpretation of this regression differ from the regression in which you only control for race? Make one argument in favor of reporting results controlling for location, and one argument against it. (5 points)"
   ]
  },
  {
   "cell_type": "code",
   "execution_count": 9,
   "id": "d64927b0",
   "metadata": {
    "id": "dI-I4F9jgYqr"
   },
   "outputs": [
    {
     "name": "stdout",
     "output_type": "stream",
     "text": [
      "Optimization terminated successfully.\n",
      "         Current function value: 0.661055\n",
      "         Iterations 5\n"
     ]
    },
    {
     "data": {
      "text/html": [
       "<table class=\"simpletable\">\n",
       "<caption>Logit Regression Results</caption>\n",
       "<tr>\n",
       "  <th>Dep. Variable:</th>        <td>frisked</td>     <th>  No. Observations:  </th>   <td>273235</td>   \n",
       "</tr>\n",
       "<tr>\n",
       "  <th>Model:</th>                 <td>Logit</td>      <th>  Df Residuals:      </th>   <td>273157</td>   \n",
       "</tr>\n",
       "<tr>\n",
       "  <th>Method:</th>                 <td>MLE</td>       <th>  Df Model:          </th>   <td>    77</td>   \n",
       "</tr>\n",
       "<tr>\n",
       "  <th>Date:</th>            <td>Tue, 09 Nov 2021</td> <th>  Pseudo R-squ.:     </th>   <td>0.03529</td>  \n",
       "</tr>\n",
       "<tr>\n",
       "  <th>Time:</th>                <td>18:41:46</td>     <th>  Log-Likelihood:    </th> <td>-1.8062e+05</td>\n",
       "</tr>\n",
       "<tr>\n",
       "  <th>converged:</th>             <td>True</td>       <th>  LL-Null:           </th> <td>-1.8723e+05</td>\n",
       "</tr>\n",
       "<tr>\n",
       "  <th>Covariance Type:</th>     <td>nonrobust</td>    <th>  LLR p-value:       </th>   <td> 0.000</td>   \n",
       "</tr>\n",
       "</table>\n",
       "<table class=\"simpletable\">\n",
       "<tr>\n",
       "              <td></td>                <th>coef</th>     <th>std err</th>      <th>z</th>      <th>P>|z|</th>  <th>[0.025</th>    <th>0.975]</th>  \n",
       "</tr>\n",
       "<tr>\n",
       "  <th>Intercept</th>                <td>   -0.0707</td> <td>    0.055</td> <td>   -1.285</td> <td> 0.199</td> <td>   -0.179</td> <td>    0.037</td>\n",
       "</tr>\n",
       "<tr>\n",
       "  <th>suspect_race[T.hispanic]</th> <td>   -0.1421</td> <td>    0.010</td> <td>  -14.301</td> <td> 0.000</td> <td>   -0.162</td> <td>   -0.123</td>\n",
       "</tr>\n",
       "<tr>\n",
       "  <th>suspect_race[T.white]</th>    <td>   -0.4376</td> <td>    0.015</td> <td>  -28.354</td> <td> 0.000</td> <td>   -0.468</td> <td>   -0.407</td>\n",
       "</tr>\n",
       "<tr>\n",
       "  <th>C(precinct)[T.5.0]</th>       <td>    0.1671</td> <td>    0.080</td> <td>    2.098</td> <td> 0.036</td> <td>    0.011</td> <td>    0.323</td>\n",
       "</tr>\n",
       "<tr>\n",
       "  <th>C(precinct)[T.6.0]</th>       <td>    0.0652</td> <td>    0.075</td> <td>    0.868</td> <td> 0.386</td> <td>   -0.082</td> <td>    0.213</td>\n",
       "</tr>\n",
       "<tr>\n",
       "  <th>C(precinct)[T.7.0]</th>       <td>    0.6852</td> <td>    0.074</td> <td>    9.252</td> <td> 0.000</td> <td>    0.540</td> <td>    0.830</td>\n",
       "</tr>\n",
       "<tr>\n",
       "  <th>C(precinct)[T.9.0]</th>       <td>    0.1880</td> <td>    0.069</td> <td>    2.744</td> <td> 0.006</td> <td>    0.054</td> <td>    0.322</td>\n",
       "</tr>\n",
       "<tr>\n",
       "  <th>C(precinct)[T.10.0]</th>      <td>    0.1072</td> <td>    0.076</td> <td>    1.406</td> <td> 0.160</td> <td>   -0.042</td> <td>    0.257</td>\n",
       "</tr>\n",
       "<tr>\n",
       "  <th>C(precinct)[T.13.0]</th>      <td>   -0.2656</td> <td>    0.071</td> <td>   -3.749</td> <td> 0.000</td> <td>   -0.404</td> <td>   -0.127</td>\n",
       "</tr>\n",
       "<tr>\n",
       "  <th>C(precinct)[T.14.0]</th>      <td>   -0.3892</td> <td>    0.063</td> <td>   -6.224</td> <td> 0.000</td> <td>   -0.512</td> <td>   -0.267</td>\n",
       "</tr>\n",
       "<tr>\n",
       "  <th>C(precinct)[T.17.0]</th>      <td>   -0.4877</td> <td>    0.094</td> <td>   -5.186</td> <td> 0.000</td> <td>   -0.672</td> <td>   -0.303</td>\n",
       "</tr>\n",
       "<tr>\n",
       "  <th>C(precinct)[T.18.0]</th>      <td>   -0.5383</td> <td>    0.078</td> <td>   -6.904</td> <td> 0.000</td> <td>   -0.691</td> <td>   -0.385</td>\n",
       "</tr>\n",
       "<tr>\n",
       "  <th>C(precinct)[T.19.0]</th>      <td>   -0.2010</td> <td>    0.071</td> <td>   -2.828</td> <td> 0.005</td> <td>   -0.340</td> <td>   -0.062</td>\n",
       "</tr>\n",
       "<tr>\n",
       "  <th>C(precinct)[T.20.0]</th>      <td>   -0.5269</td> <td>    0.075</td> <td>   -7.020</td> <td> 0.000</td> <td>   -0.674</td> <td>   -0.380</td>\n",
       "</tr>\n",
       "<tr>\n",
       "  <th>C(precinct)[T.22.0]</th>      <td>   -0.5952</td> <td>    0.121</td> <td>   -4.915</td> <td> 0.000</td> <td>   -0.833</td> <td>   -0.358</td>\n",
       "</tr>\n",
       "<tr>\n",
       "  <th>C(precinct)[T.23.0]</th>      <td>    0.2312</td> <td>    0.060</td> <td>    3.865</td> <td> 0.000</td> <td>    0.114</td> <td>    0.348</td>\n",
       "</tr>\n",
       "<tr>\n",
       "  <th>C(precinct)[T.24.0]</th>      <td>   -0.1346</td> <td>    0.072</td> <td>   -1.881</td> <td> 0.060</td> <td>   -0.275</td> <td>    0.006</td>\n",
       "</tr>\n",
       "<tr>\n",
       "  <th>C(precinct)[T.25.0]</th>      <td>    0.3702</td> <td>    0.063</td> <td>    5.857</td> <td> 0.000</td> <td>    0.246</td> <td>    0.494</td>\n",
       "</tr>\n",
       "<tr>\n",
       "  <th>C(precinct)[T.26.0]</th>      <td>    0.4796</td> <td>    0.070</td> <td>    6.837</td> <td> 0.000</td> <td>    0.342</td> <td>    0.617</td>\n",
       "</tr>\n",
       "<tr>\n",
       "  <th>C(precinct)[T.28.0]</th>      <td>    0.1113</td> <td>    0.064</td> <td>    1.732</td> <td> 0.083</td> <td>   -0.015</td> <td>    0.237</td>\n",
       "</tr>\n",
       "<tr>\n",
       "  <th>C(precinct)[T.30.0]</th>      <td>    0.3258</td> <td>    0.067</td> <td>    4.854</td> <td> 0.000</td> <td>    0.194</td> <td>    0.457</td>\n",
       "</tr>\n",
       "<tr>\n",
       "  <th>C(precinct)[T.32.0]</th>      <td>    1.0741</td> <td>    0.063</td> <td>   17.185</td> <td> 0.000</td> <td>    0.952</td> <td>    1.197</td>\n",
       "</tr>\n",
       "<tr>\n",
       "  <th>C(precinct)[T.33.0]</th>      <td>    0.5380</td> <td>    0.068</td> <td>    7.862</td> <td> 0.000</td> <td>    0.404</td> <td>    0.672</td>\n",
       "</tr>\n",
       "<tr>\n",
       "  <th>C(precinct)[T.34.0]</th>      <td>    0.4267</td> <td>    0.064</td> <td>    6.670</td> <td> 0.000</td> <td>    0.301</td> <td>    0.552</td>\n",
       "</tr>\n",
       "<tr>\n",
       "  <th>C(precinct)[T.40.0]</th>      <td>    0.6442</td> <td>    0.060</td> <td>   10.768</td> <td> 0.000</td> <td>    0.527</td> <td>    0.761</td>\n",
       "</tr>\n",
       "<tr>\n",
       "  <th>C(precinct)[T.41.0]</th>      <td>    0.6045</td> <td>    0.064</td> <td>    9.444</td> <td> 0.000</td> <td>    0.479</td> <td>    0.730</td>\n",
       "</tr>\n",
       "<tr>\n",
       "  <th>C(precinct)[T.42.0]</th>      <td>    0.9483</td> <td>    0.063</td> <td>   14.974</td> <td> 0.000</td> <td>    0.824</td> <td>    1.072</td>\n",
       "</tr>\n",
       "<tr>\n",
       "  <th>C(precinct)[T.43.0]</th>      <td>    0.4439</td> <td>    0.061</td> <td>    7.259</td> <td> 0.000</td> <td>    0.324</td> <td>    0.564</td>\n",
       "</tr>\n",
       "<tr>\n",
       "  <th>C(precinct)[T.44.0]</th>      <td>    1.4285</td> <td>    0.063</td> <td>   22.696</td> <td> 0.000</td> <td>    1.305</td> <td>    1.552</td>\n",
       "</tr>\n",
       "<tr>\n",
       "  <th>C(precinct)[T.45.0]</th>      <td>    0.0294</td> <td>    0.071</td> <td>    0.414</td> <td> 0.679</td> <td>   -0.110</td> <td>    0.168</td>\n",
       "</tr>\n",
       "<tr>\n",
       "  <th>C(precinct)[T.46.0]</th>      <td>    1.3561</td> <td>    0.065</td> <td>   20.821</td> <td> 0.000</td> <td>    1.228</td> <td>    1.484</td>\n",
       "</tr>\n",
       "<tr>\n",
       "  <th>C(precinct)[T.47.0]</th>      <td>    0.5585</td> <td>    0.064</td> <td>    8.777</td> <td> 0.000</td> <td>    0.434</td> <td>    0.683</td>\n",
       "</tr>\n",
       "<tr>\n",
       "  <th>C(precinct)[T.48.0]</th>      <td>    0.9923</td> <td>    0.074</td> <td>   13.451</td> <td> 0.000</td> <td>    0.848</td> <td>    1.137</td>\n",
       "</tr>\n",
       "<tr>\n",
       "  <th>C(precinct)[T.49.0]</th>      <td>    0.6908</td> <td>    0.066</td> <td>   10.479</td> <td> 0.000</td> <td>    0.562</td> <td>    0.820</td>\n",
       "</tr>\n",
       "<tr>\n",
       "  <th>C(precinct)[T.50.0]</th>      <td>    0.4965</td> <td>    0.082</td> <td>    6.064</td> <td> 0.000</td> <td>    0.336</td> <td>    0.657</td>\n",
       "</tr>\n",
       "<tr>\n",
       "  <th>C(precinct)[T.52.0]</th>      <td>    1.0390</td> <td>    0.064</td> <td>   16.277</td> <td> 0.000</td> <td>    0.914</td> <td>    1.164</td>\n",
       "</tr>\n",
       "<tr>\n",
       "  <th>C(precinct)[T.60.0]</th>      <td>    0.5296</td> <td>    0.063</td> <td>    8.352</td> <td> 0.000</td> <td>    0.405</td> <td>    0.654</td>\n",
       "</tr>\n",
       "<tr>\n",
       "  <th>C(precinct)[T.61.0]</th>      <td>    0.2819</td> <td>    0.067</td> <td>    4.229</td> <td> 0.000</td> <td>    0.151</td> <td>    0.413</td>\n",
       "</tr>\n",
       "<tr>\n",
       "  <th>C(precinct)[T.62.0]</th>      <td>    0.0228</td> <td>    0.070</td> <td>    0.325</td> <td> 0.745</td> <td>   -0.114</td> <td>    0.160</td>\n",
       "</tr>\n",
       "<tr>\n",
       "  <th>C(precinct)[T.63.0]</th>      <td>    0.6564</td> <td>    0.076</td> <td>    8.590</td> <td> 0.000</td> <td>    0.507</td> <td>    0.806</td>\n",
       "</tr>\n",
       "<tr>\n",
       "  <th>C(precinct)[T.66.0]</th>      <td>    0.2061</td> <td>    0.075</td> <td>    2.737</td> <td> 0.006</td> <td>    0.059</td> <td>    0.354</td>\n",
       "</tr>\n",
       "<tr>\n",
       "  <th>C(precinct)[T.67.0]</th>      <td>    0.3268</td> <td>    0.062</td> <td>    5.303</td> <td> 0.000</td> <td>    0.206</td> <td>    0.448</td>\n",
       "</tr>\n",
       "<tr>\n",
       "  <th>C(precinct)[T.68.0]</th>      <td>    0.1223</td> <td>    0.079</td> <td>    1.553</td> <td> 0.120</td> <td>   -0.032</td> <td>    0.277</td>\n",
       "</tr>\n",
       "<tr>\n",
       "  <th>C(precinct)[T.69.0]</th>      <td>    0.2671</td> <td>    0.066</td> <td>    4.029</td> <td> 0.000</td> <td>    0.137</td> <td>    0.397</td>\n",
       "</tr>\n",
       "<tr>\n",
       "  <th>C(precinct)[T.70.0]</th>      <td>    0.4339</td> <td>    0.062</td> <td>    7.027</td> <td> 0.000</td> <td>    0.313</td> <td>    0.555</td>\n",
       "</tr>\n",
       "<tr>\n",
       "  <th>C(precinct)[T.71.0]</th>      <td>    0.1306</td> <td>    0.066</td> <td>    1.976</td> <td> 0.048</td> <td>    0.001</td> <td>    0.260</td>\n",
       "</tr>\n",
       "<tr>\n",
       "  <th>C(precinct)[T.72.0]</th>      <td>    0.6569</td> <td>    0.070</td> <td>    9.378</td> <td> 0.000</td> <td>    0.520</td> <td>    0.794</td>\n",
       "</tr>\n",
       "<tr>\n",
       "  <th>C(precinct)[T.73.0]</th>      <td>    0.1224</td> <td>    0.058</td> <td>    2.105</td> <td> 0.035</td> <td>    0.008</td> <td>    0.236</td>\n",
       "</tr>\n",
       "<tr>\n",
       "  <th>C(precinct)[T.75.0]</th>      <td>    0.3256</td> <td>    0.058</td> <td>    5.652</td> <td> 0.000</td> <td>    0.213</td> <td>    0.439</td>\n",
       "</tr>\n",
       "<tr>\n",
       "  <th>C(precinct)[T.76.0]</th>      <td>   -0.2271</td> <td>    0.069</td> <td>   -3.281</td> <td> 0.001</td> <td>   -0.363</td> <td>   -0.091</td>\n",
       "</tr>\n",
       "<tr>\n",
       "  <th>C(precinct)[T.77.0]</th>      <td>    0.2982</td> <td>    0.062</td> <td>    4.806</td> <td> 0.000</td> <td>    0.177</td> <td>    0.420</td>\n",
       "</tr>\n",
       "<tr>\n",
       "  <th>C(precinct)[T.78.0]</th>      <td>   -0.1780</td> <td>    0.079</td> <td>   -2.255</td> <td> 0.024</td> <td>   -0.333</td> <td>   -0.023</td>\n",
       "</tr>\n",
       "<tr>\n",
       "  <th>C(precinct)[T.79.0]</th>      <td>    0.0754</td> <td>    0.059</td> <td>    1.272</td> <td> 0.203</td> <td>   -0.041</td> <td>    0.192</td>\n",
       "</tr>\n",
       "<tr>\n",
       "  <th>C(precinct)[T.81.0]</th>      <td>    0.6283</td> <td>    0.062</td> <td>   10.117</td> <td> 0.000</td> <td>    0.507</td> <td>    0.750</td>\n",
       "</tr>\n",
       "<tr>\n",
       "  <th>C(precinct)[T.83.0]</th>      <td>    0.5710</td> <td>    0.062</td> <td>    9.225</td> <td> 0.000</td> <td>    0.450</td> <td>    0.692</td>\n",
       "</tr>\n",
       "<tr>\n",
       "  <th>C(precinct)[T.84.0]</th>      <td>   -0.2769</td> <td>    0.072</td> <td>   -3.839</td> <td> 0.000</td> <td>   -0.418</td> <td>   -0.136</td>\n",
       "</tr>\n",
       "<tr>\n",
       "  <th>C(precinct)[T.88.0]</th>      <td>    0.1038</td> <td>    0.065</td> <td>    1.588</td> <td> 0.112</td> <td>   -0.024</td> <td>    0.232</td>\n",
       "</tr>\n",
       "<tr>\n",
       "  <th>C(precinct)[T.90.0]</th>      <td>   -0.0557</td> <td>    0.061</td> <td>   -0.912</td> <td> 0.362</td> <td>   -0.175</td> <td>    0.064</td>\n",
       "</tr>\n",
       "<tr>\n",
       "  <th>C(precinct)[T.94.0]</th>      <td>    0.4983</td> <td>    0.086</td> <td>    5.807</td> <td> 0.000</td> <td>    0.330</td> <td>    0.667</td>\n",
       "</tr>\n",
       "<tr>\n",
       "  <th>C(precinct)[T.100.0]</th>     <td>    0.3331</td> <td>    0.072</td> <td>    4.627</td> <td> 0.000</td> <td>    0.192</td> <td>    0.474</td>\n",
       "</tr>\n",
       "<tr>\n",
       "  <th>C(precinct)[T.101.0]</th>     <td>    1.0214</td> <td>    0.064</td> <td>   16.001</td> <td> 0.000</td> <td>    0.896</td> <td>    1.147</td>\n",
       "</tr>\n",
       "<tr>\n",
       "  <th>C(precinct)[T.102.0]</th>     <td>    0.5294</td> <td>    0.067</td> <td>    7.938</td> <td> 0.000</td> <td>    0.399</td> <td>    0.660</td>\n",
       "</tr>\n",
       "<tr>\n",
       "  <th>C(precinct)[T.103.0]</th>     <td>    0.1516</td> <td>    0.060</td> <td>    2.509</td> <td> 0.012</td> <td>    0.033</td> <td>    0.270</td>\n",
       "</tr>\n",
       "<tr>\n",
       "  <th>C(precinct)[T.104.0]</th>     <td>    1.0526</td> <td>    0.067</td> <td>   15.730</td> <td> 0.000</td> <td>    0.921</td> <td>    1.184</td>\n",
       "</tr>\n",
       "<tr>\n",
       "  <th>C(precinct)[T.105.0]</th>     <td>    0.3899</td> <td>    0.064</td> <td>    6.082</td> <td> 0.000</td> <td>    0.264</td> <td>    0.516</td>\n",
       "</tr>\n",
       "<tr>\n",
       "  <th>C(precinct)[T.106.0]</th>     <td>    0.3096</td> <td>    0.069</td> <td>    4.469</td> <td> 0.000</td> <td>    0.174</td> <td>    0.445</td>\n",
       "</tr>\n",
       "<tr>\n",
       "  <th>C(precinct)[T.107.0]</th>     <td>    0.2142</td> <td>    0.069</td> <td>    3.122</td> <td> 0.002</td> <td>    0.080</td> <td>    0.349</td>\n",
       "</tr>\n",
       "<tr>\n",
       "  <th>C(precinct)[T.108.0]</th>     <td>    0.4017</td> <td>    0.068</td> <td>    5.896</td> <td> 0.000</td> <td>    0.268</td> <td>    0.535</td>\n",
       "</tr>\n",
       "<tr>\n",
       "  <th>C(precinct)[T.109.0]</th>     <td>    0.8620</td> <td>    0.064</td> <td>   13.411</td> <td> 0.000</td> <td>    0.736</td> <td>    0.988</td>\n",
       "</tr>\n",
       "<tr>\n",
       "  <th>C(precinct)[T.110.0]</th>     <td>    1.3247</td> <td>    0.064</td> <td>   20.648</td> <td> 0.000</td> <td>    1.199</td> <td>    1.450</td>\n",
       "</tr>\n",
       "<tr>\n",
       "  <th>C(precinct)[T.111.0]</th>     <td>    0.5851</td> <td>    0.074</td> <td>    7.938</td> <td> 0.000</td> <td>    0.441</td> <td>    0.730</td>\n",
       "</tr>\n",
       "<tr>\n",
       "  <th>C(precinct)[T.112.0]</th>     <td>    0.7211</td> <td>    0.078</td> <td>    9.195</td> <td> 0.000</td> <td>    0.567</td> <td>    0.875</td>\n",
       "</tr>\n",
       "<tr>\n",
       "  <th>C(precinct)[T.113.0]</th>     <td>    0.4585</td> <td>    0.062</td> <td>    7.338</td> <td> 0.000</td> <td>    0.336</td> <td>    0.581</td>\n",
       "</tr>\n",
       "<tr>\n",
       "  <th>C(precinct)[T.114.0]</th>     <td>    0.5355</td> <td>    0.062</td> <td>    8.569</td> <td> 0.000</td> <td>    0.413</td> <td>    0.658</td>\n",
       "</tr>\n",
       "<tr>\n",
       "  <th>C(precinct)[T.115.0]</th>     <td>    1.3572</td> <td>    0.063</td> <td>   21.555</td> <td> 0.000</td> <td>    1.234</td> <td>    1.481</td>\n",
       "</tr>\n",
       "<tr>\n",
       "  <th>C(precinct)[T.120.0]</th>     <td>    0.0141</td> <td>    0.059</td> <td>    0.238</td> <td> 0.812</td> <td>   -0.102</td> <td>    0.130</td>\n",
       "</tr>\n",
       "<tr>\n",
       "  <th>C(precinct)[T.122.0]</th>     <td>    0.1921</td> <td>    0.065</td> <td>    2.973</td> <td> 0.003</td> <td>    0.065</td> <td>    0.319</td>\n",
       "</tr>\n",
       "<tr>\n",
       "  <th>C(precinct)[T.123.0]</th>     <td>   -0.1843</td> <td>    0.083</td> <td>   -2.232</td> <td> 0.026</td> <td>   -0.346</td> <td>   -0.022</td>\n",
       "</tr>\n",
       "</table>"
      ],
      "text/plain": [
       "<class 'statsmodels.iolib.summary.Summary'>\n",
       "\"\"\"\n",
       "                           Logit Regression Results                           \n",
       "==============================================================================\n",
       "Dep. Variable:                frisked   No. Observations:               273235\n",
       "Model:                          Logit   Df Residuals:                   273157\n",
       "Method:                           MLE   Df Model:                           77\n",
       "Date:                Tue, 09 Nov 2021   Pseudo R-squ.:                 0.03529\n",
       "Time:                        18:41:46   Log-Likelihood:            -1.8062e+05\n",
       "converged:                       True   LL-Null:                   -1.8723e+05\n",
       "Covariance Type:            nonrobust   LLR p-value:                     0.000\n",
       "============================================================================================\n",
       "                               coef    std err          z      P>|z|      [0.025      0.975]\n",
       "--------------------------------------------------------------------------------------------\n",
       "Intercept                   -0.0707      0.055     -1.285      0.199      -0.179       0.037\n",
       "suspect_race[T.hispanic]    -0.1421      0.010    -14.301      0.000      -0.162      -0.123\n",
       "suspect_race[T.white]       -0.4376      0.015    -28.354      0.000      -0.468      -0.407\n",
       "C(precinct)[T.5.0]           0.1671      0.080      2.098      0.036       0.011       0.323\n",
       "C(precinct)[T.6.0]           0.0652      0.075      0.868      0.386      -0.082       0.213\n",
       "C(precinct)[T.7.0]           0.6852      0.074      9.252      0.000       0.540       0.830\n",
       "C(precinct)[T.9.0]           0.1880      0.069      2.744      0.006       0.054       0.322\n",
       "C(precinct)[T.10.0]          0.1072      0.076      1.406      0.160      -0.042       0.257\n",
       "C(precinct)[T.13.0]         -0.2656      0.071     -3.749      0.000      -0.404      -0.127\n",
       "C(precinct)[T.14.0]         -0.3892      0.063     -6.224      0.000      -0.512      -0.267\n",
       "C(precinct)[T.17.0]         -0.4877      0.094     -5.186      0.000      -0.672      -0.303\n",
       "C(precinct)[T.18.0]         -0.5383      0.078     -6.904      0.000      -0.691      -0.385\n",
       "C(precinct)[T.19.0]         -0.2010      0.071     -2.828      0.005      -0.340      -0.062\n",
       "C(precinct)[T.20.0]         -0.5269      0.075     -7.020      0.000      -0.674      -0.380\n",
       "C(precinct)[T.22.0]         -0.5952      0.121     -4.915      0.000      -0.833      -0.358\n",
       "C(precinct)[T.23.0]          0.2312      0.060      3.865      0.000       0.114       0.348\n",
       "C(precinct)[T.24.0]         -0.1346      0.072     -1.881      0.060      -0.275       0.006\n",
       "C(precinct)[T.25.0]          0.3702      0.063      5.857      0.000       0.246       0.494\n",
       "C(precinct)[T.26.0]          0.4796      0.070      6.837      0.000       0.342       0.617\n",
       "C(precinct)[T.28.0]          0.1113      0.064      1.732      0.083      -0.015       0.237\n",
       "C(precinct)[T.30.0]          0.3258      0.067      4.854      0.000       0.194       0.457\n",
       "C(precinct)[T.32.0]          1.0741      0.063     17.185      0.000       0.952       1.197\n",
       "C(precinct)[T.33.0]          0.5380      0.068      7.862      0.000       0.404       0.672\n",
       "C(precinct)[T.34.0]          0.4267      0.064      6.670      0.000       0.301       0.552\n",
       "C(precinct)[T.40.0]          0.6442      0.060     10.768      0.000       0.527       0.761\n",
       "C(precinct)[T.41.0]          0.6045      0.064      9.444      0.000       0.479       0.730\n",
       "C(precinct)[T.42.0]          0.9483      0.063     14.974      0.000       0.824       1.072\n",
       "C(precinct)[T.43.0]          0.4439      0.061      7.259      0.000       0.324       0.564\n",
       "C(precinct)[T.44.0]          1.4285      0.063     22.696      0.000       1.305       1.552\n",
       "C(precinct)[T.45.0]          0.0294      0.071      0.414      0.679      -0.110       0.168\n",
       "C(precinct)[T.46.0]          1.3561      0.065     20.821      0.000       1.228       1.484\n",
       "C(precinct)[T.47.0]          0.5585      0.064      8.777      0.000       0.434       0.683\n",
       "C(precinct)[T.48.0]          0.9923      0.074     13.451      0.000       0.848       1.137\n",
       "C(precinct)[T.49.0]          0.6908      0.066     10.479      0.000       0.562       0.820\n",
       "C(precinct)[T.50.0]          0.4965      0.082      6.064      0.000       0.336       0.657\n",
       "C(precinct)[T.52.0]          1.0390      0.064     16.277      0.000       0.914       1.164\n",
       "C(precinct)[T.60.0]          0.5296      0.063      8.352      0.000       0.405       0.654\n",
       "C(precinct)[T.61.0]          0.2819      0.067      4.229      0.000       0.151       0.413\n",
       "C(precinct)[T.62.0]          0.0228      0.070      0.325      0.745      -0.114       0.160\n",
       "C(precinct)[T.63.0]          0.6564      0.076      8.590      0.000       0.507       0.806\n",
       "C(precinct)[T.66.0]          0.2061      0.075      2.737      0.006       0.059       0.354\n",
       "C(precinct)[T.67.0]          0.3268      0.062      5.303      0.000       0.206       0.448\n",
       "C(precinct)[T.68.0]          0.1223      0.079      1.553      0.120      -0.032       0.277\n",
       "C(precinct)[T.69.0]          0.2671      0.066      4.029      0.000       0.137       0.397\n",
       "C(precinct)[T.70.0]          0.4339      0.062      7.027      0.000       0.313       0.555\n",
       "C(precinct)[T.71.0]          0.1306      0.066      1.976      0.048       0.001       0.260\n",
       "C(precinct)[T.72.0]          0.6569      0.070      9.378      0.000       0.520       0.794\n",
       "C(precinct)[T.73.0]          0.1224      0.058      2.105      0.035       0.008       0.236\n",
       "C(precinct)[T.75.0]          0.3256      0.058      5.652      0.000       0.213       0.439\n",
       "C(precinct)[T.76.0]         -0.2271      0.069     -3.281      0.001      -0.363      -0.091\n",
       "C(precinct)[T.77.0]          0.2982      0.062      4.806      0.000       0.177       0.420\n",
       "C(precinct)[T.78.0]         -0.1780      0.079     -2.255      0.024      -0.333      -0.023\n",
       "C(precinct)[T.79.0]          0.0754      0.059      1.272      0.203      -0.041       0.192\n",
       "C(precinct)[T.81.0]          0.6283      0.062     10.117      0.000       0.507       0.750\n",
       "C(precinct)[T.83.0]          0.5710      0.062      9.225      0.000       0.450       0.692\n",
       "C(precinct)[T.84.0]         -0.2769      0.072     -3.839      0.000      -0.418      -0.136\n",
       "C(precinct)[T.88.0]          0.1038      0.065      1.588      0.112      -0.024       0.232\n",
       "C(precinct)[T.90.0]         -0.0557      0.061     -0.912      0.362      -0.175       0.064\n",
       "C(precinct)[T.94.0]          0.4983      0.086      5.807      0.000       0.330       0.667\n",
       "C(precinct)[T.100.0]         0.3331      0.072      4.627      0.000       0.192       0.474\n",
       "C(precinct)[T.101.0]         1.0214      0.064     16.001      0.000       0.896       1.147\n",
       "C(precinct)[T.102.0]         0.5294      0.067      7.938      0.000       0.399       0.660\n",
       "C(precinct)[T.103.0]         0.1516      0.060      2.509      0.012       0.033       0.270\n",
       "C(precinct)[T.104.0]         1.0526      0.067     15.730      0.000       0.921       1.184\n",
       "C(precinct)[T.105.0]         0.3899      0.064      6.082      0.000       0.264       0.516\n",
       "C(precinct)[T.106.0]         0.3096      0.069      4.469      0.000       0.174       0.445\n",
       "C(precinct)[T.107.0]         0.2142      0.069      3.122      0.002       0.080       0.349\n",
       "C(precinct)[T.108.0]         0.4017      0.068      5.896      0.000       0.268       0.535\n",
       "C(precinct)[T.109.0]         0.8620      0.064     13.411      0.000       0.736       0.988\n",
       "C(precinct)[T.110.0]         1.3247      0.064     20.648      0.000       1.199       1.450\n",
       "C(precinct)[T.111.0]         0.5851      0.074      7.938      0.000       0.441       0.730\n",
       "C(precinct)[T.112.0]         0.7211      0.078      9.195      0.000       0.567       0.875\n",
       "C(precinct)[T.113.0]         0.4585      0.062      7.338      0.000       0.336       0.581\n",
       "C(precinct)[T.114.0]         0.5355      0.062      8.569      0.000       0.413       0.658\n",
       "C(precinct)[T.115.0]         1.3572      0.063     21.555      0.000       1.234       1.481\n",
       "C(precinct)[T.120.0]         0.0141      0.059      0.238      0.812      -0.102       0.130\n",
       "C(precinct)[T.122.0]         0.1921      0.065      2.973      0.003       0.065       0.319\n",
       "C(precinct)[T.123.0]        -0.1843      0.083     -2.232      0.026      -0.346      -0.022\n",
       "============================================================================================\n",
       "\"\"\""
      ]
     },
     "execution_count": 9,
     "metadata": {},
     "output_type": "execute_result"
    }
   ],
   "source": [
    "import statsmodels.formula.api as smf\n",
    "\n",
    "model = smf.logit(formula='frisked ~ suspect_race + C(precinct)', data=df)\n",
    "result = model.fit()\n",
    "\n",
    "result.summary()"
   ]
  },
  {
   "cell_type": "markdown",
   "id": "e89c262b",
   "metadata": {
    "id": "xddOFV6kWvzy"
   },
   "source": [
    "We encode precinct as a categorical feature because we would like to encode each precinct as a distinct value. By controlling for precinct we can determine whether the stop and frisks are focused on certain precincts, for example areas with more blacks.\n",
    "\n",
    "By controlling for precinct, we note that the intercept and suspect race coefficients reduce significantly to negative values, while precinct coefficients are positive. This indicates that whether a stop and frisk occurs is more dependent on the precinct than the suspect's race. The coefficient for white suspects is still much smaller, which suggests that their likelihood of being stopped is small regardless of the location.\n",
    "\n",
    "**In favour of reporting results controlling for location:** we learn which precincts are more likely to do stop and frisks, which could help us locate bad practices in the police force.  \n",
    "**Against:** Without investigating the race of the inhabitants in each precinct, we might not be able to tell that racial discrimination is prevalent. The coefficients are less interpretable to determine whether there is racial discrimination."
   ]
  },
  {
   "cell_type": "markdown",
   "id": "b38726be",
   "metadata": {
    "id": "expected-whole"
   },
   "source": [
    "e. In a few sentences, explain why it is a BAD idea, conceptually, to control for the following variables if we are trying to assess whether the police racially discriminate in whom they frisk after a stop: a) \"found.weapon\", which encodes whether the frisk found a weapon, and b) \"suspect.eye\" and \"suspect.hair\", which encode the suspect's eye and hair color. (4 points)"
   ]
  },
  {
   "cell_type": "markdown",
   "id": "3b0f7f31",
   "metadata": {
    "id": "_5dWS0LAW6De"
   },
   "source": [
    "- It is a bad idea to control for whether a weapon was found after the stop because it does not assess why the police officer chose to stop and frisk a suspect in the first place\n",
    "- It's a bad idea to control for a suspect's eye and hair color because it correlates strongly with race, and if we control for them we will shift the weight of the suspect's race variable to other variables. This might underestimate the severity of the racial discrimination\n",
    "\n",
    "For the purpose of figuring out whether police are racially discriminating against subjects we should control for other factors that might explain why or how the police are racially discriminating against suspects (such as the reason for a stop and frisk or the location)."
   ]
  },
  {
   "cell_type": "markdown",
   "id": "79199c47",
   "metadata": {
    "id": "closed-difference"
   },
   "source": [
    "f. In a few sentences, explain the problem of omitted variable bias in this analysis, and how it would undermine the conclusions. (4 points)"
   ]
  },
  {
   "cell_type": "markdown",
   "id": "1c9e09d6",
   "metadata": {
    "id": "74cAqUPgW7Mu"
   },
   "source": [
    "Omitted variable bias could bias the results of the analysis towards the variables we have at hand, while leaving out underlying explanations that more accurately describe the reasons for the stop and frisks and whether it is racially discriminating. For example, if we do not control by any variables and simply conclude that police stop and frisks are racially discriminatory based on the results in a), it would be trivial to undermine our conclusions by arguing that stop and frisks are justified in targeting black suspects because they commit more a higher rate of dangerous crimes. By controlling for an omitted variable such as crimes comitted by a race we can pre-emptively strengthen the conclusion and explain that the correlation is caused by racial discrimination."
   ]
  },
  {
   "cell_type": "markdown",
   "id": "9cc71839",
   "metadata": {
    "id": "mBwIUjuRt5o2"
   },
   "source": [
    "g. In a few sentences, explain why only examining whether someone is frisked after a stop might fail to provide a full picture of discrimination in the stop and frisk policy. (4 points)"
   ]
  },
  {
   "cell_type": "markdown",
   "id": "2c441f4f",
   "metadata": {
    "id": "IuBEAzCVW7zQ"
   },
   "source": [
    "If we simply examine whether someone is frisked after a stop, we might fail to uncover discriminatory practices in the police forces' decision to target certain suspects. Considering the reason and context for a stop and frisk is important to paint a full picture of the situation. As an example, by considering the location of a stop and frisk, it might uncover that police are disproportionately targeting a neighborhood with certain demographics.  "
   ]
  },
  {
   "cell_type": "markdown",
   "id": "57d23432",
   "metadata": {
    "id": "grateful-chassis"
   },
   "source": [
    "## Outcome analysis using regularized regression (65 points)"
   ]
  },
  {
   "cell_type": "markdown",
   "id": "aed9d820",
   "metadata": {
    "id": "scientific-franchise"
   },
   "source": [
    "Because of the issues with omitted variables in analyses like the one above, *outcome* tests are often used: these look not at the rate at which a decision is made (like the decision to frisk), but at the outcome of the decision (for example, if the frisk is conducted to find a weapon, does it actually find one?) Now we will use an outcome-style analysis. Specifically, we will fit a machine learning model to predict the probability that each stop which was conducted on suspicion the pedestrian possessed a weapon actually finds a weapon. Stops which are very unlikely to find a weapon arguably violate the Fourth Amendment, which prohibits unreasonable searches; if such stops disproportionately occur of certain race groups, the policy may violate the Fourteenth Amendment, which prohibits racial discrimination. "
   ]
  },
  {
   "cell_type": "markdown",
   "id": "e2cdc85b",
   "metadata": {
    "id": "-CaMrTP0NlPY"
   },
   "source": [
    "a. In this portion of this analysis, you will be using a smaller version of the data to speed up model fitting. Load in \"small_sqf_sample\". As before, we need to do some data processing for consistency with previous of analysis of this data. Load in the data and filter for stops between 2008 and 2012 (including both 2008 and 2012); filter for stops of white, Black, and Hispanic pedestrians using the suspect_race column; and filter for stops conducted on suspicion of criminal posession of a weapon (ie, suspected_crime == 'cpw'). (5 points)"
   ]
  },
  {
   "cell_type": "code",
   "execution_count": 10,
   "id": "0ef75512",
   "metadata": {
    "id": "cDZV0_2ygaOM"
   },
   "outputs": [
    {
     "data": {
      "text/plain": [
       "(204308, 89)"
      ]
     },
     "execution_count": 10,
     "metadata": {},
     "output_type": "execute_result"
    }
   ],
   "source": [
    "df_small = pd.read_csv(\"small_sqf_sample-2.csv\")\n",
    "df_small.shape"
   ]
  },
  {
   "cell_type": "code",
   "execution_count": 11,
   "id": "c607ec03",
   "metadata": {},
   "outputs": [
    {
     "data": {
      "text/plain": [
       "(146520, 89)"
      ]
     },
     "execution_count": 11,
     "metadata": {},
     "output_type": "execute_result"
    }
   ],
   "source": [
    "df_small = df_small[(df_small.year >= 2008) & (df_small.year <= 2012)]\n",
    "df_small.shape"
   ]
  },
  {
   "cell_type": "code",
   "execution_count": 12,
   "id": "cc0cc6f5",
   "metadata": {},
   "outputs": [
    {
     "data": {
      "text/plain": [
       "(136357, 89)"
      ]
     },
     "execution_count": 12,
     "metadata": {},
     "output_type": "execute_result"
    }
   ],
   "source": [
    "df_small = df_small[df_small.suspect_race.isin(keep_races)]\n",
    "df_small.shape"
   ]
  },
  {
   "cell_type": "code",
   "execution_count": 13,
   "id": "129d83ba",
   "metadata": {},
   "outputs": [
    {
     "data": {
      "text/plain": [
       "(36271, 89)"
      ]
     },
     "execution_count": 13,
     "metadata": {},
     "output_type": "execute_result"
    }
   ],
   "source": [
    "df_small = df_small[df_small.suspected_crime == 'cpw']\n",
    "df_small.shape"
   ]
  },
  {
   "cell_type": "markdown",
   "id": "2db74949",
   "metadata": {
    "id": "confident-array"
   },
   "source": [
    "\n",
    "b. We will be fitting the regression model \n",
    "\n",
    "`found_weapon ~ C(precinct) * C(suspect_race) + C(location_housing) + C(year) + suspect_age + suspect_height + suspect_weight + suspect_sex + ADDITIONAL_CIRCUMSTANCE_COLUMNS` \n",
    "\n",
    "where ADDITIONAL_CIRCUMSTANCE_COLUMNS are any columns that begin with \"stopped_bc\" or \"additional_\" besides \"additional_other\" and \"stopped_bc_other\". You can get these columns by running\n",
    "\n",
    "`ADDITIONAL_CIRCUMSTANCE_COLUMNS = [a for a in d.columns if ('stopped_bc' in a or 'additional_' in a) and a not in (['additional_other', 'stopped_bc_other'])]`\n",
    "\n",
    "You should have 18 additional columns. These columns provide more information about the circumstances of the stop, and we include them for consistency with the original analysis and because they turn out to be important for predictive performance. \n",
    "\n",
    "Drop any rows with missing values in any of the variables you need. \n",
    "\n",
    "Now, we need to put the data into a format which sklearn can use later - ie, numpy arrays. Do this with \"patsy\" library and the \"dmatrix\" function. You can call dmatrix as follows:\n",
    "\n",
    "`sqf_X = patsy.dmatrix('C(precinct) * C(suspect_race) + C(location_housing) + C(year) + suspect_age + suspect_height + suspect_weight + suspect_sex +' + '+'.join(ADDITIONAL_CIRCUMSTANCE_COLUMNS),sqf_data, return_type='dataframe')`\n",
    "\n",
    "and it will return a dataframe on which you can fit a regression model. The first argument to dmatrix is the formula that you want to use to make the dataframe; the second argument gives patsy the data you want to use; return_type='dataframe' ensures that you get a dataframe, not a patsy object which is hard to use.\n",
    "\n",
    "Look at the output of dmatrix and explain what the columns mean. Why can't we just pass the columns from the original dataframe directly into the sklearn function? (8 points)\n"
   ]
  },
  {
   "cell_type": "code",
   "execution_count": 14,
   "id": "fdf8591b",
   "metadata": {
    "id": "n42o63nLgdET"
   },
   "outputs": [
    {
     "data": {
      "text/plain": [
       "18"
      ]
     },
     "execution_count": 14,
     "metadata": {},
     "output_type": "execute_result"
    }
   ],
   "source": [
    "ADDITIONAL_CIRCUMSTANCE_COLUMNS = [\n",
    "    a for a in df_small.columns if ('stopped_bc' in a or 'additional_' in a) and a not in (['additional_other', 'stopped_bc_other'])\n",
    "]\n",
    "\n",
    "len(ADDITIONAL_CIRCUMSTANCE_COLUMNS)"
   ]
  },
  {
   "cell_type": "code",
   "execution_count": 15,
   "id": "e94f31d1",
   "metadata": {},
   "outputs": [
    {
     "data": {
      "text/plain": [
       "['stopped_bc_object',\n",
       " 'stopped_bc_desc',\n",
       " 'stopped_bc_casing',\n",
       " 'stopped_bc_lookout',\n",
       " 'stopped_bc_clothing',\n",
       " 'stopped_bc_drugs',\n",
       " 'stopped_bc_furtive',\n",
       " 'stopped_bc_violent',\n",
       " 'stopped_bc_bulge',\n",
       " 'additional_report',\n",
       " 'additional_investigation',\n",
       " 'additional_proximity',\n",
       " 'additional_evasive',\n",
       " 'additional_associating',\n",
       " 'additional_direction',\n",
       " 'additional_highcrime',\n",
       " 'additional_time',\n",
       " 'additional_sights']"
      ]
     },
     "execution_count": 15,
     "metadata": {},
     "output_type": "execute_result"
    }
   ],
   "source": [
    "ADDITIONAL_CIRCUMSTANCE_COLUMNS"
   ]
  },
  {
   "cell_type": "code",
   "execution_count": 16,
   "id": "771d1fc5",
   "metadata": {},
   "outputs": [
    {
     "data": {
      "text/plain": [
       "(36271, 89)"
      ]
     },
     "execution_count": 16,
     "metadata": {},
     "output_type": "execute_result"
    }
   ],
   "source": [
    "df_small.shape"
   ]
  },
  {
   "cell_type": "code",
   "execution_count": 17,
   "id": "3382a252",
   "metadata": {},
   "outputs": [
    {
     "data": {
      "text/plain": [
       "(36056, 27)"
      ]
     },
     "execution_count": 17,
     "metadata": {},
     "output_type": "execute_result"
    }
   ],
   "source": [
    "ALL_COLUMNS = ADDITIONAL_CIRCUMSTANCE_COLUMNS + [\n",
    "    'precinct',\n",
    "    'found_weapon',\n",
    "    'suspect_race',\n",
    "    'location_housing',\n",
    "    'year',\n",
    "    'suspect_age',\n",
    "    'suspect_height',\n",
    "    'suspect_weight',\n",
    "    'suspect_sex',\n",
    "]\n",
    "\n",
    "df_all = df_small[ALL_COLUMNS]\n",
    "df_all = df_all.dropna()\n",
    "df_all.shape"
   ]
  },
  {
   "cell_type": "code",
   "execution_count": 18,
   "id": "d5c610a5",
   "metadata": {},
   "outputs": [
    {
     "data": {
      "text/plain": [
       "0         False\n",
       "7         False\n",
       "17        False\n",
       "20        False\n",
       "23        False\n",
       "          ...  \n",
       "204287    False\n",
       "204289    False\n",
       "204291    False\n",
       "204293    False\n",
       "204303    False\n",
       "Name: found_weapon, Length: 36056, dtype: bool"
      ]
     },
     "execution_count": 18,
     "metadata": {},
     "output_type": "execute_result"
    }
   ],
   "source": [
    "df_all.found_weapon"
   ]
  },
  {
   "cell_type": "code",
   "execution_count": 19,
   "id": "587c6e84",
   "metadata": {},
   "outputs": [],
   "source": [
    "sqf_X = patsy.dmatrix(\n",
    "    'C(precinct) * C(suspect_race) + C(location_housing) + C(year) + suspect_age + suspect_height + suspect_weight + suspect_sex +' + \n",
    "    '+'.join(ADDITIONAL_CIRCUMSTANCE_COLUMNS\n",
    "), df_all, return_type='dataframe')"
   ]
  },
  {
   "cell_type": "code",
   "execution_count": 20,
   "id": "f9f4395b",
   "metadata": {},
   "outputs": [
    {
     "data": {
      "text/plain": [
       "Index(['Intercept', 'C(precinct)[T.5.0]', 'C(precinct)[T.6.0]',\n",
       "       'C(precinct)[T.7.0]', 'C(precinct)[T.9.0]', 'C(precinct)[T.10.0]',\n",
       "       'C(precinct)[T.13.0]', 'C(precinct)[T.14.0]', 'C(precinct)[T.17.0]',\n",
       "       'C(precinct)[T.18.0]',\n",
       "       ...\n",
       "       'C(precinct)[T.112.0]:C(suspect_race)[T.white]',\n",
       "       'C(precinct)[T.113.0]:C(suspect_race)[T.white]',\n",
       "       'C(precinct)[T.114.0]:C(suspect_race)[T.white]',\n",
       "       'C(precinct)[T.115.0]:C(suspect_race)[T.white]',\n",
       "       'C(precinct)[T.120.0]:C(suspect_race)[T.white]',\n",
       "       'C(precinct)[T.122.0]:C(suspect_race)[T.white]',\n",
       "       'C(precinct)[T.123.0]:C(suspect_race)[T.white]', 'suspect_age',\n",
       "       'suspect_height', 'suspect_weight'],\n",
       "      dtype='object', length=256)"
      ]
     },
     "execution_count": 20,
     "metadata": {},
     "output_type": "execute_result"
    }
   ],
   "source": [
    "sqf_X.columns"
   ]
  },
  {
   "cell_type": "markdown",
   "id": "abfce245",
   "metadata": {
    "id": "N3N-RXXKX1PQ"
   },
   "source": [
    "In `sqf_X`, we notice that categorical columns have been dummy encoded, such that they are numeric. In this way, they can be interpreted by the logistic regression model. If we were to just feed the original columns to the `sklearn` model, this would not be the case. "
   ]
  },
  {
   "cell_type": "markdown",
   "id": "8d2df920",
   "metadata": {
    "id": "AAib9e-WfUdF"
   },
   "source": [
    "c. As discussed in class, when fitting machine learning models, you should always divide the dataset into a train, val, and test set. Randomly divide the filtered, processed data into three pieces - the train set (60%), the val set (20%) and the test set (20%). (5 points)"
   ]
  },
  {
   "cell_type": "code",
   "execution_count": 21,
   "id": "e0d486b5",
   "metadata": {
    "id": "ditQALf_geMN"
   },
   "outputs": [
    {
     "data": {
      "text/plain": [
       "(21634, 256)"
      ]
     },
     "execution_count": 21,
     "metadata": {},
     "output_type": "execute_result"
    }
   ],
   "source": [
    "sqf_X_train = sqf_X.sample(frac=0.6)\n",
    "sqf_X_train.shape"
   ]
  },
  {
   "cell_type": "code",
   "execution_count": 22,
   "id": "f8ad5333",
   "metadata": {},
   "outputs": [
    {
     "data": {
      "text/plain": [
       "((21634, 256), (7211, 256), (7211, 256))"
      ]
     },
     "execution_count": 22,
     "metadata": {},
     "output_type": "execute_result"
    }
   ],
   "source": [
    "train_indices = sqf_X_train.index\n",
    "sqf_X_left = sqf_X[~sqf_X.index.isin(train_indices)]\n",
    "\n",
    "sqf_X_val = sqf_X_left.sample(frac=0.5)\n",
    "sqf_X_test = sqf_X_left[~sqf_X_left.index.isin(sqf_X_val.index)]\n",
    "\n",
    "val_indices = sqf_X_val.index\n",
    "test_indices = sqf_X_test.index\n",
    "\n",
    "(sqf_X_train.shape, sqf_X_val.shape, sqf_X_test.shape)"
   ]
  },
  {
   "cell_type": "code",
   "execution_count": 23,
   "id": "649f7f20",
   "metadata": {},
   "outputs": [
    {
     "data": {
      "text/plain": [
       "0         black\n",
       "42     hispanic\n",
       "61     hispanic\n",
       "83        black\n",
       "101       black\n",
       "Name: suspect_race, dtype: object"
      ]
     },
     "execution_count": 23,
     "metadata": {},
     "output_type": "execute_result"
    }
   ],
   "source": [
    "y_test_race = df_all.suspect_race.loc[test_indices]\n",
    "y_test_race.head()"
   ]
  },
  {
   "cell_type": "code",
   "execution_count": 24,
   "id": "e7a99d00",
   "metadata": {},
   "outputs": [
    {
     "data": {
      "text/plain": [
       "78630     False\n",
       "140970    False\n",
       "172829    False\n",
       "7830      False\n",
       "104352    False\n",
       "Name: found_weapon, dtype: bool"
      ]
     },
     "execution_count": 24,
     "metadata": {},
     "output_type": "execute_result"
    }
   ],
   "source": [
    "y_train = df_all.found_weapon.loc[train_indices]\n",
    "y_train.head()"
   ]
  },
  {
   "cell_type": "code",
   "execution_count": 25,
   "id": "686a3583",
   "metadata": {},
   "outputs": [
    {
     "data": {
      "text/plain": [
       "((7211,), (7211,))"
      ]
     },
     "execution_count": 25,
     "metadata": {},
     "output_type": "execute_result"
    }
   ],
   "source": [
    "y_val = df_all.found_weapon.loc[val_indices]\n",
    "y_test = df_all.found_weapon.loc[test_indices]\n",
    "\n",
    "(y_val.shape, y_test.shape)"
   ]
  },
  {
   "cell_type": "markdown",
   "id": "4b5c2c86",
   "metadata": {
    "id": "MWZp2Jw7TKVm"
   },
   "source": [
    "d. We will be training a regularized logistic regression model to predict the outcome. When using many machine learning models, including regularized logistic regression, it is important to preprocess the input features so they are all on the same scale, for reasons discussed in class. In this case, we will take each column in the input data, subtract its mean, and divide by its standard deviation. This makes it so each column of the data has mean 0 and standard deviation 1. \n",
    "\n",
    "When scaling the data, it is important to compute the scaling using only the train set, as shown in class. The reason is that we are pretending that the train data is all we have access to to fit our model fitting pipeline, so we cannot \"peek\" at the validation or test sets to generate our scaling. Use sklearn's StandardScaler (https://scikit-learn.org/stable/modules/generated/sklearn.preprocessing.StandardScaler.html) to fit a scaling transform on the train set and transform the train set (you can use the fit_transform method on the train set).Then apply the fitted StandardScaler model to the validation and test sets as well (using the transform --- not the fit --- method). (Look at the notebook we went through in class on regularization and lasso if you are confused.) The transformed datasets are the final datasets you will feed into your logistic regression model. (5 points)"
   ]
  },
  {
   "cell_type": "code",
   "execution_count": 26,
   "id": "2e99d281",
   "metadata": {
    "id": "FyVKwlbjgffV"
   },
   "outputs": [],
   "source": [
    "from sklearn.preprocessing import StandardScaler\n",
    "\n",
    "scaler = StandardScaler()\n",
    "scaler.fit(sqf_X_train)\n",
    "\n",
    "sqf_X_train = scaler.transform(sqf_X_train)\n",
    "sqf_X_val = scaler.transform(sqf_X_val)\n",
    "sqf_X_test = scaler.transform(sqf_X_test)"
   ]
  },
  {
   "cell_type": "markdown",
   "id": "a0761bbe",
   "metadata": {
    "id": "involved-implement"
   },
   "source": [
    "e. Uisng sklearn.linear_model.LogisticRegression, fit a model on the train set to predict found_weapon. Set the \"penalty\" argument to \"none\" so that the model will not use any regularization; this corresponds to fitting a regular logistic regression model. If you get a `ConvergenceWarning`, increase the number of iterations using the `max_iter` argument; this means the model optimization needs more iterations to converge. (Look at the [documentation](https://scikit-learn.org/stable/modules/generated/sklearn.linear_model.LogisticRegression.html) if you are uncertain which arguments to use!)\n",
    "\n",
    "A standard measure of predictive performance for binary outcome variables like found_weapon is AUC. Higher values of AUC are better; an AUC of 1 means that the model is perfectly predicting the outcome; an AUC of 0.5 means that it is predicting it only as well as random chance. Report the AUC of the fitted model (https://scikit-learn.org/stable/modules/generated/sklearn.metrics.roc_auc_score.html) on both the train and validation sets. What is the problem with using accuracy as a metric for this task? How does the train set AUC differ from the validation AUC, and does this make sense? (7 points)"
   ]
  },
  {
   "cell_type": "code",
   "execution_count": 27,
   "id": "e1a6e04a",
   "metadata": {
    "id": "ExHdN87ggimI"
   },
   "outputs": [],
   "source": [
    "from sklearn.linear_model import LogisticRegression\n",
    "\n",
    "clf = LogisticRegression(penalty='none', max_iter=2000)"
   ]
  },
  {
   "cell_type": "code",
   "execution_count": 28,
   "id": "71a7173e",
   "metadata": {},
   "outputs": [
    {
     "data": {
      "text/plain": [
       "LogisticRegression(max_iter=2000, penalty='none')"
      ]
     },
     "execution_count": 28,
     "metadata": {},
     "output_type": "execute_result"
    }
   ],
   "source": [
    "clf.fit(sqf_X_train, y_train)"
   ]
  },
  {
   "cell_type": "code",
   "execution_count": 29,
   "id": "6101c352",
   "metadata": {},
   "outputs": [
    {
     "name": "stdout",
     "output_type": "stream",
     "text": [
      "The AUC of the training set is 0.833\n",
      "The AUC of the val set is 0.727\n"
     ]
    }
   ],
   "source": [
    "from sklearn.metrics import roc_auc_score\n",
    "\n",
    "auc_train = roc_auc_score(y_train, clf.predict_proba(sqf_X_train)[:, 1])\n",
    "auc_val = roc_auc_score(y_val, clf.predict_proba(sqf_X_val)[:, 1])\n",
    "\n",
    "print(\"The AUC of the training set is\", round(auc_train, 3))\n",
    "print(\"The AUC of the val set is\", round(auc_val, 3))"
   ]
  },
  {
   "cell_type": "code",
   "execution_count": 30,
   "id": "1115680e",
   "metadata": {},
   "outputs": [
    {
     "data": {
      "text/plain": [
       "False    0.965517\n",
       "True     0.034483\n",
       "Name: found_weapon, dtype: float64"
      ]
     },
     "execution_count": 30,
     "metadata": {},
     "output_type": "execute_result"
    }
   ],
   "source": [
    "y_train.value_counts(normalize=True)"
   ]
  },
  {
   "cell_type": "markdown",
   "id": "f28c9e12",
   "metadata": {
    "id": "1Ep5iHbBhn1z"
   },
   "source": [
    "- **What is the problem of using accuracy as a metric for this task?** The prediction label (`found_weapon`) is heavily imbalanced: in only 3% of cases, a weapon is found. A model, which always predicts `False`, would thus be able to achieve an accuracy of 97%. The AUC metric, instead, accounts for the fact that the labels are imbalanced, and thus gives a better metric of success of the model.\n",
    "- **How does the training set AUC differ from the validation AUC, and does this make sense?** The training AUC is higher than the validation AUC, by about 0.07. This is to be expected. After all, the model has been trained on the training set, and thus should be better at predicting the training samples. The model has never seen the validation set, as a result of which we expect the model to perform (slightly) worse here. "
   ]
  },
  {
   "cell_type": "markdown",
   "id": "17eb9912",
   "metadata": {
    "id": "eight-absorption"
   },
   "source": [
    "f. Our logistic regression model is not using any regularization and appears to be overfitting. We will try to use regularization to reduce overfitting. You will be fitting an L1-penalized logistic regression model using code that looks something like\n",
    "\n",
    "`LogisticRegression(C=sparsity_param, penalty='l1', solver='liblinear')`\n",
    "\n",
    "(the \"l1\" specifies that we're using an L1 penalty, as discussed in class; the \"liblinear\" solver is an optimizer that works with the L1 penalty. See the logistic regression documentation for more details.) \n",
    "\n",
    "Increase and decrease the amount of regularization using different values of the C parameter, searching logarithmically over at least 20 values in the range from 1e-2 to 1. (Note: we do not recommend defining a variable named \"C\" in your code, because this may cause weird patsy issues, since patsy also uses \"C\". Give the variable another name. Sorry! I complained to the patsy people.) \n",
    "\n",
    "Print out the train set, val set, and test set AUC for each value of of the regularization parameter. Make a plot where the x-axis is the regularization parameter and the y-axis is AUC, with one line for train AUC, one line for val AUC, and one line for test AUC (use plt.semilogx to plot the lines so the x-axis will be logarithmic, making it easier to see the plot). Comment on the trends. Do you see evidence of overfitting? Explain. For the rest of this assignment, use the model with the highest AUC on the validation set. (10 points)\n",
    "\n",
    "In a full analysis, it would make sense to play with other aspects of the model as well: for example, you could try using other forms of regularization (like L1 vs L2) or other classification algorithms besides logistic regression. The basic pattern, though, would be the same: fit the model on the train set, choose models on the val set, and once you've chosen your best model, assess your results (once!) on the test set."
   ]
  },
  {
   "cell_type": "code",
   "execution_count": 31,
   "id": "3bebff8d",
   "metadata": {},
   "outputs": [],
   "source": [
    "C_values = [\n",
    "    1e-2,\n",
    "    2e-2,\n",
    "    3e-2,\n",
    "    4e-2,\n",
    "    5e-2,\n",
    "    6e-2,\n",
    "    7e-2,\n",
    "    8e-2,\n",
    "    9e-2,\n",
    "    1e-1,\n",
    "    2e-1,\n",
    "    3e-1,\n",
    "    4e-1,\n",
    "    5e-1,\n",
    "    6e-1,\n",
    "    7e-1,\n",
    "    8e-1,\n",
    "    9e-1,\n",
    "    1\n",
    "]"
   ]
  },
  {
   "cell_type": "code",
   "execution_count": 32,
   "id": "4bca47bb",
   "metadata": {},
   "outputs": [],
   "source": [
    "train_aucs = []\n",
    "val_aucs = []\n",
    "test_aucs = []\n",
    "\n",
    "for C_value in C_values:\n",
    "    clf_l1 = LogisticRegression(C=C_value, penalty='l1', solver='liblinear', max_iter=2000)\n",
    "    clf_l1.fit(sqf_X_train, y_train)\n",
    "    auc_train = roc_auc_score(y_train, clf_l1.predict_proba(sqf_X_train)[:, 1])\n",
    "    auc_val = roc_auc_score(y_val, clf_l1.predict_proba(sqf_X_val)[:, 1])\n",
    "    auc_test = roc_auc_score(y_test, clf_l1.predict_proba(sqf_X_test)[:, 1])\n",
    "    train_aucs.append(auc_train)\n",
    "    val_aucs.append(auc_val)\n",
    "    test_aucs.append(auc_test)\n",
    "    "
   ]
  },
  {
   "cell_type": "code",
   "execution_count": 33,
   "id": "80dd9e92",
   "metadata": {},
   "outputs": [
    {
     "data": {
      "text/plain": [
       "<matplotlib.legend.Legend at 0x125f27e20>"
      ]
     },
     "execution_count": 33,
     "metadata": {},
     "output_type": "execute_result"
    },
    {
     "data": {
      "image/png": "[encoded data removed]",
      "text/plain": [
       "<Figure size 720x360 with 1 Axes>"
      ]
     },
     "metadata": {
      "needs_background": "light"
     },
     "output_type": "display_data"
    }
   ],
   "source": [
    "import matplotlib.pyplot as plt\n",
    "\n",
    "fig, ax = plt.subplots(figsize=(10, 5))\n",
    "ax.semilogx(C_values, train_aucs, label='Training set')\n",
    "ax.semilogx(C_values, val_aucs, label='Validation set')\n",
    "ax.semilogx(C_values, test_aucs, label='Test set')\n",
    "ax.set_xlabel(\"Regularization parameter C\")\n",
    "ax.set_ylabel(\"AUC\")\n",
    "ax.legend()"
   ]
  },
  {
   "cell_type": "markdown",
   "id": "ce062756",
   "metadata": {},
   "source": [
    "**Analysis**: we notice that, the higher the value of the `C` parameter, the higher the AUC value for the training set. At the same time, this behaviour does not hold for the validation and test set. Initially, we see their AUC value increase, but as some point (around `C=0.1`), their AUC decreases. This indicates that, for values of `C` higher than 0.1, overfitting does indeed take place. "
   ]
  },
  {
   "cell_type": "code",
   "execution_count": 43,
   "id": "6281d459",
   "metadata": {},
   "outputs": [
    {
     "data": {
      "text/plain": [
       "[0.7445940407175897,\n",
       " 0.7698364185719078,\n",
       " 0.7759853392108782,\n",
       " 0.7786769500077958,\n",
       " 0.7791833803442426,\n",
       " 0.7788148526125308,\n",
       " 0.7766243568482375,\n",
       " 0.7747651816888964,\n",
       " 0.7730719621266885,\n",
       " 0.7717726656366789,\n",
       " 0.7645574359919303,\n",
       " 0.7620905444288528,\n",
       " 0.7601699479808933,\n",
       " 0.7583727846994844,\n",
       " 0.7567238593357996,\n",
       " 0.755143442332497,\n",
       " 0.7537000420499592,\n",
       " 0.7524113761675951,\n",
       " 0.7512922094182458]"
      ]
     },
     "execution_count": 43,
     "metadata": {},
     "output_type": "execute_result"
    }
   ],
   "source": [
    "val_aucs"
   ]
  },
  {
   "cell_type": "code",
   "execution_count": 47,
   "id": "b0d79f3f",
   "metadata": {},
   "outputs": [
    {
     "data": {
      "text/plain": [
       "4"
      ]
     },
     "execution_count": 47,
     "metadata": {},
     "output_type": "execute_result"
    }
   ],
   "source": [
    "[i for i,j in enumerate(val_aucs) if j == max_val][0]"
   ]
  },
  {
   "cell_type": "code",
   "execution_count": 48,
   "id": "17681af2",
   "metadata": {},
   "outputs": [
    {
     "data": {
      "text/plain": [
       "0.05"
      ]
     },
     "execution_count": 48,
     "metadata": {},
     "output_type": "execute_result"
    }
   ],
   "source": [
    "max_val = max(val_aucs)\n",
    "argmax = [i for i,j in enumerate(val_aucs) if j == max_val][0]\n",
    "best_C = C_values[int(argmax)]\n",
    "\n",
    "best_C"
   ]
  },
  {
   "cell_type": "markdown",
   "id": "0f11bf9e",
   "metadata": {
    "id": "antique-connection"
   },
   "source": [
    "g. Assess model *calibration* on the test set. This checks whether the model's predicted probabilities line up with the true probabilities, and is important to assess here because we will be analyzing the model's predicted probabilities. To assess calibration, take the 10% of rows of the test set with the highest model predictions and compare the mean model predicted probability (ie, the output of `predict_proba`) to the actual mean of the outcome variable. Repeat for the next 10% of rows, and for all 10% groups. Make a plot comparing the model predicted probabilities on each 10% group to the actual outcomes (mean predicted probability on the x-axis and mean actual outcome on the y-axis). You should end up with a plot with 10 points, one for each 10% group. Plot the line y=x so you can see how well the predicted probabilities line up with the actual probabilities - ideally, your points will lie on the line or close to it. (10 points)\n",
    "\n",
    "Calibration is an issue for many machine learning models, including deep learning models, so this is always a good thing to check. In a full analysis, it would make sense to check calibration (and AUC) for subgroups as well (eg, each race group)."
   ]
  },
  {
   "cell_type": "code",
   "execution_count": 49,
   "id": "1f92bbd6",
   "metadata": {},
   "outputs": [
    {
     "data": {
      "text/html": [
       "<div>\n",
       "<style scoped>\n",
       "    .dataframe tbody tr th:only-of-type {\n",
       "        vertical-align: middle;\n",
       "    }\n",
       "\n",
       "    .dataframe tbody tr th {\n",
       "        vertical-align: top;\n",
       "    }\n",
       "\n",
       "    .dataframe thead th {\n",
       "        text-align: right;\n",
       "    }\n",
       "</style>\n",
       "<table border=\"1\" class=\"dataframe\">\n",
       "  <thead>\n",
       "    <tr style=\"text-align: right;\">\n",
       "      <th></th>\n",
       "      <th>found_weapon</th>\n",
       "      <th>pred</th>\n",
       "    </tr>\n",
       "  </thead>\n",
       "  <tbody>\n",
       "    <tr>\n",
       "      <th>0</th>\n",
       "      <td>False</td>\n",
       "      <td>0.032528</td>\n",
       "    </tr>\n",
       "    <tr>\n",
       "      <th>42</th>\n",
       "      <td>False</td>\n",
       "      <td>0.016828</td>\n",
       "    </tr>\n",
       "    <tr>\n",
       "      <th>61</th>\n",
       "      <td>False</td>\n",
       "      <td>0.010441</td>\n",
       "    </tr>\n",
       "    <tr>\n",
       "      <th>83</th>\n",
       "      <td>False</td>\n",
       "      <td>0.024363</td>\n",
       "    </tr>\n",
       "    <tr>\n",
       "      <th>101</th>\n",
       "      <td>False</td>\n",
       "      <td>0.036032</td>\n",
       "    </tr>\n",
       "  </tbody>\n",
       "</table>\n",
       "</div>"
      ],
      "text/plain": [
       "     found_weapon      pred\n",
       "0           False  0.032528\n",
       "42          False  0.016828\n",
       "61          False  0.010441\n",
       "83          False  0.024363\n",
       "101         False  0.036032"
      ]
     },
     "execution_count": 49,
     "metadata": {},
     "output_type": "execute_result"
    }
   ],
   "source": [
    "clf_l1 = LogisticRegression(C=best_C, penalty='l1', solver='liblinear', max_iter=2000)\n",
    "clf_l1.fit(sqf_X_train, y_train)\n",
    "\n",
    "y_test_pred = pd.Series(clf_l1.predict_proba(sqf_X_test)[:, 1], index=y_test.index)\n",
    "y_test_pred.name = \"pred\"\n",
    "y_test_results = y_test.copy()\n",
    "\n",
    "y_test_results = pd.concat([y_test_results, y_test_pred], axis=1)\n",
    "y_test_results.head()\n"
   ]
  },
  {
   "cell_type": "code",
   "execution_count": 50,
   "id": "09e64ff2",
   "metadata": {},
   "outputs": [
    {
     "data": {
      "text/html": [
       "<div>\n",
       "<style scoped>\n",
       "    .dataframe tbody tr th:only-of-type {\n",
       "        vertical-align: middle;\n",
       "    }\n",
       "\n",
       "    .dataframe tbody tr th {\n",
       "        vertical-align: top;\n",
       "    }\n",
       "\n",
       "    .dataframe thead th {\n",
       "        text-align: right;\n",
       "    }\n",
       "</style>\n",
       "<table border=\"1\" class=\"dataframe\">\n",
       "  <thead>\n",
       "    <tr style=\"text-align: right;\">\n",
       "      <th></th>\n",
       "      <th>found_weapon</th>\n",
       "      <th>pred</th>\n",
       "    </tr>\n",
       "  </thead>\n",
       "  <tbody>\n",
       "    <tr>\n",
       "      <th>142568</th>\n",
       "      <td>True</td>\n",
       "      <td>0.934061</td>\n",
       "    </tr>\n",
       "    <tr>\n",
       "      <th>166365</th>\n",
       "      <td>False</td>\n",
       "      <td>0.914787</td>\n",
       "    </tr>\n",
       "    <tr>\n",
       "      <th>196743</th>\n",
       "      <td>True</td>\n",
       "      <td>0.892607</td>\n",
       "    </tr>\n",
       "    <tr>\n",
       "      <th>17784</th>\n",
       "      <td>True</td>\n",
       "      <td>0.851492</td>\n",
       "    </tr>\n",
       "    <tr>\n",
       "      <th>30290</th>\n",
       "      <td>True</td>\n",
       "      <td>0.803609</td>\n",
       "    </tr>\n",
       "  </tbody>\n",
       "</table>\n",
       "</div>"
      ],
      "text/plain": [
       "        found_weapon      pred\n",
       "142568          True  0.934061\n",
       "166365         False  0.914787\n",
       "196743          True  0.892607\n",
       "17784           True  0.851492\n",
       "30290           True  0.803609"
      ]
     },
     "execution_count": 50,
     "metadata": {},
     "output_type": "execute_result"
    }
   ],
   "source": [
    "y_test_results = y_test_results.sort_values(by='pred', ascending=False)\n",
    "y_test_results.head()"
   ]
  },
  {
   "cell_type": "code",
   "execution_count": 51,
   "id": "0b81f584",
   "metadata": {},
   "outputs": [],
   "source": [
    "share = round(y_test_results.shape[0] / 10)\n",
    "start = 0\n",
    "\n",
    "means = []\n",
    "pred_probas = []\n",
    "\n",
    "for i in range(10):\n",
    "    times = i+1\n",
    "    if i == 9:\n",
    "        subset = y_test_results[start:]\n",
    "    else:\n",
    "        subset = y_test_results[start:share*times]\n",
    "    pred_proba = subset.pred.mean()\n",
    "    mean = subset.found_weapon.mean()\n",
    "    means.append(mean)\n",
    "    pred_probas.append(pred_proba)\n",
    "    start+= share"
   ]
  },
  {
   "cell_type": "code",
   "execution_count": 52,
   "id": "b3fafc4f",
   "metadata": {},
   "outputs": [
    {
     "data": {
      "text/plain": [
       "<matplotlib.legend.Legend at 0x127f7a700>"
      ]
     },
     "execution_count": 52,
     "metadata": {},
     "output_type": "execute_result"
    },
    {
     "data": {
      "image/png": "[encoded data removed]",
      "text/plain": [
       "<Figure size 576x576 with 1 Axes>"
      ]
     },
     "metadata": {
      "needs_background": "light"
     },
     "output_type": "display_data"
    }
   ],
   "source": [
    "fig, ax = plt.subplots(figsize=(8,8))\n",
    "\n",
    "ax.plot(pred_probas, means, label=\"probability of found_weapon\")\n",
    "\n",
    "lims = [\n",
    "    np.min([ax.get_xlim(), ax.get_ylim()]),  # min of both axes\n",
    "    np.max([ax.get_xlim(), ax.get_ylim()]),  # max of both axes\n",
    "]\n",
    "ax.plot(lims, lims, 'k-', alpha=0.75, zorder=0, label=\"y=x\")\n",
    "ax.set_xlim(lims)\n",
    "ax.set_ylim(lims)\n",
    "ax.legend()"
   ]
  },
  {
   "cell_type": "markdown",
   "id": "4fac4ebf",
   "metadata": {
    "id": "frozen-apollo"
   },
   "source": [
    "h. Using the test set, compute the fraction of observations which have lower than a 2% model-predicted probability of finding a weapon for Black, Hispanic, and white pedestrians. Stops below this threshold are extremely unlikely to have resulted in finding a weapon, arguably violating the Fourth Amendment. Repeat this for 20 thresholds evenly spaced between 1% and 5%. Make a graph where the x-axis is the threshold, and the y-axis is the fraction of stops falling below that threshold, with one line for each race group. Explain what you observe. Do you think this graph provides evidence for Fourteenth Amendment violations (racial discrimination)? (10 points)"
   ]
  },
  {
   "cell_type": "code",
   "execution_count": 53,
   "id": "967c0409",
   "metadata": {},
   "outputs": [
    {
     "name": "stdout",
     "output_type": "stream",
     "text": [
      "Black stops under 2% threshold 0.6306928556011224\n",
      "White stops under 2% threshold 0.15570934256055363\n",
      "Hispanic stops under 2% threhsold 0.5024027959807776\n"
     ]
    }
   ],
   "source": [
    "threshold = 0.02\n",
    "\n",
    "total_black_stops = y_test_race[y_test_race == 'black'].shape[0]\n",
    "total_white_stops = y_test_race[y_test_race == 'white'].shape[0]\n",
    "total_hispanic_stops = y_test_race[y_test_race == 'hispanic'].shape[0]\n",
    "\n",
    "sub_results = y_test_results[y_test_results.pred < threshold]\n",
    "relevant_index = sub_results.index\n",
    "relevant_race = df_all.loc[relevant_index, 'suspect_race']\n",
    "total_black = relevant_race[relevant_race == 'black'].shape[0]\n",
    "total_white = relevant_race[relevant_race == 'white'].shape[0]\n",
    "total_hispanic = relevant_race[relevant_race == 'hispanic'].shape[0]\n",
    "\n",
    "print(\"Black stops under 2% threshold\", total_black / total_black_stops)\n",
    "print(\"White stops under 2% threshold\", total_white / total_white_stops)\n",
    "print(\"Hispanic stops under 2% threhsold\", total_hispanic / total_hispanic_stops)"
   ]
  },
  {
   "cell_type": "code",
   "execution_count": 54,
   "id": "33277e3b",
   "metadata": {},
   "outputs": [
    {
     "data": {
      "text/plain": [
       "(0.01, 0.05)"
      ]
     },
     "execution_count": 54,
     "metadata": {},
     "output_type": "execute_result"
    }
   ],
   "source": [
    "steps = [(i/5 + 1)/100 for i in range(21)]\n",
    "(min(steps), max(steps))"
   ]
  },
  {
   "cell_type": "code",
   "execution_count": 55,
   "id": "d3267b72",
   "metadata": {},
   "outputs": [],
   "source": [
    "total_black_stops = y_test_race[y_test_race == 'black'].shape[0]\n",
    "total_white_stops = y_test_race[y_test_race == 'white'].shape[0]\n",
    "total_hispanic_stops = y_test_race[y_test_race == 'hispanic'].shape[0]\n",
    "\n",
    "black_stops = []\n",
    "white_stops = []\n",
    "hispanic_stops = []\n",
    "\n",
    "for step in steps:\n",
    "    sub_results = y_test_results[y_test_results.pred < step]\n",
    "    relevant_index = sub_results.index\n",
    "    relevant_race = df_all.loc[relevant_index, 'suspect_race']\n",
    "    total_black = relevant_race[relevant_race == 'black'].shape[0]\n",
    "    total_white = relevant_race[relevant_race == 'white'].shape[0]\n",
    "    total_hispanic = relevant_race[relevant_race == 'hispanic'].shape[0]\n",
    "\n",
    "    black_stops.append(total_black / total_black_stops)\n",
    "    white_stops.append(total_white / total_white_stops)\n",
    "    hispanic_stops.append(total_hispanic / total_hispanic_stops)"
   ]
  },
  {
   "cell_type": "code",
   "execution_count": 56,
   "id": "b70c40b9",
   "metadata": {},
   "outputs": [
    {
     "data": {
      "text/plain": [
       "<matplotlib.legend.Legend at 0x126fd9670>"
      ]
     },
     "execution_count": 56,
     "metadata": {},
     "output_type": "execute_result"
    },
    {
     "data": {
      "image/png": "[encoded data removed]",
      "text/plain": [
       "<Figure size 720x504 with 1 Axes>"
      ]
     },
     "metadata": {
      "needs_background": "light"
     },
     "output_type": "display_data"
    }
   ],
   "source": [
    "fig, ax = plt.subplots(figsize=(10, 7))\n",
    "\n",
    "ax.plot(steps, black_stops, label=\"Black\")\n",
    "ax.plot(steps, white_stops, label=\"White\")\n",
    "ax.plot(steps, hispanic_stops, label=\"Hispanic\")\n",
    "\n",
    "ax.set_xlabel(\"Predicted probability of weapon presence\")\n",
    "ax.set_ylabel(\"Share of stops\")\n",
    "\n",
    "ax.legend()"
   ]
  },
  {
   "cell_type": "markdown",
   "id": "9c32c121",
   "metadata": {},
   "source": [
    "We notice that, for an equal predicted probability of weapon presence, white people are less likely to be stopped than black and hispanic people. Additionally, while the relationship between the variables for white people appears to be linear, we notice that, even for low values of predicted presence of a weapon, the rates of stops for black and hispanic people increase sharply. For comparison, according to our model 63% and 50% of stop and frisks had less than 2% probability of weapon presence for black and hispanic suspects compared to 16% for white suspects. \n",
    "\n",
    "Given that we have controlled for certain variables (such as location and sex), this suggests that the stops are racially discriminatory against blacks and hispanics and could be used as evidence for arguing that there is a Fourteenth Amendment violation by the NYPD because similarly situated suspects are disproportionately targeted in stop and frisks depending on their race."
   ]
  },
  {
   "cell_type": "markdown",
   "id": "ba4e512e",
   "metadata": {
    "id": "organized-luxembourg"
   },
   "source": [
    "i. The analysis you have performed in the second part of this assignment is very similar to the analysis in [this paper](https://5harad.com/papers/stop-and-frisk.pdf). Read the paper and write a few sentences about their main conclusions. (5 points)"
   ]
  },
  {
   "cell_type": "markdown",
   "id": "b33289d6",
   "metadata": {},
   "source": [
    "Similar to our analysis, Goel et al. find that for 40% of stop and frisk cases conducted by NYPD between 2008 and 2012 there was less than 1% likelihood of finding a weapon, and in these \"low hit rate contexts\" blacks and Hispanics were disproportionately stopped. Furthermore, they find that a large proportion of these low threshold stops (regardless of race) occur in high-crime, predominantly minority areas. Beyond noting the racial disparity in stop and frisks, the authors demonstrate that by conducting only 6% of stops NYPD could recover the majority (50%) of weapons and mitigate racial disparities in who is stopped. They develop this model based on simple heuristics that could be easily implemented in the police force to inform their stop and frisk strategy."
   ]
  }
 ],
 "metadata": {
  "colab": {
   "collapsed_sections": [],
   "name": "Assignment 4.ipynb",
   "provenance": []
  },
  "interpreter": {
   "hash": "d06db2dd0ed2748016d53c42457896c61f2017719ef747483559390d471eac89"
  },
  "kernelspec": {
   "display_name": "Python 3",
   "language": "python",
   "name": "python3"
  },
  "language_info": {
   "codemirror_mode": {
    "name": "ipython",
    "version": 3
   },
   "file_extension": ".py",
   "mimetype": "text/x-python",
   "name": "python",
   "nbconvert_exporter": "python",
   "pygments_lexer": "ipython3",
   "version": "3.8.8"
  }
 },
 "nbformat": 4,
 "nbformat_minor": 5
}
